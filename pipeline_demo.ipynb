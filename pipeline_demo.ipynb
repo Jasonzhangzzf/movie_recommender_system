{
 "cells": [
  {
   "cell_type": "code",
   "execution_count": 163,
   "id": "1112e3de",
   "metadata": {
    "ExecuteTime": {
     "end_time": "2022-12-26T00:44:44.358190Z",
     "start_time": "2022-12-26T00:44:44.341248Z"
    }
   },
   "outputs": [],
   "source": [
    "import pandas as pd\n",
    "import numpy as np\n",
    "import tensorflow as tf\n",
    "from tensorflow.keras import backend as K\n",
    "from sentence_transformers import SentenceTransformer, util\n",
    "import torch\n",
    "\n",
    "def rmse(y_true, y_pred):\n",
    "    return K.sqrt(K.mean(K.square(y_pred - y_true)))\n",
    "\n",
    "import pickle\n",
    "def save_pickle(model, filename):\n",
    "    with open(filename, 'wb') as f:\n",
    "        pickle.dump(model, f)\n",
    "def load_pickle(filename):\n",
    "    with open(filename, 'rb') as f:\n",
    "        return pickle.load(f)"
   ]
  },
  {
   "cell_type": "markdown",
   "id": "7b3f8765",
   "metadata": {},
   "source": [
    "The notebook demonstrates how to build a simple recommender system using retrieval model and ranking model trained before, plus plot embedding in retrieval as well.\n",
    "\n",
    "The input is a tuple (userId, timestamp) and the output is top 5 movie recommendations.\n",
    "\n",
    "It solves such question: which movies would you recommend to user X at timestamp Y after user X has watched a list of movies Z? "
   ]
  },
  {
   "cell_type": "markdown",
   "id": "af8157cc",
   "metadata": {},
   "source": [
    "#### Load dataset and models, and do preprocessing"
   ]
  },
  {
   "cell_type": "code",
   "execution_count": 382,
   "id": "95d2fc80",
   "metadata": {
    "ExecuteTime": {
     "end_time": "2022-12-26T03:06:01.768080Z",
     "start_time": "2022-12-26T03:05:48.434186Z"
    }
   },
   "outputs": [
    {
     "name": "stdout",
     "output_type": "stream",
     "text": [
      "WARNING:tensorflow:No training configuration found in save file, so the model was *not* compiled. Compile it manually.\n",
      "WARNING:tensorflow:No training configuration found in save file, so the model was *not* compiled. Compile it manually.\n"
     ]
    }
   ],
   "source": [
    "# Load data\n",
    "data = load_pickle('data.pickle')\n",
    "\n",
    "# Load sentence transformer model\n",
    "st_model = SentenceTransformer('all-MiniLM-L6-v2')\n",
    "\n",
    "# Load retrieval model\n",
    "neuralCF = tf.keras.models.load_model('neuralCF')\n",
    "neuralCF.compile(\n",
    "    loss=rmse,\n",
    "    optimizer='adam'\n",
    ")\n",
    "\n",
    "# Load ranking model \n",
    "deepfm = tf.keras.models.load_model('deepfm')\n",
    "deepfm.compile(\n",
    "    loss=rmse,\n",
    "    optimizer='adam'\n",
    ")\n",
    "\n",
    "# Load movie dataset\n",
    "movie = pd.read_csv(\"u.item\", sep='|', header = None, encoding='latin-1', \n",
    "                    names = [ \"movieId\" , \"title\" , \"release_date\" , 'video_release_date' ,\n",
    "              'IMDbURL' , 'unknown' , 'Action' , 'Adventure' , 'Animation' ,\n",
    "              \"Children's\" , 'Comedy' , 'Crime' , 'Documentary' , 'Drama' , 'Fantasy',\n",
    "              'Film-Noir' , 'Horror' , 'Musical' , 'Mystery' , 'Romance' , 'Sci-Fi' ,\n",
    "              'Thriller' , 'War' , 'Western' ])\n",
    "\n"
   ]
  },
  {
   "cell_type": "code",
   "execution_count": 168,
   "id": "0198bb66",
   "metadata": {
    "ExecuteTime": {
     "end_time": "2022-12-26T00:48:39.748003Z",
     "start_time": "2022-12-26T00:48:39.630393Z"
    }
   },
   "outputs": [],
   "source": [
    "# Apply the same preprocessing rules in model_ranking\n",
    "data.fillna({'cast_1':'unknown', \n",
    "             'cast_2':'unknown', \n",
    "             'movie_genre_1': \"unknown\", \n",
    "             \"movie_genre_2\":\"unknown\", \n",
    "             'user_fav_genre': \"unknown\",\n",
    "             'release_year': data.release_year.mean()}, inplace=True)\n",
    "# Preprocessing numerical columns\n",
    "numerical_cols = ['age','IMDb_rating', 'release_year', 'user_avg_rating', 'user_std_rating',  'user_rating_count',\n",
    "                 'movie_avg_rating', 'movie_std_rating', 'movie_rating_count',]\n",
    "# Apply normalization techniques to all numerical columns\n",
    "for column in numerical_cols:\n",
    "    data[column] = (data[column] - data[column].min()) / (data[column].max() - data[column].min())   "
   ]
  },
  {
   "cell_type": "markdown",
   "id": "bb5d4194",
   "metadata": {},
   "source": [
    "#### Sentence embedding similarity retrieval utility functions"
   ]
  },
  {
   "cell_type": "code",
   "execution_count": 105,
   "id": "47227701",
   "metadata": {
    "ExecuteTime": {
     "end_time": "2022-12-26T00:19:19.540786Z",
     "start_time": "2022-12-26T00:19:19.531813Z"
    }
   },
   "outputs": [],
   "source": [
    "# Store movie embedding in a dedicated df\n",
    "movie_embedding = data.iloc[data.movieId.drop_duplicates().index][['movieId', 'plot embedding']].reset_index(drop=True)"
   ]
  },
  {
   "cell_type": "code",
   "execution_count": 126,
   "id": "204e5109",
   "metadata": {
    "ExecuteTime": {
     "end_time": "2022-12-26T00:24:00.127777Z",
     "start_time": "2022-12-26T00:24:00.114816Z"
    }
   },
   "outputs": [],
   "source": [
    "# Function to return the top 5 movieId that have the most similar plot embedding with input movieId\n",
    "def get_top5_by_embed(movieId):  \n",
    "    # Calculate cosine similarity\n",
    "    cos_sim = util.cos_sim(movie_embedding[movie_embedding.movieId == movieId]['plot embedding'].to_numpy()[0],list(movie_embedding['plot embedding']))\n",
    "    # Get list of tuple (movieId, similarity) from previous result\n",
    "    sim_lists = [(idx, sim) for idx, sim in enumerate(cos_sim.numpy()[0])]\n",
    "    # Sort list by similary descending\n",
    "    sim_lists.sort(key = lambda x: x[1], reverse = True)\n",
    "    # Return the top 5 movieId, note I discard the first one since that is the input moiveId\n",
    "    return [movieId for movieId, sim in sim_lists[1:6]]"
   ]
  },
  {
   "cell_type": "code",
   "execution_count": null,
   "id": "a80ca426",
   "metadata": {},
   "outputs": [],
   "source": [
    "# Define features and genre_cols for future uses\n",
    "features = ['userId', 'age', 'gender', 'occupation', 'zipcode_bucket',                    # User Features\n",
    "                 'movieId', 'movie_genre_1', 'movie_genre_2', 'IMDb_rating',              # Movie Features\n",
    "                 'director', 'cast_1', 'cast_2', 'plot embedding', 'release_year',        # Movie Features\n",
    "                 'rating', 'user_avg_rating', 'user_std_rating', 'user_rating_count',     # Rating Features\n",
    "                 'movie_avg_rating', 'movie_std_rating', 'movie_rating_count',            # Rating Features\n",
    "                 'user_fav_genre', 'user_fav_movieId', 'timestamp'                        # Rating Features        \n",
    "               ]\n",
    "genre_cols = ['unknown', 'Action', 'Adventure',\n",
    "       'Animation', \"Children's\", 'Comedy', 'Crime', 'Documentary', 'Drama',\n",
    "       'Fantasy', 'Film-Noir', 'Horror', 'Musical', 'Mystery', 'Romance',\n",
    "       'Sci-Fi', 'Thriller', 'War', 'Western']"
   ]
  },
  {
   "cell_type": "markdown",
   "id": "2c756591",
   "metadata": {},
   "source": [
    "#### Demo"
   ]
  },
  {
   "cell_type": "code",
   "execution_count": 189,
   "id": "25760352",
   "metadata": {
    "ExecuteTime": {
     "end_time": "2022-12-26T01:15:40.990840Z",
     "start_time": "2022-12-26T01:15:40.967916Z"
    }
   },
   "outputs": [],
   "source": [
    "# Random select a userId and timestamp for demo\n",
    "target_userId, target_timestamp = data[['userId', 'timestamp']].sample(1, random_state = 30).userId.values[0], data[['userId', 'timestamp']].sample(1, random_state = 30).timestamp.values[0]"
   ]
  },
  {
   "cell_type": "code",
   "execution_count": 190,
   "id": "a188a138",
   "metadata": {
    "ExecuteTime": {
     "end_time": "2022-12-26T01:15:42.727167Z",
     "start_time": "2022-12-26T01:15:42.710228Z"
    }
   },
   "outputs": [
    {
     "data": {
      "text/plain": [
       "(454, 888266955)"
      ]
     },
     "execution_count": 190,
     "metadata": {},
     "output_type": "execute_result"
    }
   ],
   "source": [
    "target_userId, target_timestamp"
   ]
  },
  {
   "cell_type": "markdown",
   "id": "d950a17f",
   "metadata": {},
   "source": [
    "We want to recommend movies to user **454** at timestamp **888266955**"
   ]
  },
  {
   "cell_type": "markdown",
   "id": "cc083dee",
   "metadata": {},
   "source": [
    "#### Prepare dataset for retrieval\n",
    "Since there are specific features that are timestamp dependent, the process of generating dataset for retrieval needs special consideration."
   ]
  },
  {
   "cell_type": "code",
   "execution_count": 317,
   "id": "b902633f",
   "metadata": {
    "ExecuteTime": {
     "end_time": "2022-12-26T02:15:27.054896Z",
     "start_time": "2022-12-26T02:15:27.038891Z"
    }
   },
   "outputs": [],
   "source": [
    "# These features will change as timestamp changes\n",
    "timestamp_sensitive_features_user = ['user_avg_rating', 'user_std_rating', 'user_rating_count','user_fav_genre', 'user_fav_movieId']\n",
    "timestamp_sensitive_features_movie = [ 'movie_avg_rating', 'movie_std_rating', 'movie_rating_count']\n",
    "\n",
    "# These features will not change as timestamp changes\n",
    "timestamp_insensitive_features_user = ['userId', 'age', 'gender', 'occupation', 'zipcode_bucket']\n",
    "timestamp_insensitive_features_movie = ['movieId', 'movie_genre_1', 'movie_genre_2', 'IMDb_rating',             \n",
    "                 'director', 'cast_1', 'cast_2', 'release_year']"
   ]
  },
  {
   "cell_type": "code",
   "execution_count": 318,
   "id": "81a408ac",
   "metadata": {
    "ExecuteTime": {
     "end_time": "2022-12-26T02:15:29.321254Z",
     "start_time": "2022-12-26T02:15:29.272290Z"
    }
   },
   "outputs": [],
   "source": [
    "# Prepare movie timestamp insensitive features\n",
    "movie_retrieval_candidates = data[data.timestamp <=target_timestamp][timestamp_insensitive_features_movie].drop_duplicates()"
   ]
  },
  {
   "cell_type": "code",
   "execution_count": 319,
   "id": "d89ff97e",
   "metadata": {
    "ExecuteTime": {
     "end_time": "2022-12-26T02:15:31.414336Z",
     "start_time": "2022-12-26T02:15:31.396396Z"
    }
   },
   "outputs": [],
   "source": [
    "# Prepare user timestamp insensitive features\n",
    "user_ts_insensitive_records = data[data.userId == target_userId][timestamp_insensitive_features_user].drop_duplicates().to_dict('records')[0]\n",
    "\n",
    "for f in timestamp_insensitive_features_user:\n",
    "    movie_retrieval_candidates[f] = user_ts_insensitive_records[f]"
   ]
  },
  {
   "cell_type": "code",
   "execution_count": 320,
   "id": "cde76209",
   "metadata": {
    "ExecuteTime": {
     "end_time": "2022-12-26T02:15:38.144252Z",
     "start_time": "2022-12-26T02:15:38.126308Z"
    }
   },
   "outputs": [],
   "source": [
    "# Prepare user timestamp sensitive features\n",
    "user_ts_sensitive_records = data[(data.userId == target_userId) & (data.timestamp == target_timestamp)][timestamp_sensitive_features_user].iloc[0].to_dict()\n",
    "\n",
    "for f in timestamp_sensitive_features_user:\n",
    "    movie_retrieval_candidates[f] = user_ts_sensitive_records[f]"
   ]
  },
  {
   "cell_type": "code",
   "execution_count": 321,
   "id": "e20472a6",
   "metadata": {
    "ExecuteTime": {
     "end_time": "2022-12-26T02:15:51.243085Z",
     "start_time": "2022-12-26T02:15:49.826762Z"
    }
   },
   "outputs": [],
   "source": [
    "# Prepare movie timestamp sensitive features\n",
    "def get_ts_sensitive_features_movie(movieId):\n",
    "    return data[(data.movieId == movieId) & (data.timestamp <= target_timestamp)].sort_values('timestamp', ascending= False)[timestamp_sensitive_features_movie].iloc[0]\n",
    "\n",
    "movie_retrieval_candidates[timestamp_sensitive_features_movie] = movie_retrieval_candidates.movieId.apply(get_ts_sensitive_features_movie)"
   ]
  },
  {
   "cell_type": "code",
   "execution_count": 322,
   "id": "1b7b28bd",
   "metadata": {
    "ExecuteTime": {
     "end_time": "2022-12-26T02:15:54.129075Z",
     "start_time": "2022-12-26T02:15:54.123095Z"
    }
   },
   "outputs": [],
   "source": [
    "# Get user history\n",
    "user_history = data[(data.userId == target_userId) & (data.timestamp <= target_timestamp)]"
   ]
  },
  {
   "cell_type": "code",
   "execution_count": 323,
   "id": "eff89cb2",
   "metadata": {
    "ExecuteTime": {
     "end_time": "2022-12-26T02:16:08.267158Z",
     "start_time": "2022-12-26T02:16:08.253208Z"
    }
   },
   "outputs": [],
   "source": [
    "# Filter movies that this user has already watched from movie candidates\n",
    "movie_retrieval_candidates = movie_retrieval_candidates[~movie_retrieval_candidates.movieId.isin(user_history.movieId)]"
   ]
  },
  {
   "cell_type": "markdown",
   "id": "f37cfe65",
   "metadata": {},
   "source": [
    "#### Retrieval channel 1\n",
    "via neuralCF"
   ]
  },
  {
   "cell_type": "code",
   "execution_count": 325,
   "id": "d713d9ff",
   "metadata": {
    "ExecuteTime": {
     "end_time": "2022-12-26T02:16:17.856544Z",
     "start_time": "2022-12-26T02:16:17.840598Z"
    }
   },
   "outputs": [],
   "source": [
    "# Pass movie candidates for retrieval into tf dataset\n",
    "retrieval_ds = tf.data.Dataset.from_tensor_slices((dict(movie_retrieval_candidates))).batch(32)"
   ]
  },
  {
   "cell_type": "code",
   "execution_count": 326,
   "id": "66ed231c",
   "metadata": {
    "ExecuteTime": {
     "end_time": "2022-12-26T02:16:19.527099Z",
     "start_time": "2022-12-26T02:16:19.428417Z"
    }
   },
   "outputs": [
    {
     "name": "stdout",
     "output_type": "stream",
     "text": [
      "45/45 [==============================] - 0s 1ms/step\n"
     ]
    }
   ],
   "source": [
    "# Predict the rating\n",
    "retrieval_result = np.concatenate(neuralCF.predict(retrieval_ds))"
   ]
  },
  {
   "cell_type": "code",
   "execution_count": 333,
   "id": "8b758f4c",
   "metadata": {
    "ExecuteTime": {
     "end_time": "2022-12-26T02:35:04.314164Z",
     "start_time": "2022-12-26T02:35:04.301204Z"
    }
   },
   "outputs": [],
   "source": [
    "# Get indexes of top 200 candidates \n",
    "top200_indexes = np.argpartition(retrieval_result, -200)[-200:]"
   ]
  },
  {
   "cell_type": "markdown",
   "id": "f39520f8",
   "metadata": {},
   "source": [
    "#### Retrieval channel 2\n",
    "via plot embedding"
   ]
  },
  {
   "cell_type": "code",
   "execution_count": 330,
   "id": "d7692068",
   "metadata": {
    "ExecuteTime": {
     "end_time": "2022-12-26T02:33:08.625791Z",
     "start_time": "2022-12-26T02:33:08.417491Z"
    }
   },
   "outputs": [],
   "source": [
    "# Get most recent 5 movies from user history\n",
    "user_recent_5_movies = user_history.sort_values('timestamp', ascending = False).movieId[:5]\n",
    "\n",
    "# From these 5 movies, for each movie, get top 5 most similar movies\n",
    "# That is 25 movieIds in total\n",
    "most_similar_movies_retrieval = set()\n",
    "for movieId in user_recent_5_movies:\n",
    "    most_similar_movies_retrieval.update(get_top5_by_embed(movieId))"
   ]
  },
  {
   "cell_type": "markdown",
   "id": "c629f966",
   "metadata": {},
   "source": [
    "#### Prepare dataset for ranking"
   ]
  },
  {
   "cell_type": "code",
   "execution_count": 354,
   "id": "6c9e4578",
   "metadata": {
    "ExecuteTime": {
     "end_time": "2022-12-26T02:56:52.781599Z",
     "start_time": "2022-12-26T02:56:52.769640Z"
    }
   },
   "outputs": [],
   "source": [
    "# Prepare ranking candidates from retrieval candidates using the top200_indexes result from neuralCF\n",
    "movie_ranking_candidates = movie_retrieval_candidates.iloc[top200_indexes]"
   ]
  },
  {
   "cell_type": "code",
   "execution_count": 357,
   "id": "b4c1e682",
   "metadata": {
    "ExecuteTime": {
     "end_time": "2022-12-26T02:57:02.527175Z",
     "start_time": "2022-12-26T02:57:02.512229Z"
    },
    "code_folding": []
   },
   "outputs": [],
   "source": [
    "# Add retrieval result from plot embedding approach\n",
    "# First find entries in movie_retrieval_candidates where movieIds are in most_similar_movies_retrieval\n",
    "# Then make sure these movieIds are not in movie_ranking_candidates\n",
    "movie_retrieval_via_embedding = movie_retrieval_candidates[(movie_retrieval_candidates.movieId.isin(most_similar_movies_retrieval)) \n",
    "                                & \n",
    "                                (~(movie_retrieval_candidates.movieId.isin(movie_ranking_candidates.movieId)))]"
   ]
  },
  {
   "cell_type": "code",
   "execution_count": 358,
   "id": "77f033c4",
   "metadata": {
    "ExecuteTime": {
     "end_time": "2022-12-26T02:57:04.298333Z",
     "start_time": "2022-12-26T02:57:04.289330Z"
    }
   },
   "outputs": [],
   "source": [
    "# Concatenate two results from retrieval 1 and retrieval 2\n",
    "movie_ranking_candidates = pd.concat([movie_retrieval_via_embedding, movie_ranking_candidates])"
   ]
  },
  {
   "cell_type": "markdown",
   "id": "44cdc7fd",
   "metadata": {},
   "source": [
    "#### Ranking"
   ]
  },
  {
   "cell_type": "code",
   "execution_count": 360,
   "id": "4ef8a351",
   "metadata": {
    "ExecuteTime": {
     "end_time": "2022-12-26T02:58:39.442099Z",
     "start_time": "2022-12-26T02:58:39.413195Z"
    }
   },
   "outputs": [],
   "source": [
    "# Pass movie candidates for ranking into tf dataset\n",
    "ranking_ds = tf.data.Dataset.from_tensor_slices((dict(movie_ranking_candidates))).batch(32)"
   ]
  },
  {
   "cell_type": "code",
   "execution_count": 361,
   "id": "3df52bae",
   "metadata": {
    "ExecuteTime": {
     "end_time": "2022-12-26T02:59:04.301568Z",
     "start_time": "2022-12-26T02:59:03.212212Z"
    }
   },
   "outputs": [
    {
     "name": "stdout",
     "output_type": "stream",
     "text": [
      "7/7 [==============================] - 1s 2ms/step\n"
     ]
    }
   ],
   "source": [
    "# Predict the rating\n",
    "ranking_result = np.concatenate(deepfm.predict(ranking_ds))"
   ]
  },
  {
   "cell_type": "code",
   "execution_count": 378,
   "id": "1f425c50",
   "metadata": {
    "ExecuteTime": {
     "end_time": "2022-12-26T03:04:33.594025Z",
     "start_time": "2022-12-26T03:04:33.590038Z"
    }
   },
   "outputs": [],
   "source": [
    "# Get top 5 indexes\n",
    "top5_indexes = np.argpartition(ranking_result, -5)[-5:]"
   ]
  },
  {
   "cell_type": "code",
   "execution_count": 380,
   "id": "e63435a9",
   "metadata": {
    "ExecuteTime": {
     "end_time": "2022-12-26T03:04:45.108766Z",
     "start_time": "2022-12-26T03:04:45.091827Z"
    }
   },
   "outputs": [],
   "source": [
    "# Get top 5 movieIds\n",
    "top5_movieId = movie_ranking_candidates.iloc[top5_indexes].movieId"
   ]
  },
  {
   "cell_type": "code",
   "execution_count": 390,
   "id": "ba9b56ff",
   "metadata": {
    "ExecuteTime": {
     "end_time": "2022-12-26T03:12:09.764638Z",
     "start_time": "2022-12-26T03:12:09.745701Z"
    }
   },
   "outputs": [
    {
     "name": "stdout",
     "output_type": "stream",
     "text": [
      "The top 5 movies for userId 454 at timestamp 888266955 are: \n"
     ]
    },
    {
     "data": {
      "text/plain": [
       "['Breaking the Waves (1996)',\n",
       " 'In the Line of Fire (1993)',\n",
       " 'American President, The (1995)',\n",
       " 'Safe (1995)',\n",
       " 'Golden Earrings (1947)']"
      ]
     },
     "execution_count": 390,
     "metadata": {},
     "output_type": "execute_result"
    }
   ],
   "source": [
    "# Get top 5 movie titles\n",
    "print(f\"The top 5 movies for userId {target_userId} at timestamp {target_timestamp} are: \")\n",
    "[movieTitle for movieTitle in movie[movie.movieId.isin(top5_movieId)]['title'].values]"
   ]
  }
 ],
 "metadata": {
  "kernelspec": {
   "display_name": "Python 3 (ipykernel)",
   "language": "python",
   "name": "python3"
  },
  "language_info": {
   "codemirror_mode": {
    "name": "ipython",
    "version": 3
   },
   "file_extension": ".py",
   "mimetype": "text/x-python",
   "name": "python",
   "nbconvert_exporter": "python",
   "pygments_lexer": "ipython3",
   "version": "3.9.12"
  },
  "toc": {
   "base_numbering": 1,
   "nav_menu": {},
   "number_sections": true,
   "sideBar": true,
   "skip_h1_title": false,
   "title_cell": "Table of Contents",
   "title_sidebar": "Contents",
   "toc_cell": false,
   "toc_position": {},
   "toc_section_display": true,
   "toc_window_display": false
  }
 },
 "nbformat": 4,
 "nbformat_minor": 5
}
