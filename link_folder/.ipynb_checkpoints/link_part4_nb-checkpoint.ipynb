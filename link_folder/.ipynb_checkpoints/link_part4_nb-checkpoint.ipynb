{
 "cells": [
  {
   "cell_type": "code",
   "execution_count": 24,
   "id": "11d9c8f5",
   "metadata": {
    "ExecuteTime": {
     "end_time": "2022-12-02T00:38:04.641860Z",
     "start_time": "2022-12-02T00:38:04.612099Z"
    }
   },
   "outputs": [],
   "source": [
    "import pandas as pd\n",
    "import imdb\n",
    "from tqdm import tqdm\n",
    "tqdm.pandas()\n",
    "import pickle\n",
    "def save_pickle(model, filename):\n",
    "    with open(filename, 'wb') as f:\n",
    "        pickle.dump(model, f)\n",
    "def load_pickle(filename):\n",
    "    with open(filename, 'rb') as f:\n",
    "        return pickle.load(f)\n",
    "\n",
    "ia = imdb.IMDb()"
   ]
  },
  {
   "cell_type": "code",
   "execution_count": 14,
   "id": "50beb2ba",
   "metadata": {
    "ExecuteTime": {
     "end_time": "2022-12-02T00:32:15.964577Z",
     "start_time": "2022-12-02T00:32:15.947034Z"
    }
   },
   "outputs": [],
   "source": [
    "def getSummary(imdb_id):\n",
    "    try:\n",
    "        data =  ia.get_movie(imdb_id, info=['plot']).data\n",
    "        if 'plot' in data:\n",
    "            return data['plot'][0]\n",
    "        else:\n",
    "            return ''\n",
    "    except:\n",
    "        return ''"
   ]
  },
  {
   "cell_type": "code",
   "execution_count": 25,
   "id": "4ea40d06",
   "metadata": {
    "ExecuteTime": {
     "end_time": "2022-12-02T01:16:57.488029Z",
     "start_time": "2022-12-02T00:38:12.373027Z"
    }
   },
   "outputs": [
    {
     "name": "stderr",
     "output_type": "stream",
     "text": [
      " 43%|████▎     | 2127/5000 [15:57<20:53,  2.29it/s] 2022-12-01 19:54:09,880 CRITICAL [imdbpy] C:\\Users\\60434\\anaconda3\\lib\\site-packages\\imdb\\_exceptions.py:32: IMDbDataAccessError exception raised; args: ({'errcode': None, 'errmsg': 'None', 'url': 'https://www.imdb.com/title/tt1347439/plotsummary', 'proxy': '', 'exception type': 'IOError', 'original exception': <HTTPError 404: ''>},); kwds: {}\n",
      "Traceback (most recent call last):\n",
      "  File \"C:\\Users\\60434\\anaconda3\\lib\\site-packages\\imdb\\parser\\http\\__init__.py\", line 221, in retrieve_unicode\n",
      "    response = uopener.open(url)\n",
      "  File \"C:\\Users\\60434\\anaconda3\\lib\\urllib\\request.py\", line 523, in open\n",
      "    response = meth(req, response)\n",
      "  File \"C:\\Users\\60434\\anaconda3\\lib\\urllib\\request.py\", line 632, in http_response\n",
      "    response = self.parent.error(\n",
      "  File \"C:\\Users\\60434\\anaconda3\\lib\\urllib\\request.py\", line 561, in error\n",
      "    return self._call_chain(*args)\n",
      "  File \"C:\\Users\\60434\\anaconda3\\lib\\urllib\\request.py\", line 494, in _call_chain\n",
      "    result = func(*args)\n",
      "  File \"C:\\Users\\60434\\anaconda3\\lib\\urllib\\request.py\", line 641, in http_error_default\n",
      "    raise HTTPError(req.full_url, code, msg, hdrs, fp)\n",
      "urllib.error.HTTPError: HTTP Error 404: \n",
      "2022-12-01 19:54:09,880 CRITICAL [imdbpy] C:\\Users\\60434\\anaconda3\\lib\\site-packages\\imdb\\__init__.py:833: caught an exception retrieving or parsing \"plot\" info set for mopID \"1347439\" (accessSystem: http)\n",
      "Traceback (most recent call last):\n",
      "  File \"C:\\Users\\60434\\anaconda3\\lib\\site-packages\\imdb\\parser\\http\\__init__.py\", line 221, in retrieve_unicode\n",
      "    response = uopener.open(url)\n",
      "  File \"C:\\Users\\60434\\anaconda3\\lib\\urllib\\request.py\", line 523, in open\n",
      "    response = meth(req, response)\n",
      "  File \"C:\\Users\\60434\\anaconda3\\lib\\urllib\\request.py\", line 632, in http_response\n",
      "    response = self.parent.error(\n",
      "  File \"C:\\Users\\60434\\anaconda3\\lib\\urllib\\request.py\", line 561, in error\n",
      "    return self._call_chain(*args)\n",
      "  File \"C:\\Users\\60434\\anaconda3\\lib\\urllib\\request.py\", line 494, in _call_chain\n",
      "    result = func(*args)\n",
      "  File \"C:\\Users\\60434\\anaconda3\\lib\\urllib\\request.py\", line 641, in http_error_default\n",
      "    raise HTTPError(req.full_url, code, msg, hdrs, fp)\n",
      "urllib.error.HTTPError: HTTP Error 404: \n",
      "\n",
      "During handling of the above exception, another exception occurred:\n",
      "\n",
      "Traceback (most recent call last):\n",
      "  File \"C:\\Users\\60434\\anaconda3\\lib\\site-packages\\imdb\\__init__.py\", line 831, in update\n",
      "    ret = method(mopID)\n",
      "  File \"C:\\Users\\60434\\anaconda3\\lib\\site-packages\\imdb\\parser\\http\\__init__.py\", line 485, in get_movie_plot\n",
      "    cont = self._retrieve(self.urls['movie_main'] % movieID + 'plotsummary')\n",
      "  File \"C:\\Users\\60434\\anaconda3\\lib\\site-packages\\imdb\\parser\\http\\__init__.py\", line 379, in _retrieve\n",
      "    ret = self.urlOpener.retrieve_unicode(url, size=size)\n",
      "  File \"C:\\Users\\60434\\anaconda3\\lib\\site-packages\\imdb\\parser\\http\\__init__.py\", line 249, in retrieve_unicode\n",
      "    raise IMDbDataAccessError(\n",
      "imdb._exceptions.IMDbDataAccessError: {'errcode': None, 'errmsg': 'None', 'url': 'https://www.imdb.com/title/tt1347439/plotsummary', 'proxy': '', 'exception type': 'IOError', 'original exception': <HTTPError 404: ''>}\n",
      "100%|██████████| 5000/5000 [38:45<00:00,  2.15it/s]\n"
     ]
    }
   ],
   "source": [
    "df = load_pickle(\"link_part4\")\n",
    "df[\"summary\"] = df.imdbId.progress_apply(getSummary)\n",
    "save_pickle(df, \"link_part4_with_summary\")"
   ]
  },
  {
   "cell_type": "code",
   "execution_count": 16,
   "id": "c041b4bf",
   "metadata": {
    "ExecuteTime": {
     "end_time": "2022-12-02T00:32:57.016594Z",
     "start_time": "2022-12-02T00:32:56.330955Z"
    }
   },
   "outputs": [
    {
     "name": "stderr",
     "output_type": "stream",
     "text": [
      "  0%|          | 0/4 [00:00<?, ?it/s]2022-12-01 19:32:56,445 CRITICAL [imdbpy] C:\\Users\\60434\\anaconda3\\lib\\site-packages\\imdb\\_exceptions.py:32: IMDbDataAccessError exception raised; args: ({'errcode': None, 'errmsg': 'None', 'url': 'https://www.imdb.com/title/tt1347439/plotsummary', 'proxy': '', 'exception type': 'IOError', 'original exception': <HTTPError 404: ''>},); kwds: {}\n",
      "Traceback (most recent call last):\n",
      "  File \"C:\\Users\\60434\\anaconda3\\lib\\site-packages\\imdb\\parser\\http\\__init__.py\", line 221, in retrieve_unicode\n",
      "    response = uopener.open(url)\n",
      "  File \"C:\\Users\\60434\\anaconda3\\lib\\urllib\\request.py\", line 523, in open\n",
      "    response = meth(req, response)\n",
      "  File \"C:\\Users\\60434\\anaconda3\\lib\\urllib\\request.py\", line 632, in http_response\n",
      "    response = self.parent.error(\n",
      "  File \"C:\\Users\\60434\\anaconda3\\lib\\urllib\\request.py\", line 561, in error\n",
      "    return self._call_chain(*args)\n",
      "  File \"C:\\Users\\60434\\anaconda3\\lib\\urllib\\request.py\", line 494, in _call_chain\n",
      "    result = func(*args)\n",
      "  File \"C:\\Users\\60434\\anaconda3\\lib\\urllib\\request.py\", line 641, in http_error_default\n",
      "    raise HTTPError(req.full_url, code, msg, hdrs, fp)\n",
      "urllib.error.HTTPError: HTTP Error 404: \n",
      "2022-12-01 19:32:56,445 CRITICAL [imdbpy] C:\\Users\\60434\\anaconda3\\lib\\site-packages\\imdb\\__init__.py:833: caught an exception retrieving or parsing \"plot\" info set for mopID \"1347439\" (accessSystem: http)\n",
      "Traceback (most recent call last):\n",
      "  File \"C:\\Users\\60434\\anaconda3\\lib\\site-packages\\imdb\\parser\\http\\__init__.py\", line 221, in retrieve_unicode\n",
      "    response = uopener.open(url)\n",
      "  File \"C:\\Users\\60434\\anaconda3\\lib\\urllib\\request.py\", line 523, in open\n",
      "    response = meth(req, response)\n",
      "  File \"C:\\Users\\60434\\anaconda3\\lib\\urllib\\request.py\", line 632, in http_response\n",
      "    response = self.parent.error(\n",
      "  File \"C:\\Users\\60434\\anaconda3\\lib\\urllib\\request.py\", line 561, in error\n",
      "    return self._call_chain(*args)\n",
      "  File \"C:\\Users\\60434\\anaconda3\\lib\\urllib\\request.py\", line 494, in _call_chain\n",
      "    result = func(*args)\n",
      "  File \"C:\\Users\\60434\\anaconda3\\lib\\urllib\\request.py\", line 641, in http_error_default\n",
      "    raise HTTPError(req.full_url, code, msg, hdrs, fp)\n",
      "urllib.error.HTTPError: HTTP Error 404: \n",
      "\n",
      "During handling of the above exception, another exception occurred:\n",
      "\n",
      "Traceback (most recent call last):\n",
      "  File \"C:\\Users\\60434\\anaconda3\\lib\\site-packages\\imdb\\__init__.py\", line 831, in update\n",
      "    ret = method(mopID)\n",
      "  File \"C:\\Users\\60434\\anaconda3\\lib\\site-packages\\imdb\\parser\\http\\__init__.py\", line 485, in get_movie_plot\n",
      "    cont = self._retrieve(self.urls['movie_main'] % movieID + 'plotsummary')\n",
      "  File \"C:\\Users\\60434\\anaconda3\\lib\\site-packages\\imdb\\parser\\http\\__init__.py\", line 379, in _retrieve\n",
      "    ret = self.urlOpener.retrieve_unicode(url, size=size)\n",
      "  File \"C:\\Users\\60434\\anaconda3\\lib\\site-packages\\imdb\\parser\\http\\__init__.py\", line 249, in retrieve_unicode\n",
      "    raise IMDbDataAccessError(\n",
      "imdb._exceptions.IMDbDataAccessError: {'errcode': None, 'errmsg': 'None', 'url': 'https://www.imdb.com/title/tt1347439/plotsummary', 'proxy': '', 'exception type': 'IOError', 'original exception': <HTTPError 404: ''>}\n",
      "100%|██████████| 4/4 [00:00<00:00,  6.03it/s]\n",
      "C:\\Users\\60434\\AppData\\Local\\Temp\\ipykernel_10184\\3073688939.py:2: SettingWithCopyWarning: \n",
      "A value is trying to be set on a copy of a slice from a DataFrame.\n",
      "Try using .loc[row_indexer,col_indexer] = value instead\n",
      "\n",
      "See the caveats in the documentation: https://pandas.pydata.org/pandas-docs/stable/user_guide/indexing.html#returning-a-view-versus-a-copy\n",
      "  test['summary'] = test.imdbId.progress_apply(getSummary)\n"
     ]
    }
   ],
   "source": [
    "test = df.iloc[2126:2130]\n",
    "test['summary'] = test.imdbId.progress_apply(getSummary)"
   ]
  }
 ],
 "metadata": {
  "kernelspec": {
   "display_name": "Python 3 (ipykernel)",
   "language": "python",
   "name": "python3"
  },
  "language_info": {
   "codemirror_mode": {
    "name": "ipython",
    "version": 3
   },
   "file_extension": ".py",
   "mimetype": "text/x-python",
   "name": "python",
   "nbconvert_exporter": "python",
   "pygments_lexer": "ipython3",
   "version": "3.9.12"
  },
  "latex_envs": {
   "LaTeX_envs_menu_present": true,
   "autoclose": false,
   "autocomplete": true,
   "bibliofile": "biblio.bib",
   "cite_by": "apalike",
   "current_citInitial": 1,
   "eqLabelWithNumbers": true,
   "eqNumInitial": 1,
   "hotkeys": {
    "equation": "Ctrl-E",
    "itemize": "Ctrl-I"
   },
   "labels_anchors": false,
   "latex_user_defs": false,
   "report_style_numbering": false,
   "user_envs_cfg": false
  },
  "toc": {
   "base_numbering": 1,
   "nav_menu": {},
   "number_sections": true,
   "sideBar": true,
   "skip_h1_title": false,
   "title_cell": "Table of Contents",
   "title_sidebar": "Contents",
   "toc_cell": false,
   "toc_position": {},
   "toc_section_display": true,
   "toc_window_display": false
  },
  "varInspector": {
   "cols": {
    "lenName": 16,
    "lenType": 16,
    "lenVar": 40
   },
   "kernels_config": {
    "python": {
     "delete_cmd_postfix": "",
     "delete_cmd_prefix": "del ",
     "library": "var_list.py",
     "varRefreshCmd": "print(var_dic_list())"
    },
    "r": {
     "delete_cmd_postfix": ") ",
     "delete_cmd_prefix": "rm(",
     "library": "var_list.r",
     "varRefreshCmd": "cat(var_dic_list()) "
    }
   },
   "types_to_exclude": [
    "module",
    "function",
    "builtin_function_or_method",
    "instance",
    "_Feature"
   ],
   "window_display": false
  }
 },
 "nbformat": 4,
 "nbformat_minor": 5
}
