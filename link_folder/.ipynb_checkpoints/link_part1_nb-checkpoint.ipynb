{
 "cells": [
  {
   "cell_type": "code",
   "execution_count": 18,
   "id": "8270856f",
   "metadata": {
    "ExecuteTime": {
     "end_time": "2022-12-02T01:16:13.071117Z",
     "start_time": "2022-12-02T00:38:30.893622Z"
    }
   },
   "outputs": [
    {
     "name": "stderr",
     "output_type": "stream",
     "text": [
      " 14%|█▍        | 709/5000 [05:11<36:52,  1.94it/s]2022-12-01 19:43:42,715 CRITICAL [imdbpy] C:\\Users\\60434\\anaconda3\\lib\\site-packages\\imdb\\_exceptions.py:32: IMDbDataAccessError exception raised; args: ({'errcode': None, 'errmsg': 'None', 'url': 'https://www.imdb.com/title/tt0118114/plotsummary', 'proxy': '', 'exception type': 'IOError', 'original exception': <HTTPError 404: ''>},); kwds: {}\n",
      "Traceback (most recent call last):\n",
      "  File \"C:\\Users\\60434\\anaconda3\\lib\\site-packages\\imdb\\parser\\http\\__init__.py\", line 221, in retrieve_unicode\n",
      "    response = uopener.open(url)\n",
      "  File \"C:\\Users\\60434\\anaconda3\\lib\\urllib\\request.py\", line 523, in open\n",
      "    response = meth(req, response)\n",
      "  File \"C:\\Users\\60434\\anaconda3\\lib\\urllib\\request.py\", line 632, in http_response\n",
      "    response = self.parent.error(\n",
      "  File \"C:\\Users\\60434\\anaconda3\\lib\\urllib\\request.py\", line 561, in error\n",
      "    return self._call_chain(*args)\n",
      "  File \"C:\\Users\\60434\\anaconda3\\lib\\urllib\\request.py\", line 494, in _call_chain\n",
      "    result = func(*args)\n",
      "  File \"C:\\Users\\60434\\anaconda3\\lib\\urllib\\request.py\", line 641, in http_error_default\n",
      "    raise HTTPError(req.full_url, code, msg, hdrs, fp)\n",
      "urllib.error.HTTPError: HTTP Error 404: \n",
      "2022-12-01 19:43:42,715 CRITICAL [imdbpy] C:\\Users\\60434\\anaconda3\\lib\\site-packages\\imdb\\__init__.py:833: caught an exception retrieving or parsing \"plot\" info set for mopID \"0118114\" (accessSystem: http)\n",
      "Traceback (most recent call last):\n",
      "  File \"C:\\Users\\60434\\anaconda3\\lib\\site-packages\\imdb\\parser\\http\\__init__.py\", line 221, in retrieve_unicode\n",
      "    response = uopener.open(url)\n",
      "  File \"C:\\Users\\60434\\anaconda3\\lib\\urllib\\request.py\", line 523, in open\n",
      "    response = meth(req, response)\n",
      "  File \"C:\\Users\\60434\\anaconda3\\lib\\urllib\\request.py\", line 632, in http_response\n",
      "    response = self.parent.error(\n",
      "  File \"C:\\Users\\60434\\anaconda3\\lib\\urllib\\request.py\", line 561, in error\n",
      "    return self._call_chain(*args)\n",
      "  File \"C:\\Users\\60434\\anaconda3\\lib\\urllib\\request.py\", line 494, in _call_chain\n",
      "    result = func(*args)\n",
      "  File \"C:\\Users\\60434\\anaconda3\\lib\\urllib\\request.py\", line 641, in http_error_default\n",
      "    raise HTTPError(req.full_url, code, msg, hdrs, fp)\n",
      "urllib.error.HTTPError: HTTP Error 404: \n",
      "\n",
      "During handling of the above exception, another exception occurred:\n",
      "\n",
      "Traceback (most recent call last):\n",
      "  File \"C:\\Users\\60434\\anaconda3\\lib\\site-packages\\imdb\\__init__.py\", line 831, in update\n",
      "    ret = method(mopID)\n",
      "  File \"C:\\Users\\60434\\anaconda3\\lib\\site-packages\\imdb\\parser\\http\\__init__.py\", line 485, in get_movie_plot\n",
      "    cont = self._retrieve(self.urls['movie_main'] % movieID + 'plotsummary')\n",
      "  File \"C:\\Users\\60434\\anaconda3\\lib\\site-packages\\imdb\\parser\\http\\__init__.py\", line 379, in _retrieve\n",
      "    ret = self.urlOpener.retrieve_unicode(url, size=size)\n",
      "  File \"C:\\Users\\60434\\anaconda3\\lib\\site-packages\\imdb\\parser\\http\\__init__.py\", line 249, in retrieve_unicode\n",
      "    raise IMDbDataAccessError(\n",
      "imdb._exceptions.IMDbDataAccessError: {'errcode': None, 'errmsg': 'None', 'url': 'https://www.imdb.com/title/tt0118114/plotsummary', 'proxy': '', 'exception type': 'IOError', 'original exception': <HTTPError 404: ''>}\n",
      "100%|██████████| 5000/5000 [37:42<00:00,  2.21it/s] \n"
     ]
    }
   ],
   "source": [
    "import pandas as pd\n",
    "import imdb\n",
    "from tqdm import tqdm\n",
    "tqdm.pandas()\n",
    "import pickle\n",
    "def save_pickle(model, filename):\n",
    "    with open(filename, 'wb') as f:\n",
    "        pickle.dump(model, f)\n",
    "def load_pickle(filename):\n",
    "    with open(filename, 'rb') as f:\n",
    "        return pickle.load(f)\n",
    "\n",
    "ia = imdb.IMDb()\n",
    "\n",
    "def getSummary(imdb_id):\n",
    "    try:\n",
    "        data =  ia.get_movie(imdb_id, info=['plot']).data\n",
    "        if 'plot' in data:\n",
    "            return data['plot'][0]\n",
    "        else:\n",
    "            return ''\n",
    "    except:\n",
    "        return ''\n",
    "\n",
    "df = load_pickle(\"link_part1\")\n",
    "df[\"summary\"] = df.imdbId.progress_apply(getSummary)\n",
    "save_pickle(df, \"link_part1_with_summary\")"
   ]
  }
 ],
 "metadata": {
  "kernelspec": {
   "display_name": "Python 3 (ipykernel)",
   "language": "python",
   "name": "python3"
  },
  "language_info": {
   "codemirror_mode": {
    "name": "ipython",
    "version": 3
   },
   "file_extension": ".py",
   "mimetype": "text/x-python",
   "name": "python",
   "nbconvert_exporter": "python",
   "pygments_lexer": "ipython3",
   "version": "3.9.12"
  },
  "latex_envs": {
   "LaTeX_envs_menu_present": true,
   "autoclose": false,
   "autocomplete": true,
   "bibliofile": "biblio.bib",
   "cite_by": "apalike",
   "current_citInitial": 1,
   "eqLabelWithNumbers": true,
   "eqNumInitial": 1,
   "hotkeys": {
    "equation": "Ctrl-E",
    "itemize": "Ctrl-I"
   },
   "labels_anchors": false,
   "latex_user_defs": false,
   "report_style_numbering": false,
   "user_envs_cfg": false
  },
  "toc": {
   "base_numbering": 1,
   "nav_menu": {},
   "number_sections": true,
   "sideBar": true,
   "skip_h1_title": false,
   "title_cell": "Table of Contents",
   "title_sidebar": "Contents",
   "toc_cell": false,
   "toc_position": {},
   "toc_section_display": true,
   "toc_window_display": false
  },
  "varInspector": {
   "cols": {
    "lenName": 16,
    "lenType": 16,
    "lenVar": 40
   },
   "kernels_config": {
    "python": {
     "delete_cmd_postfix": "",
     "delete_cmd_prefix": "del ",
     "library": "var_list.py",
     "varRefreshCmd": "print(var_dic_list())"
    },
    "r": {
     "delete_cmd_postfix": ") ",
     "delete_cmd_prefix": "rm(",
     "library": "var_list.r",
     "varRefreshCmd": "cat(var_dic_list()) "
    }
   },
   "types_to_exclude": [
    "module",
    "function",
    "builtin_function_or_method",
    "instance",
    "_Feature"
   ],
   "window_display": false
  }
 },
 "nbformat": 4,
 "nbformat_minor": 5
}
