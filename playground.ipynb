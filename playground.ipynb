{
 "cells": [
  {
   "cell_type": "code",
   "execution_count": 12,
   "id": "8fe0a2eb",
   "metadata": {
    "ExecuteTime": {
     "end_time": "2022-12-01T21:00:00.150997Z",
     "start_time": "2022-12-01T21:00:00.117063Z"
    }
   },
   "outputs": [],
   "source": [
    "import pandas as pd\n",
    "import imdb"
   ]
  },
  {
   "cell_type": "code",
   "execution_count": 50,
   "id": "e07cd23f",
   "metadata": {
    "ExecuteTime": {
     "end_time": "2022-12-01T23:24:44.412411Z",
     "start_time": "2022-12-01T23:24:44.392903Z"
    }
   },
   "outputs": [],
   "source": [
    "import pickle\n",
    "def save_pickle(model, filename):\n",
    "    with open(filename, 'wb') as f:\n",
    "        pickle.dump(model, f)\n",
    "def load_pickle(filename):\n",
    "    with open(filename, 'rb') as f:\n",
    "        return pickle.load(f)"
   ]
  },
  {
   "cell_type": "code",
   "execution_count": 6,
   "id": "9d42333c",
   "metadata": {
    "ExecuteTime": {
     "end_time": "2022-12-01T20:58:34.887950Z",
     "start_time": "2022-12-01T20:58:34.834266Z"
    }
   },
   "outputs": [],
   "source": [
    "links = pd.read_csv(\"link.csv\")"
   ]
  },
  {
   "cell_type": "code",
   "execution_count": 13,
   "id": "2dd77252",
   "metadata": {
    "ExecuteTime": {
     "end_time": "2022-12-01T21:00:18.660423Z",
     "start_time": "2022-12-01T21:00:18.569277Z"
    }
   },
   "outputs": [],
   "source": [
    "ia = imdb.IMDb()"
   ]
  },
  {
   "cell_type": "code",
   "execution_count": 40,
   "id": "661a792d",
   "metadata": {
    "ExecuteTime": {
     "end_time": "2022-12-01T21:49:10.292484Z",
     "start_time": "2022-12-01T21:49:09.192705Z"
    }
   },
   "outputs": [],
   "source": [
    "def getSummary(imdb_id):\n",
    "    return ia.get_movie(imdb_id, info=['plot']).data['plot'][0]"
   ]
  },
  {
   "cell_type": "code",
   "execution_count": 54,
   "id": "79461757",
   "metadata": {
    "ExecuteTime": {
     "end_time": "2022-12-01T23:29:15.051019Z",
     "start_time": "2022-12-01T23:29:15.039921Z"
    }
   },
   "outputs": [],
   "source": [
    "link_1 = links[:5000]\n",
    "link_2 = links[5000:10000]\n",
    "link_3 = links[10000:15000]\n",
    "link_4 = links[15000:20000]\n",
    "link_5 = links[20000:25000]\n",
    "link_6 = links[25000:]"
   ]
  },
  {
   "cell_type": "code",
   "execution_count": 55,
   "id": "ce4e66da",
   "metadata": {
    "ExecuteTime": {
     "end_time": "2022-12-01T23:29:18.195440Z",
     "start_time": "2022-12-01T23:29:18.171812Z"
    }
   },
   "outputs": [],
   "source": [
    "link_folder = 'link_folder/'\n",
    "save_pickle(link_1, link_folder + \"link_part1\")\n",
    "save_pickle(link_2, link_folder + \"link_part2\")\n",
    "save_pickle(link_3, link_folder + \"link_part3\")\n",
    "save_pickle(link_4, link_folder + \"link_part4\")\n",
    "save_pickle(link_5, link_folder + \"link_part5\")\n",
    "save_pickle(link_6, link_folder + \"link_part6\")"
   ]
  },
  {
   "cell_type": "code",
   "execution_count": 73,
   "id": "25802c50",
   "metadata": {
    "ExecuteTime": {
     "end_time": "2022-12-02T01:20:01.063849Z",
     "start_time": "2022-12-02T01:20:01.048226Z"
    }
   },
   "outputs": [
    {
     "data": {
      "text/plain": [
       "(27278, 3)"
      ]
     },
     "execution_count": 73,
     "metadata": {},
     "output_type": "execute_result"
    }
   ],
   "source": [
    "links.shape"
   ]
  },
  {
   "cell_type": "code",
   "execution_count": 56,
   "id": "5f75aacb",
   "metadata": {
    "ExecuteTime": {
     "end_time": "2022-12-02T00:43:25.063948Z",
     "start_time": "2022-12-02T00:43:25.042498Z"
    }
   },
   "outputs": [],
   "source": [
    "import os"
   ]
  },
  {
   "cell_type": "code",
   "execution_count": 67,
   "id": "483205c6",
   "metadata": {
    "ExecuteTime": {
     "end_time": "2022-12-02T01:17:37.091322Z",
     "start_time": "2022-12-02T01:17:37.075871Z"
    }
   },
   "outputs": [],
   "source": [
    "import os, fnmatch\n",
    "def find(pattern, path):\n",
    "    result = []\n",
    "    for root, dirs, files in os.walk(path):\n",
    "        for name in files:\n",
    "            if fnmatch.fnmatch(name, pattern):\n",
    "                result.append(os.path.join(root, name))\n",
    "    return result\n",
    "\n",
    "result_df_name_list = find('*summary', 'link_folder/')"
   ]
  },
  {
   "cell_type": "code",
   "execution_count": 68,
   "id": "fc7edacc",
   "metadata": {
    "ExecuteTime": {
     "end_time": "2022-12-02T01:18:44.992952Z",
     "start_time": "2022-12-02T01:18:44.915345Z"
    }
   },
   "outputs": [],
   "source": [
    "result_df_list = []\n",
    "for name in result_df_name_list:\n",
    "    result_df_list.append(load_pickle(name))"
   ]
  },
  {
   "cell_type": "code",
   "execution_count": 70,
   "id": "1873e16a",
   "metadata": {
    "ExecuteTime": {
     "end_time": "2022-12-02T01:19:39.972439Z",
     "start_time": "2022-12-02T01:19:39.955532Z"
    }
   },
   "outputs": [],
   "source": [
    "result_df = pd.concat(result_df_list)"
   ]
  },
  {
   "cell_type": "code",
   "execution_count": 74,
   "id": "2c5d4510",
   "metadata": {
    "ExecuteTime": {
     "end_time": "2022-12-02T01:20:30.056753Z",
     "start_time": "2022-12-02T01:20:30.023353Z"
    }
   },
   "outputs": [],
   "source": [
    "save_pickle(result_df, \"link_with_summary.pickle\")"
   ]
  }
 ],
 "metadata": {
  "kernelspec": {
   "display_name": "Python 3 (ipykernel)",
   "language": "python",
   "name": "python3"
  },
  "language_info": {
   "codemirror_mode": {
    "name": "ipython",
    "version": 3
   },
   "file_extension": ".py",
   "mimetype": "text/x-python",
   "name": "python",
   "nbconvert_exporter": "python",
   "pygments_lexer": "ipython3",
   "version": "3.9.12"
  },
  "latex_envs": {
   "LaTeX_envs_menu_present": true,
   "autoclose": false,
   "autocomplete": true,
   "bibliofile": "biblio.bib",
   "cite_by": "apalike",
   "current_citInitial": 1,
   "eqLabelWithNumbers": true,
   "eqNumInitial": 1,
   "hotkeys": {
    "equation": "Ctrl-E",
    "itemize": "Ctrl-I"
   },
   "labels_anchors": false,
   "latex_user_defs": false,
   "report_style_numbering": false,
   "user_envs_cfg": false
  },
  "toc": {
   "base_numbering": 1,
   "nav_menu": {},
   "number_sections": true,
   "sideBar": true,
   "skip_h1_title": false,
   "title_cell": "Table of Contents",
   "title_sidebar": "Contents",
   "toc_cell": false,
   "toc_position": {},
   "toc_section_display": true,
   "toc_window_display": false
  },
  "varInspector": {
   "cols": {
    "lenName": 16,
    "lenType": 16,
    "lenVar": 40
   },
   "kernels_config": {
    "python": {
     "delete_cmd_postfix": "",
     "delete_cmd_prefix": "del ",
     "library": "var_list.py",
     "varRefreshCmd": "print(var_dic_list())"
    },
    "r": {
     "delete_cmd_postfix": ") ",
     "delete_cmd_prefix": "rm(",
     "library": "var_list.r",
     "varRefreshCmd": "cat(var_dic_list()) "
    }
   },
   "types_to_exclude": [
    "module",
    "function",
    "builtin_function_or_method",
    "instance",
    "_Feature"
   ],
   "window_display": false
  }
 },
 "nbformat": 4,
 "nbformat_minor": 5
}
