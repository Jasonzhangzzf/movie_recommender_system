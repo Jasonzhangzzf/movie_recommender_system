{
 "cells": [
  {
   "cell_type": "code",
   "execution_count": 24,
   "id": "2a5649f2",
   "metadata": {
    "ExecuteTime": {
     "end_time": "2022-12-26T04:57:45.936473Z",
     "start_time": "2022-12-26T04:57:45.927457Z"
    }
   },
   "outputs": [],
   "source": [
    "from typing import Dict, Text\n",
    "import os\n",
    "import numpy as np\n",
    "import tensorflow as tf\n",
    "import pandas as pd\n",
    "import random\n",
    "from sklearn.model_selection import train_test_split\n",
    "from sklearn.metrics import ndcg_score\n",
    "\n",
    "import warnings\n",
    "warnings.filterwarnings(\"ignore\")\n",
    "import tensorflow_datasets as tfds\n",
    "import tensorflow_recommenders as tfrs\n",
    "\n",
    "import pickle\n",
    "def save_pickle(model, filename):\n",
    "    with open(filename, 'wb') as f:\n",
    "        pickle.dump(model, f)\n",
    "def load_pickle(filename):\n",
    "    with open(filename, 'rb') as f:\n",
    "        return pickle.load(f)"
   ]
  },
  {
   "cell_type": "markdown",
   "id": "548a3678",
   "metadata": {},
   "source": [
    "In this notebook, we will primarily focus on building a simple matrix factorization retrieval model powered by neuralCF. "
   ]
  },
  {
   "cell_type": "code",
   "execution_count": 2,
   "id": "fbe89bef",
   "metadata": {
    "ExecuteTime": {
     "end_time": "2022-12-26T04:45:16.431321Z",
     "start_time": "2022-12-26T04:45:16.369457Z"
    }
   },
   "outputs": [],
   "source": [
    "# Load final data from preprocessing_2_feature_engineering\n",
    "data = load_pickle('data.pickle')"
   ]
  },
  {
   "cell_type": "code",
   "execution_count": 29,
   "id": "83aa754f",
   "metadata": {
    "ExecuteTime": {
     "end_time": "2022-12-26T04:58:38.321640Z",
     "start_time": "2022-12-26T04:58:38.202036Z"
    }
   },
   "outputs": [],
   "source": [
    "# Load ratings and movies\n",
    "ratings =  data[['userId', 'movieId']]\n",
    "movies = data[['movieId']]\n",
    "ratings['userId'] = ratings.userId.astype(str)\n",
    "ratings['movieId'] = ratings.movieId.astype(str)\n",
    "movies['movieId'] = movies.movieId.astype(str)"
   ]
  },
  {
   "cell_type": "code",
   "execution_count": 30,
   "id": "24938c0f",
   "metadata": {
    "ExecuteTime": {
     "end_time": "2022-12-26T04:58:40.083745Z",
     "start_time": "2022-12-26T04:58:40.064805Z"
    }
   },
   "outputs": [],
   "source": [
    "# Load into tf datasets\n",
    "movies_ds = tf.data.Dataset.from_tensor_slices(dict(movies))\n",
    "ratings_ds = tf.data.Dataset.from_tensor_slices(dict(ratings))"
   ]
  },
  {
   "cell_type": "code",
   "execution_count": 57,
   "id": "98a2ff0b",
   "metadata": {
    "ExecuteTime": {
     "end_time": "2022-12-26T05:52:52.736452Z",
     "start_time": "2022-12-26T05:52:52.727474Z"
    }
   },
   "outputs": [],
   "source": [
    "# get training and testing dataset\n",
    "# shuffle and batch\n",
    "shuffled = ratings_ds.shuffle(100000, seed=32)\n",
    "\n",
    "train = shuffled.take(80000)\n",
    "test = shuffled.skip(80000).take(20000)\n",
    "\n",
    "cached_train = train.batch(128).cache()\n",
    "cached_test = test.batch(128).cache()"
   ]
  },
  {
   "cell_type": "code",
   "execution_count": 32,
   "id": "ad930034",
   "metadata": {
    "ExecuteTime": {
     "end_time": "2022-12-26T04:59:12.883716Z",
     "start_time": "2022-12-26T04:58:43.902373Z"
    }
   },
   "outputs": [],
   "source": [
    "# Build userId string lookup layer\n",
    "user_ids_vocabulary = tf.keras.layers.StringLookup(mask_token=None)\n",
    "user_ids_vocabulary.adapt(ratings_ds.map(lambda x: x[\"userId\"]))"
   ]
  },
  {
   "cell_type": "code",
   "execution_count": 34,
   "id": "38bc6b59",
   "metadata": {
    "ExecuteTime": {
     "end_time": "2022-12-26T05:00:32.052687Z",
     "start_time": "2022-12-26T05:00:01.295423Z"
    }
   },
   "outputs": [],
   "source": [
    "# Build movieId string lookup layer\n",
    "movie_ids_vocabulary = tf.keras.layers.StringLookup(mask_token=None)\n",
    "movie_ids_vocabulary.adapt(movies_ds.map(lambda x: x[\"movieId\"]))"
   ]
  },
  {
   "cell_type": "code",
   "execution_count": 51,
   "id": "ce03a311",
   "metadata": {
    "ExecuteTime": {
     "end_time": "2022-12-26T05:32:41.307725Z",
     "start_time": "2022-12-26T05:32:41.294766Z"
    }
   },
   "outputs": [],
   "source": [
    "# Define MovieLensModel model\n",
    "class MovieLensModel(tfrs.Model):\n",
    "\n",
    "    def __init__(\n",
    "                self,\n",
    "                user_model: tf.keras.Model,\n",
    "                movie_model: tf.keras.Model,\n",
    "                task: tfrs.tasks.Retrieval):\n",
    "        super().__init__()\n",
    "\n",
    "        self.user_model = user_model\n",
    "        self.movie_model = movie_model\n",
    "        self.task = task\n",
    "\n",
    "    def compute_loss(self, features: Dict[Text, tf.Tensor], training=False) -> tf.Tensor:\n",
    "        user_embeddings = self.user_model(features[\"userId\"])\n",
    "        movie_embeddings = self.movie_model(features[\"movieId\"])\n",
    "\n",
    "        return self.task(user_embeddings, movie_embeddings)"
   ]
  },
  {
   "cell_type": "code",
   "execution_count": 54,
   "id": "d1ca77bf",
   "metadata": {
    "ExecuteTime": {
     "end_time": "2022-12-26T05:42:52.278337Z",
     "start_time": "2022-12-26T05:42:52.263203Z"
    }
   },
   "outputs": [],
   "source": [
    "# define user and movie models\n",
    "user_model = tf.keras.Sequential([\n",
    "    user_ids_vocabulary,\n",
    "    tf.keras.layers.Embedding(user_ids_vocabulary.vocabulary_size(), 64)\n",
    "\n",
    "\n",
    "])\n",
    "movie_model = tf.keras.Sequential([\n",
    "    movie_ids_vocabulary,\n",
    "    tf.keras.layers.Embedding(movie_ids_vocabulary.vocabulary_size(), 64)\n",
    "])\n"
   ]
  },
  {
   "cell_type": "code",
   "execution_count": 58,
   "id": "dce89a9c",
   "metadata": {
    "ExecuteTime": {
     "end_time": "2022-12-26T05:53:04.320021Z",
     "start_time": "2022-12-26T05:53:04.289921Z"
    }
   },
   "outputs": [],
   "source": [
    "# Build a neural collaborative filtering model\n",
    "user_model = tf.keras.Sequential([\n",
    "    user_ids_vocabulary,\n",
    "    tf.keras.layers.Embedding(user_ids_vocabulary.vocabulary_size(), 64),\n",
    "    tf.keras.layers.Dense(32, activation=\"relu\"),\n",
    "    tf.keras.layers.Dropout(0.2),\n",
    "    tf.keras.layers.Dense(16, activation=\"relu\")\n",
    "\n",
    "])\n",
    "movie_model = tf.keras.Sequential([\n",
    "    movie_ids_vocabulary,\n",
    "    tf.keras.layers.Embedding(movie_ids_vocabulary.vocabulary_size(), 64),\n",
    "    tf.keras.layers.Dense(32, activation=\"relu\"),\n",
    "    tf.keras.layers.Dropout(0.2),\n",
    "    tf.keras.layers.Dense(16, activation=\"relu\")\n",
    "])\n"
   ]
  },
  {
   "cell_type": "code",
   "execution_count": 59,
   "id": "7bc1fa0b",
   "metadata": {
    "ExecuteTime": {
     "end_time": "2022-12-26T05:53:14.666231Z",
     "start_time": "2022-12-26T05:53:14.571556Z"
    }
   },
   "outputs": [],
   "source": [
    "# define metrics and task\n",
    "metrics = tfrs.metrics.FactorizedTopK(\n",
    "  candidates=movies_ds.map(lambda x: x[\"movieId\"]).batch(128).map(movie_model)\n",
    ")\n",
    "\n",
    "task = tfrs.tasks.Retrieval(\n",
    "  metrics=metrics\n",
    ")"
   ]
  },
  {
   "cell_type": "code",
   "execution_count": 60,
   "id": "b199aa57",
   "metadata": {
    "ExecuteTime": {
     "end_time": "2022-12-26T06:02:36.545696Z",
     "start_time": "2022-12-26T05:53:20.894440Z"
    }
   },
   "outputs": [
    {
     "name": "stdout",
     "output_type": "stream",
     "text": [
      "Epoch 1/3\n",
      "625/625 [==============================] - 221s 351ms/step - factorized_top_k/top_1_categorical_accuracy: 0.8388 - factorized_top_k/top_5_categorical_accuracy: 0.8388 - factorized_top_k/top_10_categorical_accuracy: 0.8389 - factorized_top_k/top_50_categorical_accuracy: 0.8390 - factorized_top_k/top_100_categorical_accuracy: 0.8634 - loss: 1795.3718 - regularization_loss: 0.0000e+00 - total_loss: 1795.3718\n",
      "Epoch 2/3\n",
      "625/625 [==============================] - 184s 295ms/step - factorized_top_k/top_1_categorical_accuracy: 0.8737 - factorized_top_k/top_5_categorical_accuracy: 0.8738 - factorized_top_k/top_10_categorical_accuracy: 0.8738 - factorized_top_k/top_50_categorical_accuracy: 1.0000 - factorized_top_k/top_100_categorical_accuracy: 1.0000 - loss: 621.0603 - regularization_loss: 0.0000e+00 - total_loss: 621.0603\n",
      "Epoch 3/3\n",
      "625/625 [==============================] - 150s 240ms/step - factorized_top_k/top_1_categorical_accuracy: 0.8738 - factorized_top_k/top_5_categorical_accuracy: 0.8738 - factorized_top_k/top_10_categorical_accuracy: 0.8738 - factorized_top_k/top_50_categorical_accuracy: 1.0000 - factorized_top_k/top_100_categorical_accuracy: 1.0000 - loss: 621.0596 - regularization_loss: 0.0000e+00 - total_loss: 621.0596\n"
     ]
    },
    {
     "data": {
      "text/plain": [
       "<keras.callbacks.History at 0x1a590f22d60>"
      ]
     },
     "execution_count": 60,
     "metadata": {},
     "output_type": "execute_result"
    }
   ],
   "source": [
    "# compile and train\n",
    "model = MovieLensModel(user_model, movie_model, task)\n",
    "model.compile(optimizer=tf.keras.optimizers.Adagrad(0.5))\n",
    "\n",
    "# Train for 3 epochs.\n",
    "model.fit(cached_train, epochs=3)"
   ]
  },
  {
   "cell_type": "code",
   "execution_count": 61,
   "id": "7145b4f3",
   "metadata": {
    "ExecuteTime": {
     "end_time": "2022-12-26T06:09:27.060654Z",
     "start_time": "2022-12-26T06:08:52.644591Z"
    }
   },
   "outputs": [
    {
     "name": "stdout",
     "output_type": "stream",
     "text": [
      "156/156 [==============================] - 34s 218ms/step - factorized_top_k/top_1_categorical_accuracy: 0.8728 - factorized_top_k/top_5_categorical_accuracy: 0.8728 - factorized_top_k/top_10_categorical_accuracy: 0.8728 - factorized_top_k/top_50_categorical_accuracy: 1.0000 - factorized_top_k/top_100_categorical_accuracy: 1.0000 - loss: 614.0656 - regularization_loss: 0.0000e+00 - total_loss: 614.0656\n"
     ]
    },
    {
     "data": {
      "text/plain": [
       "{'factorized_top_k/top_1_categorical_accuracy': 0.8727785348892212,\n",
       " 'factorized_top_k/top_5_categorical_accuracy': 0.8727785348892212,\n",
       " 'factorized_top_k/top_10_categorical_accuracy': 0.8728289008140564,\n",
       " 'factorized_top_k/top_50_categorical_accuracy': 1.0,\n",
       " 'factorized_top_k/top_100_categorical_accuracy': 1.0,\n",
       " 'loss': 72.11636352539062,\n",
       " 'regularization_loss': 0,\n",
       " 'total_loss': 72.11636352539062}"
      ]
     },
     "execution_count": 61,
     "metadata": {},
     "output_type": "execute_result"
    }
   ],
   "source": [
    "model.evaluate(cached_test, return_dict=True)"
   ]
  }
 ],
 "metadata": {
  "kernelspec": {
   "display_name": "Python 3 (ipykernel)",
   "language": "python",
   "name": "python3"
  },
  "language_info": {
   "codemirror_mode": {
    "name": "ipython",
    "version": 3
   },
   "file_extension": ".py",
   "mimetype": "text/x-python",
   "name": "python",
   "nbconvert_exporter": "python",
   "pygments_lexer": "ipython3",
   "version": "3.9.12"
  },
  "toc": {
   "base_numbering": 1,
   "nav_menu": {},
   "number_sections": true,
   "sideBar": true,
   "skip_h1_title": false,
   "title_cell": "Table of Contents",
   "title_sidebar": "Contents",
   "toc_cell": false,
   "toc_position": {},
   "toc_section_display": true,
   "toc_window_display": false
  }
 },
 "nbformat": 4,
 "nbformat_minor": 5
}
