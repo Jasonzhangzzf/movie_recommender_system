{
 "cells": [
  {
   "cell_type": "code",
   "execution_count": 48,
   "id": "589925ca",
   "metadata": {
    "ExecuteTime": {
     "end_time": "2022-12-22T02:09:07.819561Z",
     "start_time": "2022-12-22T02:09:07.800626Z"
    }
   },
   "outputs": [],
   "source": [
    "import pandas as pd\n",
    "import numpy as np\n",
    "from tqdm import tqdm\n",
    "tqdm.pandas()\n",
    "\n",
    "import pickle\n",
    "def save_pickle(model, filename):\n",
    "    with open(filename, 'wb') as f:\n",
    "        pickle.dump(model, f)\n",
    "def load_pickle(filename):\n",
    "    with open(filename, 'rb') as f:\n",
    "        return pickle.load(f)"
   ]
  },
  {
   "cell_type": "code",
   "execution_count": 213,
   "id": "75e3235a",
   "metadata": {
    "ExecuteTime": {
     "end_time": "2022-12-22T07:28:49.121390Z",
     "start_time": "2022-12-22T07:28:49.055608Z"
    }
   },
   "outputs": [],
   "source": [
    "# Load result data from Preprocessing_1_IMDb\n",
    "df = load_pickle(\"rating_movie_user.pickle\")"
   ]
  },
  {
   "cell_type": "markdown",
   "id": "3e0cc55b",
   "metadata": {},
   "source": [
    "In this notebook, we will primarily focus on extracting new features from existing columns. The normalization, categorization, and embedding will be done in the model_ranking notebook."
   ]
  },
  {
   "cell_type": "markdown",
   "id": "a8129205",
   "metadata": {},
   "source": [
    "### User Feature"
   ]
  },
  {
   "cell_type": "code",
   "execution_count": 214,
   "id": "d87194fb",
   "metadata": {
    "ExecuteTime": {
     "end_time": "2022-12-22T07:28:50.926444Z",
     "start_time": "2022-12-22T07:28:50.896541Z"
    }
   },
   "outputs": [],
   "source": [
    "# Turn gender into 0/1\n",
    "df['gender'] = df['gender'].apply(lambda x : 1 if x == \"M\" else 0)"
   ]
  },
  {
   "cell_type": "code",
   "execution_count": 215,
   "id": "7e9e537e",
   "metadata": {
    "ExecuteTime": {
     "end_time": "2022-12-22T07:28:52.636923Z",
     "start_time": "2022-12-22T07:28:52.605088Z"
    }
   },
   "outputs": [],
   "source": [
    "# Bucketize zipcode by the first two digits\n",
    "df['zipcode_bucket'] = df['zip code'].apply(lambda x: str(x)[:2])"
   ]
  },
  {
   "cell_type": "markdown",
   "id": "bbe96503",
   "metadata": {},
   "source": [
    "### Movie Feature"
   ]
  },
  {
   "cell_type": "markdown",
   "id": "1a2a03aa",
   "metadata": {},
   "source": [
    "We gather most of the additional features through IMDb api in the *Preprocessing_1_IMDb* notebook. We just extract release year and top 2 genres and do renaming here."
   ]
  },
  {
   "cell_type": "code",
   "execution_count": 220,
   "id": "d8a08568",
   "metadata": {
    "ExecuteTime": {
     "end_time": "2022-12-22T07:30:59.923013Z",
     "start_time": "2022-12-22T07:30:55.413898Z"
    }
   },
   "outputs": [],
   "source": [
    "# Extract release year from release date\n",
    "df['release_year'] = pd.DatetimeIndex(df['release_date']).year"
   ]
  },
  {
   "cell_type": "code",
   "execution_count": 221,
   "id": "a4513112",
   "metadata": {
    "ExecuteTime": {
     "end_time": "2022-12-22T07:30:59.938960Z",
     "start_time": "2022-12-22T07:30:59.924006Z"
    }
   },
   "outputs": [],
   "source": [
    "# List all genre_cols\n",
    "genre_cols = ['unknown', 'Action', 'Adventure',\n",
    "       'Animation', \"Children's\", 'Comedy', 'Crime', 'Documentary', 'Drama',\n",
    "       'Fantasy', 'Film-Noir', 'Horror', 'Musical', 'Mystery', 'Romance',\n",
    "       'Sci-Fi', 'Thriller', 'War', 'Western']\n",
    "\n",
    "# Function to return the top 2 genres for each row\n",
    "def get_top2_genre(cols):\n",
    "    indexes = np.where(cols == 1)\n",
    "    return pd.Series([genre_cols[indexes[0][0]] if len(indexes[0]) > 0 else None,\n",
    "                      genre_cols[indexes[0][1]] if len(indexes[0]) >1 else None]) "
   ]
  },
  {
   "cell_type": "code",
   "execution_count": 222,
   "id": "180fe8dd",
   "metadata": {
    "ExecuteTime": {
     "end_time": "2022-12-22T07:31:16.269803Z",
     "start_time": "2022-12-22T07:31:02.970958Z"
    }
   },
   "outputs": [
    {
     "name": "stderr",
     "output_type": "stream",
     "text": [
      "100%|██████████| 99863/99863 [00:13<00:00, 7527.77it/s]\n"
     ]
    }
   ],
   "source": [
    "# Extract two movie genre columns for each movie\n",
    "df[['movie_genre_1', 'movie_genre_2']] = df[genre_cols].progress_apply(get_top2_genre, axis= 1)"
   ]
  },
  {
   "cell_type": "code",
   "execution_count": 223,
   "id": "15041d63",
   "metadata": {
    "ExecuteTime": {
     "end_time": "2022-12-22T07:31:22.861101Z",
     "start_time": "2022-12-22T07:31:22.851134Z"
    }
   },
   "outputs": [],
   "source": [
    "# Rename to IMDb_rating\n",
    "df['IMDb_rating'] = df['rating_y']"
   ]
  },
  {
   "cell_type": "code",
   "execution_count": 235,
   "id": "67c9bf68",
   "metadata": {
    "ExecuteTime": {
     "end_time": "2022-12-22T07:36:02.191557Z",
     "start_time": "2022-12-22T07:35:54.890802Z"
    }
   },
   "outputs": [
    {
     "name": "stderr",
     "output_type": "stream",
     "text": [
      "100%|██████████| 99863/99863 [00:07<00:00, 13714.01it/s]\n"
     ]
    }
   ],
   "source": [
    "# Split top2 cast into separate columns\n",
    "def get_top2_cast(top2_list):\n",
    "    return pd.Series([top2_list[0], \n",
    "                      top2_list[1] if len(top2_list) > 1 else None])\n",
    "\n",
    "df[['cast_1', 'cast_2']] = df['top2_cast'].progress_apply(get_top2_cast)"
   ]
  },
  {
   "cell_type": "markdown",
   "id": "baa3a431",
   "metadata": {},
   "source": [
    "### Rating Feature"
   ]
  },
  {
   "cell_type": "code",
   "execution_count": 236,
   "id": "0d594e49",
   "metadata": {
    "ExecuteTime": {
     "end_time": "2022-12-22T07:38:26.454945Z",
     "start_time": "2022-12-22T07:38:26.447969Z"
    }
   },
   "outputs": [],
   "source": [
    "# Rename rating_x to rating\n",
    "df['rating'] = df['rating_x']"
   ]
  },
  {
   "cell_type": "code",
   "execution_count": 237,
   "id": "0ee7d1ef",
   "metadata": {
    "ExecuteTime": {
     "end_time": "2022-12-22T07:38:29.019122Z",
     "start_time": "2022-12-22T07:38:28.858661Z"
    }
   },
   "outputs": [],
   "source": [
    "# Extract avg,std,count on rating for each user, order by timestamp, e.g. no future information leakage\n",
    "df1 = df.sort_values(['userId', 'timestamp'], ascending=[True, True]).reset_index()\n",
    "user_avg_rating = df1.groupby(df1.userId)['rating'].expanding().mean().reset_index()\n",
    "user_std_rating = df1.groupby(df1.userId)['rating'].expanding().std().reset_index()\n",
    "user_rating_count = df1.groupby(df1.userId)['rating'].expanding().count().reset_index()\n",
    "\n",
    "df1['user_avg_rating'] = user_avg_rating['rating']\n",
    "df1['user_std_rating'] = user_std_rating['rating'].fillna(0)\n",
    "df1['user_rating_count'] = user_rating_count['rating']"
   ]
  },
  {
   "cell_type": "code",
   "execution_count": 238,
   "id": "9e7410b4",
   "metadata": {
    "ExecuteTime": {
     "end_time": "2022-12-22T07:38:35.089186Z",
     "start_time": "2022-12-22T07:38:35.052254Z"
    }
   },
   "outputs": [
    {
     "data": {
      "text/html": [
       "<div>\n",
       "<style scoped>\n",
       "    .dataframe tbody tr th:only-of-type {\n",
       "        vertical-align: middle;\n",
       "    }\n",
       "\n",
       "    .dataframe tbody tr th {\n",
       "        vertical-align: top;\n",
       "    }\n",
       "\n",
       "    .dataframe thead th {\n",
       "        text-align: right;\n",
       "    }\n",
       "</style>\n",
       "<table border=\"1\" class=\"dataframe\">\n",
       "  <thead>\n",
       "    <tr style=\"text-align: right;\">\n",
       "      <th></th>\n",
       "      <th>userId</th>\n",
       "      <th>timestamp</th>\n",
       "      <th>rating</th>\n",
       "      <th>user_avg_rating</th>\n",
       "      <th>user_std_rating</th>\n",
       "      <th>user_rating_count</th>\n",
       "    </tr>\n",
       "  </thead>\n",
       "  <tbody>\n",
       "    <tr>\n",
       "      <th>16391</th>\n",
       "      <td>172</td>\n",
       "      <td>875536498</td>\n",
       "      <td>3</td>\n",
       "      <td>3.00</td>\n",
       "      <td>0.000000</td>\n",
       "      <td>1.0</td>\n",
       "    </tr>\n",
       "    <tr>\n",
       "      <th>16392</th>\n",
       "      <td>172</td>\n",
       "      <td>875536591</td>\n",
       "      <td>1</td>\n",
       "      <td>2.00</td>\n",
       "      <td>1.414214</td>\n",
       "      <td>2.0</td>\n",
       "    </tr>\n",
       "    <tr>\n",
       "      <th>16393</th>\n",
       "      <td>172</td>\n",
       "      <td>875536721</td>\n",
       "      <td>2</td>\n",
       "      <td>2.00</td>\n",
       "      <td>1.000000</td>\n",
       "      <td>3.0</td>\n",
       "    </tr>\n",
       "    <tr>\n",
       "      <th>16394</th>\n",
       "      <td>172</td>\n",
       "      <td>875537099</td>\n",
       "      <td>1</td>\n",
       "      <td>1.75</td>\n",
       "      <td>0.957427</td>\n",
       "      <td>4.0</td>\n",
       "    </tr>\n",
       "    <tr>\n",
       "      <th>16395</th>\n",
       "      <td>172</td>\n",
       "      <td>875537151</td>\n",
       "      <td>4</td>\n",
       "      <td>2.20</td>\n",
       "      <td>1.303840</td>\n",
       "      <td>5.0</td>\n",
       "    </tr>\n",
       "  </tbody>\n",
       "</table>\n",
       "</div>"
      ],
      "text/plain": [
       "       userId  timestamp  rating  user_avg_rating  user_std_rating  \\\n",
       "16391     172  875536498       3             3.00         0.000000   \n",
       "16392     172  875536591       1             2.00         1.414214   \n",
       "16393     172  875536721       2             2.00         1.000000   \n",
       "16394     172  875537099       1             1.75         0.957427   \n",
       "16395     172  875537151       4             2.20         1.303840   \n",
       "\n",
       "       user_rating_count  \n",
       "16391                1.0  \n",
       "16392                2.0  \n",
       "16393                3.0  \n",
       "16394                4.0  \n",
       "16395                5.0  "
      ]
     },
     "execution_count": 238,
     "metadata": {},
     "output_type": "execute_result"
    }
   ],
   "source": [
    "# Sanity Checking to see if these features are ordered by timestamp\n",
    "df1[df1.userId == 172][['userId', 'timestamp', 'rating','user_avg_rating', 'user_std_rating', 'user_rating_count']][:5]"
   ]
  },
  {
   "cell_type": "code",
   "execution_count": 239,
   "id": "35b7a9eb",
   "metadata": {
    "ExecuteTime": {
     "end_time": "2022-12-22T07:38:38.809477Z",
     "start_time": "2022-12-22T07:38:38.635058Z"
    }
   },
   "outputs": [],
   "source": [
    "# Extract avg,std,count on rating for each movie, order by timestamp, e.g. no future information leakage\n",
    "df2 = df1.sort_values(['movieId', 'timestamp'], ascending=[True, True]).reset_index()\n",
    "movie_avg_rating = df2.groupby(df2.movieId)['rating'].expanding().mean().reset_index()\n",
    "movie_std_rating = df2.groupby(df2.movieId)['rating'].expanding().std().reset_index()\n",
    "movie_rating_count = df2.groupby(df2.movieId)['rating'].expanding().count().reset_index()\n",
    "\n",
    "df2['movie_avg_rating'] = movie_avg_rating['rating']\n",
    "df2['movie_std_rating'] = movie_std_rating['rating'].fillna(0)\n",
    "df2['movie_rating_count'] = movie_rating_count['rating']"
   ]
  },
  {
   "cell_type": "code",
   "execution_count": 240,
   "id": "caa9a2eb",
   "metadata": {
    "ExecuteTime": {
     "end_time": "2022-12-22T07:38:41.089491Z",
     "start_time": "2022-12-22T07:38:41.057503Z"
    }
   },
   "outputs": [
    {
     "data": {
      "text/html": [
       "<div>\n",
       "<style scoped>\n",
       "    .dataframe tbody tr th:only-of-type {\n",
       "        vertical-align: middle;\n",
       "    }\n",
       "\n",
       "    .dataframe tbody tr th {\n",
       "        vertical-align: top;\n",
       "    }\n",
       "\n",
       "    .dataframe thead th {\n",
       "        text-align: right;\n",
       "    }\n",
       "</style>\n",
       "<table border=\"1\" class=\"dataframe\">\n",
       "  <thead>\n",
       "    <tr style=\"text-align: right;\">\n",
       "      <th></th>\n",
       "      <th>movieId</th>\n",
       "      <th>timestamp</th>\n",
       "      <th>rating</th>\n",
       "      <th>movie_avg_rating</th>\n",
       "      <th>movie_std_rating</th>\n",
       "      <th>movie_rating_count</th>\n",
       "    </tr>\n",
       "  </thead>\n",
       "  <tbody>\n",
       "    <tr>\n",
       "      <th>23857</th>\n",
       "      <td>172</td>\n",
       "      <td>874729901</td>\n",
       "      <td>5</td>\n",
       "      <td>5.000000</td>\n",
       "      <td>0.000000</td>\n",
       "      <td>1.0</td>\n",
       "    </tr>\n",
       "    <tr>\n",
       "      <th>23858</th>\n",
       "      <td>172</td>\n",
       "      <td>874782191</td>\n",
       "      <td>4</td>\n",
       "      <td>4.500000</td>\n",
       "      <td>0.707107</td>\n",
       "      <td>2.0</td>\n",
       "    </tr>\n",
       "    <tr>\n",
       "      <th>23859</th>\n",
       "      <td>172</td>\n",
       "      <td>874785889</td>\n",
       "      <td>4</td>\n",
       "      <td>4.333333</td>\n",
       "      <td>0.577350</td>\n",
       "      <td>3.0</td>\n",
       "    </tr>\n",
       "    <tr>\n",
       "      <th>23860</th>\n",
       "      <td>172</td>\n",
       "      <td>874792435</td>\n",
       "      <td>5</td>\n",
       "      <td>4.500000</td>\n",
       "      <td>0.577350</td>\n",
       "      <td>4.0</td>\n",
       "    </tr>\n",
       "    <tr>\n",
       "      <th>23861</th>\n",
       "      <td>172</td>\n",
       "      <td>874829883</td>\n",
       "      <td>5</td>\n",
       "      <td>4.600000</td>\n",
       "      <td>0.547723</td>\n",
       "      <td>5.0</td>\n",
       "    </tr>\n",
       "  </tbody>\n",
       "</table>\n",
       "</div>"
      ],
      "text/plain": [
       "       movieId  timestamp  rating  movie_avg_rating  movie_std_rating  \\\n",
       "23857      172  874729901       5          5.000000          0.000000   \n",
       "23858      172  874782191       4          4.500000          0.707107   \n",
       "23859      172  874785889       4          4.333333          0.577350   \n",
       "23860      172  874792435       5          4.500000          0.577350   \n",
       "23861      172  874829883       5          4.600000          0.547723   \n",
       "\n",
       "       movie_rating_count  \n",
       "23857                 1.0  \n",
       "23858                 2.0  \n",
       "23859                 3.0  \n",
       "23860                 4.0  \n",
       "23861                 5.0  "
      ]
     },
     "execution_count": 240,
     "metadata": {},
     "output_type": "execute_result"
    }
   ],
   "source": [
    "# Sanity Checking to see if these features are ordered by timestamp\n",
    "df2[df2.movieId == 172][['movieId', 'timestamp', 'rating','movie_avg_rating', 'movie_std_rating', 'movie_rating_count']][:5]"
   ]
  },
  {
   "cell_type": "code",
   "execution_count": 254,
   "id": "f589fd16",
   "metadata": {
    "ExecuteTime": {
     "end_time": "2022-12-22T23:45:54.857508Z",
     "start_time": "2022-12-22T23:45:45.358146Z"
    }
   },
   "outputs": [],
   "source": [
    "# Get favorite movie genre for each user, order by timestamp, e.g. no future information leakage\n",
    "df3 = df2.copy()\n",
    "df3 = df2.sort_values(['userId', 'timestamp'], ascending=[True, True]).reset_index(drop=True)\n",
    "\n",
    "# sum up counts for each genre, for ratings >= 4\n",
    "for g in genre_cols:\n",
    "    like_sum = df3.groupby(df3.userId).apply(lambda x: x[x['rating_x'] >= 4])[g].expanding().sum().reset_index()\n",
    "    df3[g + '_sum'] = like_sum[g]\n",
    "\n",
    "movie_genres_sum = [g + '_sum' for g in genre_cols]\n",
    "# find genre with highest count\n",
    "df3['user_fav_genre']= df3[movie_genres_sum].idxmax(axis=1)\n",
    "df3['user_fav_genre'] = df3['user_fav_genre'].str.replace('_sum', '')"
   ]
  },
  {
   "cell_type": "code",
   "execution_count": 256,
   "id": "22a786c5",
   "metadata": {
    "ExecuteTime": {
     "end_time": "2022-12-22T23:46:01.407706Z",
     "start_time": "2022-12-22T23:46:01.389698Z"
    }
   },
   "outputs": [
    {
     "data": {
      "text/html": [
       "<div>\n",
       "<style scoped>\n",
       "    .dataframe tbody tr th:only-of-type {\n",
       "        vertical-align: middle;\n",
       "    }\n",
       "\n",
       "    .dataframe tbody tr th {\n",
       "        vertical-align: top;\n",
       "    }\n",
       "\n",
       "    .dataframe thead th {\n",
       "        text-align: right;\n",
       "    }\n",
       "</style>\n",
       "<table border=\"1\" class=\"dataframe\">\n",
       "  <thead>\n",
       "    <tr style=\"text-align: right;\">\n",
       "      <th></th>\n",
       "      <th>userId</th>\n",
       "      <th>timestamp</th>\n",
       "      <th>user_fav_genre</th>\n",
       "      <th>rating</th>\n",
       "      <th>unknown</th>\n",
       "      <th>Action</th>\n",
       "      <th>Adventure</th>\n",
       "      <th>Animation</th>\n",
       "      <th>Children's</th>\n",
       "      <th>Comedy</th>\n",
       "      <th>Crime</th>\n",
       "      <th>Documentary</th>\n",
       "      <th>Drama</th>\n",
       "      <th>Fantasy</th>\n",
       "      <th>Film-Noir</th>\n",
       "      <th>Horror</th>\n",
       "      <th>Musical</th>\n",
       "      <th>Mystery</th>\n",
       "      <th>Romance</th>\n",
       "      <th>Sci-Fi</th>\n",
       "      <th>Thriller</th>\n",
       "      <th>War</th>\n",
       "      <th>Western</th>\n",
       "    </tr>\n",
       "  </thead>\n",
       "  <tbody>\n",
       "    <tr>\n",
       "      <th>0</th>\n",
       "      <td>1</td>\n",
       "      <td>874965478</td>\n",
       "      <td>Comedy</td>\n",
       "      <td>5</td>\n",
       "      <td>0</td>\n",
       "      <td>0</td>\n",
       "      <td>0</td>\n",
       "      <td>0</td>\n",
       "      <td>0</td>\n",
       "      <td>1</td>\n",
       "      <td>0</td>\n",
       "      <td>0</td>\n",
       "      <td>0</td>\n",
       "      <td>0</td>\n",
       "      <td>0</td>\n",
       "      <td>0</td>\n",
       "      <td>0</td>\n",
       "      <td>0</td>\n",
       "      <td>0</td>\n",
       "      <td>0</td>\n",
       "      <td>0</td>\n",
       "      <td>0</td>\n",
       "      <td>0</td>\n",
       "    </tr>\n",
       "    <tr>\n",
       "      <th>1</th>\n",
       "      <td>1</td>\n",
       "      <td>874965478</td>\n",
       "      <td>Action</td>\n",
       "      <td>5</td>\n",
       "      <td>0</td>\n",
       "      <td>1</td>\n",
       "      <td>1</td>\n",
       "      <td>0</td>\n",
       "      <td>0</td>\n",
       "      <td>0</td>\n",
       "      <td>0</td>\n",
       "      <td>0</td>\n",
       "      <td>1</td>\n",
       "      <td>0</td>\n",
       "      <td>0</td>\n",
       "      <td>0</td>\n",
       "      <td>0</td>\n",
       "      <td>0</td>\n",
       "      <td>1</td>\n",
       "      <td>1</td>\n",
       "      <td>0</td>\n",
       "      <td>1</td>\n",
       "      <td>0</td>\n",
       "    </tr>\n",
       "    <tr>\n",
       "      <th>2</th>\n",
       "      <td>1</td>\n",
       "      <td>874965518</td>\n",
       "      <td>Drama</td>\n",
       "      <td>5</td>\n",
       "      <td>0</td>\n",
       "      <td>0</td>\n",
       "      <td>0</td>\n",
       "      <td>0</td>\n",
       "      <td>0</td>\n",
       "      <td>0</td>\n",
       "      <td>0</td>\n",
       "      <td>0</td>\n",
       "      <td>1</td>\n",
       "      <td>0</td>\n",
       "      <td>0</td>\n",
       "      <td>0</td>\n",
       "      <td>0</td>\n",
       "      <td>0</td>\n",
       "      <td>0</td>\n",
       "      <td>0</td>\n",
       "      <td>0</td>\n",
       "      <td>0</td>\n",
       "      <td>0</td>\n",
       "    </tr>\n",
       "    <tr>\n",
       "      <th>3</th>\n",
       "      <td>1</td>\n",
       "      <td>874965556</td>\n",
       "      <td>Drama</td>\n",
       "      <td>4</td>\n",
       "      <td>0</td>\n",
       "      <td>0</td>\n",
       "      <td>0</td>\n",
       "      <td>0</td>\n",
       "      <td>0</td>\n",
       "      <td>0</td>\n",
       "      <td>1</td>\n",
       "      <td>0</td>\n",
       "      <td>0</td>\n",
       "      <td>0</td>\n",
       "      <td>0</td>\n",
       "      <td>0</td>\n",
       "      <td>0</td>\n",
       "      <td>0</td>\n",
       "      <td>0</td>\n",
       "      <td>0</td>\n",
       "      <td>1</td>\n",
       "      <td>0</td>\n",
       "      <td>0</td>\n",
       "    </tr>\n",
       "    <tr>\n",
       "      <th>4</th>\n",
       "      <td>1</td>\n",
       "      <td>874965677</td>\n",
       "      <td>Drama</td>\n",
       "      <td>5</td>\n",
       "      <td>0</td>\n",
       "      <td>0</td>\n",
       "      <td>0</td>\n",
       "      <td>0</td>\n",
       "      <td>0</td>\n",
       "      <td>0</td>\n",
       "      <td>0</td>\n",
       "      <td>0</td>\n",
       "      <td>1</td>\n",
       "      <td>0</td>\n",
       "      <td>0</td>\n",
       "      <td>0</td>\n",
       "      <td>0</td>\n",
       "      <td>0</td>\n",
       "      <td>0</td>\n",
       "      <td>0</td>\n",
       "      <td>0</td>\n",
       "      <td>0</td>\n",
       "      <td>0</td>\n",
       "    </tr>\n",
       "  </tbody>\n",
       "</table>\n",
       "</div>"
      ],
      "text/plain": [
       "   userId  timestamp user_fav_genre  rating  unknown  Action  Adventure  \\\n",
       "0       1  874965478         Comedy       5        0       0          0   \n",
       "1       1  874965478         Action       5        0       1          1   \n",
       "2       1  874965518          Drama       5        0       0          0   \n",
       "3       1  874965556          Drama       4        0       0          0   \n",
       "4       1  874965677          Drama       5        0       0          0   \n",
       "\n",
       "   Animation  Children's  Comedy  Crime  Documentary  Drama  Fantasy  \\\n",
       "0          0           0       1      0            0      0        0   \n",
       "1          0           0       0      0            0      1        0   \n",
       "2          0           0       0      0            0      1        0   \n",
       "3          0           0       0      1            0      0        0   \n",
       "4          0           0       0      0            0      1        0   \n",
       "\n",
       "   Film-Noir  Horror  Musical  Mystery  Romance  Sci-Fi  Thriller  War  \\\n",
       "0          0       0        0        0        0       0         0    0   \n",
       "1          0       0        0        0        1       1         0    1   \n",
       "2          0       0        0        0        0       0         0    0   \n",
       "3          0       0        0        0        0       0         1    0   \n",
       "4          0       0        0        0        0       0         0    0   \n",
       "\n",
       "   Western  \n",
       "0        0  \n",
       "1        0  \n",
       "2        0  \n",
       "3        0  \n",
       "4        0  "
      ]
     },
     "execution_count": 256,
     "metadata": {},
     "output_type": "execute_result"
    }
   ],
   "source": [
    "# Sanity check to see if favourite genre for a user is correct\n",
    "df3[df3.userId == 1][['userId', 'timestamp', 'user_fav_genre', 'rating'] + genre_cols][:5]"
   ]
  },
  {
   "cell_type": "code",
   "execution_count": 263,
   "id": "d82c495f",
   "metadata": {
    "ExecuteTime": {
     "end_time": "2022-12-22T23:48:59.934843Z",
     "start_time": "2022-12-22T23:48:59.799943Z"
    }
   },
   "outputs": [],
   "source": [
    "df4 = df3.copy()\n",
    "\n",
    "# concat the rating and movie id for each row to a new column called 'rating_and_movie'\n",
    "df4['rating_and_movie'] = df4['rating'].map(str) + df4['movieId'].map(str) \n",
    "df4['rating_and_movie'] = df4['rating_and_movie'].astype(int)\n",
    "\n",
    "# for each user, find the rolling max of 'rating_and_movie'\n",
    "temp1 = df4.groupby(df4.userId)['rating_and_movie'].expanding().max().reset_index()\n",
    "\n",
    "# remove the rating digit, and keep the movie id\n",
    "df4['user_fav_movieId'] = temp1['rating_and_movie'].astype(int).map(str).str[1:].astype(int)"
   ]
  },
  {
   "cell_type": "markdown",
   "id": "0c13026a",
   "metadata": {},
   "source": [
    "### Save features to disk"
   ]
  },
  {
   "cell_type": "code",
   "execution_count": 264,
   "id": "2db0f7a5",
   "metadata": {
    "ExecuteTime": {
     "end_time": "2022-12-22T23:49:33.394446Z",
     "start_time": "2022-12-22T23:49:33.291790Z"
    }
   },
   "outputs": [],
   "source": [
    "# Save all the important features to file\n",
    "result_df = df4[['userId', 'age', 'gender', 'occupation', 'zipcode_bucket',               # User Features\n",
    "                 'movieId', 'movie_genre_1', 'movie_genre_2', 'IMDb_rating',              # Movie Features\n",
    "                 'director', 'cast_1', 'cast_2', 'plot embedding', 'release_year',        # Movie Features\n",
    "                 'rating', 'user_avg_rating', 'user_std_rating', 'user_rating_count',     # Rating Features\n",
    "                 'movie_avg_rating', 'movie_std_rating', 'movie_rating_count',            # Rating Features\n",
    "                 'user_fav_genre', 'user_fav_movieId', 'timestamp'                        # Rating Features        \n",
    "               ]]\n",
    "save_pickle(result_df, 'data.pickle')"
   ]
  }
 ],
 "metadata": {
  "kernelspec": {
   "display_name": "Python 3 (ipykernel)",
   "language": "python",
   "name": "python3"
  },
  "language_info": {
   "codemirror_mode": {
    "name": "ipython",
    "version": 3
   },
   "file_extension": ".py",
   "mimetype": "text/x-python",
   "name": "python",
   "nbconvert_exporter": "python",
   "pygments_lexer": "ipython3",
   "version": "3.9.12"
  },
  "toc": {
   "base_numbering": 1,
   "nav_menu": {},
   "number_sections": true,
   "sideBar": true,
   "skip_h1_title": false,
   "title_cell": "Table of Contents",
   "title_sidebar": "Contents",
   "toc_cell": false,
   "toc_position": {},
   "toc_section_display": true,
   "toc_window_display": false
  }
 },
 "nbformat": 4,
 "nbformat_minor": 5
}
