{
 "cells": [
  {
   "cell_type": "code",
   "execution_count": 1,
   "id": "12c9e9b2",
   "metadata": {
    "ExecuteTime": {
     "end_time": "2022-12-26T15:37:43.373475Z",
     "start_time": "2022-12-26T15:37:39.134513Z"
    }
   },
   "outputs": [],
   "source": [
    "import pandas as pd\n",
    "import numpy as np\n",
    "import tensorflow as tf\n",
    "from tensorflow.keras import backend as K\n",
    "import matplotlib.pyplot as plt\n",
    "def rmse(y_true, y_pred):\n",
    "    return K.sqrt(K.mean(K.square(y_pred - y_true)))\n",
    "\n",
    "import pickle\n",
    "def save_pickle(model, filename):\n",
    "    with open(filename, 'wb') as f:\n",
    "        pickle.dump(model, f)\n",
    "def load_pickle(filename):\n",
    "    with open(filename, 'rb') as f:\n",
    "        return pickle.load(f)"
   ]
  },
  {
   "cell_type": "markdown",
   "id": "d55887eb",
   "metadata": {},
   "source": [
    "In this notebook, we will primarily focus on building 4 deep learning models for recommender system. They are **neuralCF**, **DSSM**, **Wide and Deep**, and **DeepFM**. We will also include some preprocessing on numerical and categorical features, including normalization, one-hot encoding, and embedding. "
   ]
  },
  {
   "cell_type": "markdown",
   "id": "a4beb501",
   "metadata": {},
   "source": [
    "### Load data, preprocessing, train-val-test split, and load to tf dataset"
   ]
  },
  {
   "cell_type": "code",
   "execution_count": 2,
   "id": "f7cbc16e",
   "metadata": {
    "ExecuteTime": {
     "end_time": "2022-12-26T15:38:33.711425Z",
     "start_time": "2022-12-26T15:38:33.641659Z"
    }
   },
   "outputs": [],
   "source": [
    "# Load final data from preprocessing_2_feature_engineering\n",
    "data = load_pickle('data.pickle')"
   ]
  },
  {
   "cell_type": "code",
   "execution_count": 3,
   "id": "1fb3f576",
   "metadata": {
    "ExecuteTime": {
     "end_time": "2022-12-26T15:38:35.610073Z",
     "start_time": "2022-12-26T15:38:35.560242Z"
    }
   },
   "outputs": [],
   "source": [
    "# Deal with missing values\n",
    "# Make na as type 'unknown' to make tensorflow happy\n",
    "data.fillna({'cast_1':'unknown', \n",
    "             'cast_2':'unknown', \n",
    "             'movie_genre_1': \"unknown\", \n",
    "             \"movie_genre_2\":\"unknown\", \n",
    "             'user_fav_genre': \"unknown\",\n",
    "             'release_year': data.release_year.mean()}, inplace=True)"
   ]
  },
  {
   "cell_type": "code",
   "execution_count": 4,
   "id": "7d21f3a0",
   "metadata": {
    "ExecuteTime": {
     "end_time": "2022-12-26T15:38:37.624966Z",
     "start_time": "2022-12-26T15:38:37.602047Z"
    }
   },
   "outputs": [],
   "source": [
    "# Preprocessing numerical columns\n",
    "numerical_cols = ['age','IMDb_rating', 'release_year', 'user_avg_rating', 'user_std_rating',  'user_rating_count',\n",
    "                 'movie_avg_rating', 'movie_std_rating', 'movie_rating_count',]\n",
    "# Apply normalization techniques to all numerical columns\n",
    "for column in numerical_cols:\n",
    "    data[column] = (data[column] - data[column].min()) / (data[column].max() - data[column].min())   "
   ]
  },
  {
   "cell_type": "code",
   "execution_count": 5,
   "id": "4f3584cb",
   "metadata": {
    "ExecuteTime": {
     "end_time": "2022-12-26T15:38:39.571912Z",
     "start_time": "2022-12-26T15:38:39.564935Z"
    }
   },
   "outputs": [],
   "source": [
    "# Define features and genre_cols for future uses\n",
    "features = ['userId', 'age', 'gender', 'occupation', 'zipcode_bucket',                    # User Features\n",
    "                 'movieId', 'movie_genre_1', 'movie_genre_2', 'IMDb_rating',              # Movie Features\n",
    "                 'director', 'cast_1', 'cast_2', 'plot embedding', 'release_year',        # Movie Features\n",
    "                 'rating', 'user_avg_rating', 'user_std_rating', 'user_rating_count',     # Rating Features\n",
    "                 'movie_avg_rating', 'movie_std_rating', 'movie_rating_count',            # Rating Features\n",
    "                 'user_fav_genre', 'user_fav_movieId', 'timestamp'                        # Rating Features        \n",
    "               ]\n",
    "genre_cols = ['unknown', 'Action', 'Adventure',\n",
    "       'Animation', \"Children's\", 'Comedy', 'Crime', 'Documentary', 'Drama',\n",
    "       'Fantasy', 'Film-Noir', 'Horror', 'Musical', 'Mystery', 'Romance',\n",
    "       'Sci-Fi', 'Thriller', 'War', 'Western']"
   ]
  },
  {
   "cell_type": "code",
   "execution_count": 6,
   "id": "f97a831f",
   "metadata": {
    "ExecuteTime": {
     "end_time": "2022-12-26T15:38:44.769435Z",
     "start_time": "2022-12-26T15:38:44.743522Z"
    }
   },
   "outputs": [],
   "source": [
    "# Split features and target\n",
    "# Note data and X are already sorted by timestamp ascending\n",
    "X = data.drop([\"rating\",'plot embedding', 'timestamp'] , axis = 1)\n",
    "y = data['rating'].astype('float32')"
   ]
  },
  {
   "cell_type": "code",
   "execution_count": 58,
   "id": "93ab8070",
   "metadata": {
    "ExecuteTime": {
     "end_time": "2022-12-26T16:11:01.822845Z",
     "start_time": "2022-12-26T16:11:01.814876Z"
    }
   },
   "outputs": [],
   "source": [
    "# Create place holders for train, val, and test\n",
    "# Note I want to retain the column types from original dataframe, so I use X[0:0] \n",
    "raw_train = X[0:0]\n",
    "raw_val = X[0:0]\n",
    "raw_test = X[0:0]"
   ]
  },
  {
   "cell_type": "code",
   "execution_count": 59,
   "id": "15a78850",
   "metadata": {
    "ExecuteTime": {
     "end_time": "2022-12-26T16:11:07.840325Z",
     "start_time": "2022-12-26T16:11:04.287312Z"
    }
   },
   "outputs": [],
   "source": [
    "# Create train-val-test split:  Train 80%, val 10%, test 10%\n",
    "# Note I split it by user group sorted by timestamp to make sure no future information leakage\n",
    "for name, group in X.groupby('userId'):\n",
    "    size = len(group)\n",
    "    train_size, val_size = int(size * 0.8), int(size * 0.1)\n",
    "    raw_train = pd.concat([raw_train, group[ : train_size]])\n",
    "    raw_val = pd.concat([raw_val,group[train_size : train_size+val_size]])       \n",
    "    raw_test = pd.concat([raw_test,group[train_size+val_size:]])"
   ]
  },
  {
   "cell_type": "code",
   "execution_count": 62,
   "id": "e250a1ed",
   "metadata": {
    "ExecuteTime": {
     "end_time": "2022-12-26T16:15:04.297003Z",
     "start_time": "2022-12-26T16:15:04.219134Z"
    }
   },
   "outputs": [],
   "source": [
    "# Feed into tf dataset\n",
    "# shuffle and batch\n",
    "train_ds = tf.data.Dataset.from_tensor_slices((dict(raw_train), y.iloc[raw_train.index])).shuffle(len(raw_train)).batch(32)\n",
    "val_ds = tf.data.Dataset.from_tensor_slices((dict(raw_val), y.iloc[raw_val.index])).shuffle(len(raw_val)).batch(32)\n",
    "test_ds = tf.data.Dataset.from_tensor_slices((dict(raw_test), y.iloc[raw_test.index])).shuffle(len(raw_test)).batch(32)"
   ]
  },
  {
   "cell_type": "markdown",
   "id": "ff0afd47",
   "metadata": {
    "heading_collapsed": true
   },
   "source": [
    "### Define inputs and feature columns"
   ]
  },
  {
   "cell_type": "code",
   "execution_count": 63,
   "id": "085ae960",
   "metadata": {
    "ExecuteTime": {
     "end_time": "2022-12-26T16:19:43.633070Z",
     "start_time": "2022-12-26T16:19:43.609091Z"
    },
    "hidden": true
   },
   "outputs": [],
   "source": [
    "# Define tensorflow inputs\n",
    "inputs = {\n",
    "          # User Features\n",
    "          'age': tf.keras.layers.Input(name='age', shape=(), dtype='int32'),\n",
    "          'gender': tf.keras.layers.Input(name='gender', shape=(), dtype='int32'),\n",
    "          'occupation': tf.keras.layers.Input(name='occupation', shape=(), dtype='string'),\n",
    "          'zipcode_bucket': tf.keras.layers.Input(name='zipcode_bucket', shape=(), dtype='string'),\n",
    "    \n",
    "          # Movie Features\n",
    "          'movie_genre_1': tf.keras.layers.Input(name='movie_genre_1', shape=(), dtype='string'),\n",
    "          'movie_genre_2': tf.keras.layers.Input(name='movie_genre_2', shape=(), dtype='string'),\n",
    "          'IMDb_rating': tf.keras.layers.Input(name='IMDb_rating', shape=(), dtype='int32'),\n",
    "          'director': tf.keras.layers.Input(name='director', shape=(), dtype='string'),\n",
    "          'cast_1': tf.keras.layers.Input(name='cast_1', shape=(), dtype='string'),\n",
    "          'cast_2': tf.keras.layers.Input(name='cast_2', shape=(), dtype='string'),\n",
    "          'release_year': tf.keras.layers.Input(name='release_year', shape=(), dtype='float32'),\n",
    "    \n",
    "          # Rating features\n",
    "          'movieId': tf.keras.layers.Input(name='movieId', shape=(), dtype='int32'),\n",
    "          'userId': tf.keras.layers.Input(name='userId', shape=(), dtype='int32'),\n",
    "          'user_fav_genre': tf.keras.layers.Input(name='user_fav_genre', shape=(), dtype='string'),\n",
    "          'user_fav_movieId': tf.keras.layers.Input(name='user_fav_movieId', shape=(), dtype='int32'),\n",
    "    \n",
    "          'user_avg_rating': tf.keras.layers.Input(name='user_avg_rating', shape=(), dtype='float32'),\n",
    "          'user_std_rating': tf.keras.layers.Input(name='user_std_rating', shape=(), dtype='float32'),\n",
    "          'user_rating_count': tf.keras.layers.Input(name='user_rating_count', shape=(), dtype='int32'),\n",
    "    \n",
    "          'movie_avg_rating': tf.keras.layers.Input(name='movie_avg_rating', shape=(), dtype='float32'),\n",
    "          'movie_std_rating': tf.keras.layers.Input(name='movie_std_rating', shape=(), dtype='float32'),\n",
    "          'movie_rating_count': tf.keras.layers.Input(name='movie_rating_count', shape=(), dtype='int32'),\n",
    "}"
   ]
  },
  {
   "cell_type": "code",
   "execution_count": 64,
   "id": "cc2fec47",
   "metadata": {
    "ExecuteTime": {
     "end_time": "2022-12-26T16:19:45.761074Z",
     "start_time": "2022-12-26T16:19:45.728083Z"
    },
    "hidden": true
   },
   "outputs": [],
   "source": [
    "# <--movieId-->\n",
    "# Categorized\n",
    "movie_col = tf.feature_column.categorical_column_with_identity(key='movieId', num_buckets=1683)         \n",
    "# Embedding\n",
    "movie_emb_col = tf.feature_column.embedding_column(movie_col, 10)\n",
    "# Indicator\n",
    "movie_ind_col = tf.feature_column.indicator_column(movie_col)\n",
    "\n",
    "# <--userId-->\n",
    "# Categorized\n",
    "user_col = tf.feature_column.categorical_column_with_identity(key='userId', num_buckets=944)\n",
    "# Embedding\n",
    "user_emb_col = tf.feature_column.embedding_column(user_col, 10)\n",
    "# Indicator\n",
    "user_ind_col = tf.feature_column.indicator_column(user_col)\n",
    "\n",
    "# <--occupation-->\n",
    "# Categorized\n",
    "occupation_col = tf.feature_column.categorical_column_with_vocabulary_list(key=\"occupation\", vocabulary_list=data['occupation'].unique())\n",
    "# Embedding\n",
    "occupation_emb_col = tf.feature_column.embedding_column(occupation_col, 4)\n",
    "\n",
    "# <--gender-->\n",
    "# Categorized\n",
    "gender_col = tf.feature_column.categorical_column_with_identity(key = 'gender', num_buckets= 2)\n",
    "# Indicator\n",
    "gender_ind_col = tf.feature_column.indicator_column(gender_col)\n",
    "\n",
    "# <--zipcode_bucket-->\n",
    "# Categorized\n",
    "zipcode_bucket_col = tf.feature_column.categorical_column_with_vocabulary_list(key = 'zipcode_bucket', vocabulary_list=data['zipcode_bucket'].unique())\n",
    "# Embedding\n",
    "zipcode_bucket_emb_col = tf.feature_column.embedding_column(zipcode_bucket_col, 10)\n",
    "\n",
    "# <--movie_genre-->\n",
    "# Categorized\n",
    "movie_genre_1_col = tf.feature_column.categorical_column_with_vocabulary_list(key = 'movie_genre_1', vocabulary_list=genre_cols)\n",
    "movie_genre_2_col = tf.feature_column.categorical_column_with_vocabulary_list(key = 'movie_genre_2', vocabulary_list=genre_cols)\n",
    "# Embedding\n",
    "movie_genre_1_emd_col = tf.feature_column.embedding_column(movie_genre_1_col, 10)\n",
    "movie_genre_2_emd_col = tf.feature_column.embedding_column(movie_genre_2_col, 10)\n",
    "# Indicator\n",
    "movie_genre_1_ind_col = tf.feature_column.indicator_column(movie_genre_1_col)\n",
    "\n",
    "# <--director-->\n",
    "# Categorized\n",
    "director_col = tf.feature_column.categorical_column_with_vocabulary_list(key = 'director', vocabulary_list=data['director'].unique())\n",
    "# Embedding\n",
    "director_emb_col = tf.feature_column.embedding_column(director_col, 10)\n",
    "\n",
    "# <--cast-->\n",
    "# Create set to store all the actor names\n",
    "actor_set = set(data['cast_2'].unique()) | set(data['cast_1'].unique())\n",
    "# Categorized\n",
    "cast_1_col = tf.feature_column.categorical_column_with_vocabulary_list(key = 'cast_1', vocabulary_list=actor_set)\n",
    "cast_2_col = tf.feature_column.categorical_column_with_vocabulary_list(key = 'cast_2', vocabulary_list=actor_set)\n",
    "# Embedding\n",
    "cast_1_emb_col = tf.feature_column.embedding_column(cast_1_col, 10)\n",
    "cast_2_emb_col = tf.feature_column.embedding_column(cast_2_col, 10)\n",
    "\n",
    "\n",
    "\n",
    "# <--user_fav_genre-->\n",
    "# Categorized\n",
    "user_fav_genre_col = tf.feature_column.categorical_column_with_vocabulary_list(key = 'user_fav_genre', vocabulary_list=genre_cols)\n",
    "# Embedding\n",
    "user_fav_genre_emb_col = tf.feature_column.embedding_column(user_fav_genre_col, 10)\n",
    "# Indicator\n",
    "user_fav_genre_ind_col = tf.feature_column.indicator_column(user_fav_genre_col)\n",
    "\n",
    "# <--user_fav_movieId-->\n",
    "# Categorized\n",
    "user_fav_movieId_col = tf.feature_column.categorical_column_with_identity(key='user_fav_movieId', num_buckets=1683)     \n",
    "# Embedding\n",
    "user_fav_movieId_emb_col = tf.feature_column.embedding_column(user_fav_movieId_col, 10)\n",
    "\n",
    "categorical_columns = [movie_emb_col, user_emb_col, occupation_emb_col, gender_ind_col, zipcode_bucket_emb_col,  movie_genre_1_emd_col, \n",
    "                       movie_genre_2_emd_col, director_emb_col, cast_1_emb_col, cast_2_emb_col, user_fav_genre_emb_col,\n",
    "                       user_fav_movieId_emb_col]"
   ]
  },
  {
   "cell_type": "code",
   "execution_count": 65,
   "id": "6ff978a6",
   "metadata": {
    "ExecuteTime": {
     "end_time": "2022-12-26T16:19:48.488037Z",
     "start_time": "2022-12-26T16:19:48.478069Z"
    },
    "hidden": true
   },
   "outputs": [],
   "source": [
    "age_col = tf.feature_column.numeric_column('age')\n",
    "\n",
    "IMDb_rating_col = tf.feature_column.numeric_column('IMDb_rating')\n",
    "release_year_col = tf.feature_column.numeric_column('release_year')\n",
    "\n",
    "user_avg_rating_col = tf.feature_column.numeric_column('user_avg_rating')\n",
    "user_std_rating_col = tf.feature_column.numeric_column('user_std_rating')\n",
    "user_rating_count_col = tf.feature_column.numeric_column('user_rating_count')\n",
    "\n",
    "movie_avg_rating_col = tf.feature_column.numeric_column('movie_avg_rating')\n",
    "movie_std_rating_col = tf.feature_column.numeric_column('movie_std_rating')\n",
    "movie_rating_count_col = tf.feature_column.numeric_column('movie_rating_count')\n",
    "\n",
    "numerical_columns = [age_col ,IMDb_rating_col , release_year_col, user_avg_rating_col , user_std_rating_col , user_rating_count_col ,\n",
    "                     movie_avg_rating_col , movie_std_rating_col , movie_rating_count_col]"
   ]
  },
  {
   "cell_type": "markdown",
   "id": "df716f1f",
   "metadata": {
    "heading_collapsed": true
   },
   "source": [
    "### Define Models"
   ]
  },
  {
   "cell_type": "markdown",
   "id": "99e930ca",
   "metadata": {
    "heading_collapsed": true,
    "hidden": true
   },
   "source": [
    "#### Utility functions"
   ]
  },
  {
   "cell_type": "code",
   "execution_count": 66,
   "id": "b0127bec",
   "metadata": {
    "ExecuteTime": {
     "end_time": "2022-12-26T16:19:50.725124Z",
     "start_time": "2022-12-26T16:19:50.711174Z"
    },
    "hidden": true
   },
   "outputs": [],
   "source": [
    "# Define function to plot training and validation loss (rmse)\n",
    "def plot(history):\n",
    "    rmse = history.history['loss']\n",
    "    val_rmse = history.history['val_loss']\n",
    "\n",
    "    # Get the number of epochs\n",
    "    epochs = range(len(rmse))\n",
    "\n",
    "    plt.title('Training and validation rmse')\n",
    "    plt.plot(epochs, rmse, color='blue', label='Train')\n",
    "    plt.plot(epochs, val_rmse, color='orange', label='Val')\n",
    "    plt.xlabel('Epoch')\n",
    "    plt.ylabel('rmse')\n",
    "    plt.legend()"
   ]
  },
  {
   "cell_type": "code",
   "execution_count": 67,
   "id": "2bf9699b",
   "metadata": {
    "ExecuteTime": {
     "end_time": "2022-12-26T16:19:52.298933Z",
     "start_time": "2022-12-26T16:19:52.283909Z"
    },
    "hidden": true
   },
   "outputs": [],
   "source": [
    "# Define early stopping callback\n",
    "early_stopping = tf.keras.callbacks.EarlyStopping(\n",
    "    monitor='val_loss', \n",
    "    verbose=1,\n",
    "    patience=8,\n",
    "    mode='auto',\n",
    "    restore_best_weights=True)"
   ]
  },
  {
   "cell_type": "markdown",
   "id": "a91a3342",
   "metadata": {
    "heading_collapsed": true,
    "hidden": true
   },
   "source": [
    "#### NeuralCF\n",
    "a neural network approach to solve matrix factorization of co-occurrence matrix"
   ]
  },
  {
   "cell_type": "code",
   "execution_count": 68,
   "id": "e1dcbbb0",
   "metadata": {
    "ExecuteTime": {
     "end_time": "2022-12-26T16:19:55.118704Z",
     "start_time": "2022-12-26T16:19:54.974189Z"
    },
    "hidden": true
   },
   "outputs": [],
   "source": [
    "# NeuralCF\n",
    "\n",
    "# Concatenate userId embedding and movieId embedding at first then pass through MLP or several dense layers \n",
    "mlp = tf.keras.layers.concatenate([tf.keras.layers.DenseFeatures([movie_emb_col])(inputs), tf.keras.layers.DenseFeatures([user_emb_col])(inputs)])\n",
    "\n",
    "# Some hidden dense layers\n",
    "mlp = tf.keras.layers.Dense(64, activation='relu')(mlp)\n",
    "mlp = tf.keras.layers.Dense(32, activation='relu')(mlp)\n",
    "\n",
    "# Output Layer\n",
    "neuralCF_output_layer = tf.keras.layers.Dense(1)(mlp)\n",
    "\n",
    "# Define model\n",
    "neuralCF_model = tf.keras.Model(inputs, neuralCF_output_layer)"
   ]
  },
  {
   "cell_type": "code",
   "execution_count": 47,
   "id": "259a77fe",
   "metadata": {
    "ExecuteTime": {
     "end_time": "2022-12-25T19:35:35.019329Z",
     "start_time": "2022-12-25T19:20:28.790695Z"
    },
    "code_folding": [],
    "hidden": true
   },
   "outputs": [
    {
     "name": "stdout",
     "output_type": "stream",
     "text": [
      "Epoch 1/200\n",
      "2497/2497 [==============================] - 7s 2ms/step - loss: 1.0841 - val_loss: 0.9438\n",
      "Epoch 2/200\n",
      "2497/2497 [==============================] - 7s 3ms/step - loss: 0.9463 - val_loss: 0.9333\n",
      "Epoch 3/200\n",
      "2497/2497 [==============================] - 7s 3ms/step - loss: 0.9304 - val_loss: 0.9124\n",
      "Epoch 4/200\n",
      "2497/2497 [==============================] - 7s 2ms/step - loss: 0.9192 - val_loss: 0.9143\n",
      "Epoch 5/200\n",
      "2497/2497 [==============================] - 7s 3ms/step - loss: 0.9146 - val_loss: 0.9058\n",
      "Epoch 6/200\n",
      "2497/2497 [==============================] - 7s 3ms/step - loss: 0.9077 - val_loss: 0.8896\n",
      "Epoch 7/200\n",
      "2497/2497 [==============================] - 7s 3ms/step - loss: 0.9043 - val_loss: 0.8839\n",
      "Epoch 8/200\n",
      "2497/2497 [==============================] - 7s 3ms/step - loss: 0.9030 - val_loss: 0.8868\n",
      "Epoch 9/200\n",
      "2497/2497 [==============================] - 7s 3ms/step - loss: 0.8980 - val_loss: 0.8776\n",
      "Epoch 10/200\n",
      "2497/2497 [==============================] - 7s 3ms/step - loss: 0.8922 - val_loss: 0.8816\n",
      "Epoch 11/200\n",
      "2497/2497 [==============================] - 7s 3ms/step - loss: 0.8876 - val_loss: 0.8699\n",
      "Epoch 12/200\n",
      "2497/2497 [==============================] - 7s 3ms/step - loss: 0.8824 - val_loss: 0.8645\n",
      "Epoch 13/200\n",
      "2497/2497 [==============================] - 7s 3ms/step - loss: 0.8764 - val_loss: 0.8551\n",
      "Epoch 14/200\n",
      "2497/2497 [==============================] - 8s 3ms/step - loss: 0.8723 - val_loss: 0.8440\n",
      "Epoch 15/200\n",
      "2497/2497 [==============================] - 7s 3ms/step - loss: 0.8690 - val_loss: 0.8455\n",
      "Epoch 16/200\n",
      "2497/2497 [==============================] - 7s 3ms/step - loss: 0.8640 - val_loss: 0.8526\n",
      "Epoch 17/200\n",
      "2497/2497 [==============================] - 7s 3ms/step - loss: 0.8562 - val_loss: 0.8334\n",
      "Epoch 18/200\n",
      "2497/2497 [==============================] - 7s 3ms/step - loss: 0.8501 - val_loss: 0.8202\n",
      "Epoch 19/200\n",
      "2497/2497 [==============================] - 7s 3ms/step - loss: 0.8465 - val_loss: 0.8310\n",
      "Epoch 20/200\n",
      "2497/2497 [==============================] - 7s 3ms/step - loss: 0.8416 - val_loss: 0.8188\n",
      "Epoch 21/200\n",
      "2497/2497 [==============================] - 7s 3ms/step - loss: 0.8360 - val_loss: 0.8149\n",
      "Epoch 22/200\n",
      "2497/2497 [==============================] - 8s 3ms/step - loss: 0.8317 - val_loss: 0.8065\n",
      "Epoch 23/200\n",
      "2497/2497 [==============================] - 7s 3ms/step - loss: 0.8273 - val_loss: 0.8101\n",
      "Epoch 24/200\n",
      "2497/2497 [==============================] - 8s 3ms/step - loss: 0.8230 - val_loss: 0.7994\n",
      "Epoch 25/200\n",
      "2497/2497 [==============================] - 7s 3ms/step - loss: 0.8169 - val_loss: 0.8001\n",
      "Epoch 26/200\n",
      "2497/2497 [==============================] - 7s 3ms/step - loss: 0.8138 - val_loss: 0.7977\n",
      "Epoch 27/200\n",
      "2497/2497 [==============================] - 7s 3ms/step - loss: 0.8112 - val_loss: 0.7745\n",
      "Epoch 28/200\n",
      "2497/2497 [==============================] - 8s 3ms/step - loss: 0.8087 - val_loss: 0.7791\n",
      "Epoch 29/200\n",
      "2497/2497 [==============================] - 8s 3ms/step - loss: 0.8038 - val_loss: 0.7759\n",
      "Epoch 30/200\n",
      "2497/2497 [==============================] - 7s 3ms/step - loss: 0.8018 - val_loss: 0.7733\n",
      "Epoch 31/200\n",
      "2497/2497 [==============================] - 7s 3ms/step - loss: 0.7977 - val_loss: 0.7612\n",
      "Epoch 32/200\n",
      "2497/2497 [==============================] - 7s 3ms/step - loss: 0.7934 - val_loss: 0.7683\n",
      "Epoch 33/200\n",
      "2497/2497 [==============================] - 8s 3ms/step - loss: 0.7917 - val_loss: 0.7625\n",
      "Epoch 34/200\n",
      "2497/2497 [==============================] - 7s 3ms/step - loss: 0.7905 - val_loss: 0.7686\n",
      "Epoch 35/200\n",
      "2497/2497 [==============================] - 8s 3ms/step - loss: 0.7860 - val_loss: 0.7672\n",
      "Epoch 36/200\n",
      "2497/2497 [==============================] - 7s 3ms/step - loss: 0.7837 - val_loss: 0.7615\n",
      "Epoch 37/200\n",
      "2497/2497 [==============================] - 7s 3ms/step - loss: 0.7810 - val_loss: 0.7745\n",
      "Epoch 38/200\n",
      "2497/2497 [==============================] - 7s 3ms/step - loss: 0.7785 - val_loss: 0.7618\n",
      "Epoch 39/200\n",
      "2497/2497 [==============================] - 8s 3ms/step - loss: 0.7771 - val_loss: 0.7520\n",
      "Epoch 40/200\n",
      "2497/2497 [==============================] - 7s 3ms/step - loss: 0.7749 - val_loss: 0.7579\n",
      "Epoch 41/200\n",
      "2497/2497 [==============================] - 7s 3ms/step - loss: 0.7721 - val_loss: 0.7492\n",
      "Epoch 42/200\n",
      "2497/2497 [==============================] - 7s 3ms/step - loss: 0.7710 - val_loss: 0.7474\n",
      "Epoch 43/200\n",
      "2497/2497 [==============================] - 8s 3ms/step - loss: 0.7688 - val_loss: 0.7450\n",
      "Epoch 44/200\n",
      "2497/2497 [==============================] - 8s 3ms/step - loss: 0.7662 - val_loss: 0.7436\n",
      "Epoch 45/200\n",
      "2497/2497 [==============================] - 7s 3ms/step - loss: 0.7649 - val_loss: 0.7257\n",
      "Epoch 46/200\n",
      "2497/2497 [==============================] - 8s 3ms/step - loss: 0.7619 - val_loss: 0.7437\n",
      "Epoch 47/200\n",
      "2497/2497 [==============================] - 7s 3ms/step - loss: 0.7629 - val_loss: 0.7307\n",
      "Epoch 48/200\n",
      "2497/2497 [==============================] - 8s 3ms/step - loss: 0.7593 - val_loss: 0.7227\n",
      "Epoch 49/200\n",
      "2497/2497 [==============================] - 7s 3ms/step - loss: 0.7567 - val_loss: 0.7294\n",
      "Epoch 50/200\n",
      "2497/2497 [==============================] - 8s 3ms/step - loss: 0.7563 - val_loss: 0.7311\n",
      "Epoch 51/200\n",
      "2497/2497 [==============================] - 7s 3ms/step - loss: 0.7538 - val_loss: 0.7370\n",
      "Epoch 52/200\n",
      "2497/2497 [==============================] - 8s 3ms/step - loss: 0.7509 - val_loss: 0.7399\n",
      "Epoch 53/200\n",
      "2497/2497 [==============================] - 7s 3ms/step - loss: 0.7518 - val_loss: 0.7183\n",
      "Epoch 54/200\n",
      "2497/2497 [==============================] - 8s 3ms/step - loss: 0.7510 - val_loss: 0.7319\n",
      "Epoch 55/200\n",
      "2497/2497 [==============================] - 7s 3ms/step - loss: 0.7488 - val_loss: 0.7158\n",
      "Epoch 56/200\n",
      "2497/2497 [==============================] - 8s 3ms/step - loss: 0.7459 - val_loss: 0.7209\n",
      "Epoch 57/200\n",
      "2497/2497 [==============================] - 8s 3ms/step - loss: 0.7440 - val_loss: 0.7178\n",
      "Epoch 58/200\n",
      "2497/2497 [==============================] - 8s 3ms/step - loss: 0.7435 - val_loss: 0.7238\n",
      "Epoch 59/200\n",
      "2497/2497 [==============================] - 8s 3ms/step - loss: 0.7464 - val_loss: 0.7163\n",
      "Epoch 60/200\n",
      "2497/2497 [==============================] - 7s 3ms/step - loss: 0.7430 - val_loss: 0.7172\n",
      "Epoch 61/200\n",
      "2497/2497 [==============================] - 7s 3ms/step - loss: 0.7396 - val_loss: 0.7158\n",
      "Epoch 62/200\n",
      "2497/2497 [==============================] - 7s 3ms/step - loss: 0.7393 - val_loss: 0.7077\n",
      "Epoch 63/200\n",
      "2497/2497 [==============================] - 7s 3ms/step - loss: 0.7364 - val_loss: 0.7099\n",
      "Epoch 64/200\n",
      "2497/2497 [==============================] - 7s 3ms/step - loss: 0.7389 - val_loss: 0.7062\n",
      "Epoch 65/200\n",
      "2497/2497 [==============================] - 7s 3ms/step - loss: 0.7352 - val_loss: 0.7065\n",
      "Epoch 66/200\n",
      "2497/2497 [==============================] - 7s 3ms/step - loss: 0.7356 - val_loss: 0.7011\n",
      "Epoch 67/200\n",
      "2497/2497 [==============================] - 8s 3ms/step - loss: 0.7344 - val_loss: 0.7156\n",
      "Epoch 68/200\n",
      "2497/2497 [==============================] - 8s 3ms/step - loss: 0.7311 - val_loss: 0.7077\n",
      "Epoch 69/200\n",
      "2497/2497 [==============================] - 8s 3ms/step - loss: 0.7308 - val_loss: 0.7150\n",
      "Epoch 70/200\n",
      "2497/2497 [==============================] - 8s 3ms/step - loss: 0.7307 - val_loss: 0.7076\n",
      "Epoch 71/200\n",
      "2497/2497 [==============================] - 8s 3ms/step - loss: 0.7302 - val_loss: 0.6993\n",
      "Epoch 72/200\n",
      "2497/2497 [==============================] - 8s 3ms/step - loss: 0.7284 - val_loss: 0.7073\n",
      "Epoch 73/200\n",
      "2497/2497 [==============================] - 7s 3ms/step - loss: 0.7280 - val_loss: 0.6985\n",
      "Epoch 74/200\n",
      "2497/2497 [==============================] - 8s 3ms/step - loss: 0.7243 - val_loss: 0.7094\n",
      "Epoch 75/200\n",
      "2497/2497 [==============================] - 8s 3ms/step - loss: 0.7265 - val_loss: 0.7005\n",
      "Epoch 76/200\n",
      "2497/2497 [==============================] - 7s 3ms/step - loss: 0.7234 - val_loss: 0.6881\n",
      "Epoch 77/200\n",
      "2497/2497 [==============================] - 8s 3ms/step - loss: 0.7234 - val_loss: 0.6969\n",
      "Epoch 78/200\n",
      "2497/2497 [==============================] - 8s 3ms/step - loss: 0.7217 - val_loss: 0.6970\n",
      "Epoch 79/200\n",
      "2497/2497 [==============================] - 8s 3ms/step - loss: 0.7219 - val_loss: 0.6937\n"
     ]
    },
    {
     "name": "stdout",
     "output_type": "stream",
     "text": [
      "Epoch 80/200\n",
      "2497/2497 [==============================] - 8s 3ms/step - loss: 0.7204 - val_loss: 0.6958\n",
      "Epoch 81/200\n",
      "2497/2497 [==============================] - 8s 3ms/step - loss: 0.7217 - val_loss: 0.7004\n",
      "Epoch 82/200\n",
      "2497/2497 [==============================] - 7s 3ms/step - loss: 0.7216 - val_loss: 0.7024\n",
      "Epoch 83/200\n",
      "2497/2497 [==============================] - 8s 3ms/step - loss: 0.7185 - val_loss: 0.6912\n",
      "Epoch 84/200\n",
      "2497/2497 [==============================] - 8s 3ms/step - loss: 0.7186 - val_loss: 0.6863\n",
      "Epoch 85/200\n",
      "2497/2497 [==============================] - 7s 3ms/step - loss: 0.7172 - val_loss: 0.6875\n",
      "Epoch 86/200\n",
      "2497/2497 [==============================] - 8s 3ms/step - loss: 0.7174 - val_loss: 0.6928\n",
      "Epoch 87/200\n",
      "2497/2497 [==============================] - 8s 3ms/step - loss: 0.7146 - val_loss: 0.6966\n",
      "Epoch 88/200\n",
      "2497/2497 [==============================] - 8s 3ms/step - loss: 0.7158 - val_loss: 0.6908\n",
      "Epoch 89/200\n",
      "2497/2497 [==============================] - 8s 3ms/step - loss: 0.7129 - val_loss: 0.6907\n",
      "Epoch 90/200\n",
      "2497/2497 [==============================] - 8s 3ms/step - loss: 0.7127 - val_loss: 0.6983\n",
      "Epoch 91/200\n",
      "2497/2497 [==============================] - 8s 3ms/step - loss: 0.7133 - val_loss: 0.6837\n",
      "Epoch 92/200\n",
      "2497/2497 [==============================] - 8s 3ms/step - loss: 0.7136 - val_loss: 0.6857\n",
      "Epoch 93/200\n",
      "2497/2497 [==============================] - 8s 3ms/step - loss: 0.7120 - val_loss: 0.6875\n",
      "Epoch 94/200\n",
      "2497/2497 [==============================] - 8s 3ms/step - loss: 0.7102 - val_loss: 0.6909\n",
      "Epoch 95/200\n",
      "2497/2497 [==============================] - 7s 3ms/step - loss: 0.7093 - val_loss: 0.6965\n",
      "Epoch 96/200\n",
      "2497/2497 [==============================] - 8s 3ms/step - loss: 0.7095 - val_loss: 0.6861\n",
      "Epoch 97/200\n",
      "2497/2497 [==============================] - 8s 3ms/step - loss: 0.7084 - val_loss: 0.6887\n",
      "Epoch 98/200\n",
      "2497/2497 [==============================] - 7s 3ms/step - loss: 0.7084 - val_loss: 0.6754\n",
      "Epoch 99/200\n",
      "2497/2497 [==============================] - 8s 3ms/step - loss: 0.7048 - val_loss: 0.6859\n",
      "Epoch 100/200\n",
      "2497/2497 [==============================] - 8s 3ms/step - loss: 0.7077 - val_loss: 0.6825\n",
      "Epoch 101/200\n",
      "2497/2497 [==============================] - 8s 3ms/step - loss: 0.7044 - val_loss: 0.6821\n",
      "Epoch 102/200\n",
      "2497/2497 [==============================] - 8s 3ms/step - loss: 0.7052 - val_loss: 0.6907\n",
      "Epoch 103/200\n",
      "2497/2497 [==============================] - 8s 3ms/step - loss: 0.7035 - val_loss: 0.6822\n",
      "Epoch 104/200\n",
      "2497/2497 [==============================] - 8s 3ms/step - loss: 0.7027 - val_loss: 0.6665\n",
      "Epoch 105/200\n",
      "2497/2497 [==============================] - 8s 3ms/step - loss: 0.7037 - val_loss: 0.6792\n",
      "Epoch 106/200\n",
      "2497/2497 [==============================] - 8s 3ms/step - loss: 0.7022 - val_loss: 0.6812\n",
      "Epoch 107/200\n",
      "2497/2497 [==============================] - 8s 3ms/step - loss: 0.7035 - val_loss: 0.6845\n",
      "Epoch 108/200\n",
      "2497/2497 [==============================] - 8s 3ms/step - loss: 0.7017 - val_loss: 0.6814\n",
      "Epoch 109/200\n",
      "2497/2497 [==============================] - 8s 3ms/step - loss: 0.7007 - val_loss: 0.6710\n",
      "Epoch 110/200\n",
      "2497/2497 [==============================] - 8s 3ms/step - loss: 0.6996 - val_loss: 0.6683\n",
      "Epoch 111/200\n",
      "2497/2497 [==============================] - 8s 3ms/step - loss: 0.7004 - val_loss: 0.6718\n",
      "Epoch 112/200\n",
      "2497/2497 [==============================] - 8s 3ms/step - loss: 0.6995 - val_loss: 0.6661\n",
      "Epoch 113/200\n",
      "2497/2497 [==============================] - 8s 3ms/step - loss: 0.6976 - val_loss: 0.6813\n",
      "Epoch 114/200\n",
      "2497/2497 [==============================] - 8s 3ms/step - loss: 0.6984 - val_loss: 0.6771\n",
      "Epoch 115/200\n",
      "2497/2497 [==============================] - 8s 3ms/step - loss: 0.6976 - val_loss: 0.6745\n",
      "Epoch 116/200\n",
      "2497/2497 [==============================] - 8s 3ms/step - loss: 0.6969 - val_loss: 0.6719\n",
      "Epoch 117/200\n",
      "2497/2497 [==============================] - 7s 3ms/step - loss: 0.6964 - val_loss: 0.6710\n",
      "Epoch 118/200\n",
      "2497/2497 [==============================] - 8s 3ms/step - loss: 0.6965 - val_loss: 0.6832\n",
      "Epoch 119/200\n",
      "2497/2497 [==============================] - 8s 3ms/step - loss: 0.6952 - val_loss: 0.6799\n",
      "Epoch 120/200\n",
      "2497/2497 [==============================] - ETA: 0s - loss: 0.6953Restoring model weights from the end of the best epoch: 112.\n",
      "2497/2497 [==============================] - 8s 3ms/step - loss: 0.6953 - val_loss: 0.6789\n",
      "Epoch 120: early stopping\n"
     ]
    }
   ],
   "source": [
    "neuralCF_model.compile(\n",
    "    loss=rmse,\n",
    "    optimizer='adam'\n",
    ")\n",
    "\n",
    "neuralCF_history = neuralCF_model.fit(train_ds,\n",
    "                validation_data = val_ds, \n",
    "                callbacks=[early_stopping],\n",
    "                epochs=200)"
   ]
  },
  {
   "cell_type": "code",
   "execution_count": 49,
   "id": "1eeff19b",
   "metadata": {
    "ExecuteTime": {
     "end_time": "2022-12-25T19:36:24.164815Z",
     "start_time": "2022-12-25T19:36:24.083091Z"
    },
    "hidden": true
   },
   "outputs": [
    {
     "data": {
      "image/png": "[encoded data removed]",
      "text/plain": [
       "<Figure size 432x288 with 1 Axes>"
      ]
     },
     "metadata": {
      "needs_background": "light"
     },
     "output_type": "display_data"
    }
   ],
   "source": [
    "plot(neuralCF_history)"
   ]
  },
  {
   "cell_type": "markdown",
   "id": "51f38b47",
   "metadata": {
    "heading_collapsed": true,
    "hidden": true
   },
   "source": [
    "#### DSSM - two tower model \n",
    "Improvement upon neuralCF, it adds more information to user and item(movie) inputs and builds MLP tower in user and item(movie) side separately. The last layer is dot embedding of user tower output and item(movie) tower output."
   ]
  },
  {
   "cell_type": "code",
   "execution_count": 64,
   "id": "a9fa7e4f",
   "metadata": {
    "ExecuteTime": {
     "end_time": "2022-12-25T21:47:43.980313Z",
     "start_time": "2022-12-25T21:47:43.549748Z"
    },
    "hidden": true
   },
   "outputs": [],
   "source": [
    "# DSSM two tower model\n",
    "\n",
    "# movie tower receive inputs regarding information about movie\n",
    "movie_tower = tf.keras.layers.DenseFeatures([movie_emb_col,\n",
    "                                            movie_genre_1_emd_col,\n",
    "                                            movie_genre_2_emd_col,\n",
    "                                            director_emb_col,\n",
    "                                            cast_1_emb_col,\n",
    "                                            cast_2_emb_col] \n",
    "                                           + \n",
    "                                           [movie_avg_rating_col,\n",
    "                                            movie_std_rating_col,\n",
    "                                            movie_rating_count_col,\n",
    "                                            IMDb_rating_col,\n",
    "                                            release_year_col])(inputs)\n",
    "\n",
    "# some dense layers to extract movie features\n",
    "movie_tower = tf.keras.layers.Dense(64, activation='relu')(movie_tower)\n",
    "movie_tower = tf.keras.layers.Dense(32, activation='relu')(movie_tower)\n",
    "\n",
    "\n",
    "# user tower receive inputs regarding information about user\n",
    "user_tower = tf.keras.layers.DenseFeatures([user_emb_col,\n",
    "                                            occupation_emb_col,\n",
    "                                            gender_ind_col,\n",
    "                                            zipcode_bucket_emb_col,\n",
    "                                            user_fav_genre_emb_col,\n",
    "                                            user_fav_movieId_emb_col\n",
    "                                           ]\n",
    "                                           +\n",
    "                                           [user_avg_rating_col,\n",
    "                                            user_std_rating_col,\n",
    "                                            user_rating_count_col,\n",
    "                                            age_col])(inputs)\n",
    "\n",
    "# some dense layers to extract user features\n",
    "user_tower = tf.keras.layers.Dense(64, activation='relu')(user_tower)\n",
    "user_tower = tf.keras.layers.Dense(32, activation='relu')(user_tower)\n",
    "\n",
    "# a dot product at top for cosine similarity\n",
    "dssm_output = tf.keras.layers.Dot(axes=1)([movie_tower, user_tower])\n",
    "\n",
    "# output layer\n",
    "dssm_output = tf.keras.layers.Dense(1)(output)\n",
    "\n",
    "# build model\n",
    "dssm_model = tf.keras.Model(inputs, dssm_output)"
   ]
  },
  {
   "cell_type": "code",
   "execution_count": 65,
   "id": "1859795f",
   "metadata": {
    "ExecuteTime": {
     "end_time": "2022-12-25T22:06:55.630743Z",
     "start_time": "2022-12-25T21:47:45.445522Z"
    },
    "hidden": true,
    "scrolled": false
   },
   "outputs": [
    {
     "name": "stdout",
     "output_type": "stream",
     "text": [
      "Epoch 1/200\n",
      "2497/2497 [==============================] - 21s 7ms/step - loss: 0.9240 - val_loss: 0.8165\n",
      "Epoch 2/200\n",
      "2497/2497 [==============================] - 19s 7ms/step - loss: 0.8109 - val_loss: 0.7852\n",
      "Epoch 3/200\n",
      "2497/2497 [==============================] - 18s 7ms/step - loss: 0.7929 - val_loss: 0.7648\n",
      "Epoch 4/200\n",
      "2497/2497 [==============================] - 18s 7ms/step - loss: 0.7809 - val_loss: 0.7745\n",
      "Epoch 5/200\n",
      "2497/2497 [==============================] - 18s 7ms/step - loss: 0.7719 - val_loss: 0.7465\n",
      "Epoch 6/200\n",
      "2497/2497 [==============================] - 18s 7ms/step - loss: 0.7634 - val_loss: 0.7318\n",
      "Epoch 7/200\n",
      "2497/2497 [==============================] - 18s 7ms/step - loss: 0.7597 - val_loss: 0.7523\n",
      "Epoch 8/200\n",
      "2497/2497 [==============================] - 18s 7ms/step - loss: 0.7511 - val_loss: 0.7249\n",
      "Epoch 9/200\n",
      "2497/2497 [==============================] - 18s 7ms/step - loss: 0.7491 - val_loss: 0.7283\n",
      "Epoch 10/200\n",
      "2497/2497 [==============================] - 18s 7ms/step - loss: 0.7447 - val_loss: 0.7236\n",
      "Epoch 11/200\n",
      "2497/2497 [==============================] - 18s 7ms/step - loss: 0.7397 - val_loss: 0.7205\n",
      "Epoch 12/200\n",
      "2497/2497 [==============================] - 18s 7ms/step - loss: 0.7383 - val_loss: 0.7279\n",
      "Epoch 13/200\n",
      "2497/2497 [==============================] - 18s 7ms/step - loss: 0.7358 - val_loss: 0.7196\n",
      "Epoch 14/200\n",
      "2497/2497 [==============================] - 18s 7ms/step - loss: 0.7346 - val_loss: 0.7076\n",
      "Epoch 15/200\n",
      "2497/2497 [==============================] - 18s 7ms/step - loss: 0.7333 - val_loss: 0.7007\n",
      "Epoch 16/200\n",
      "2497/2497 [==============================] - 18s 7ms/step - loss: 0.7305 - val_loss: 0.7166\n",
      "Epoch 17/200\n",
      "2497/2497 [==============================] - 18s 7ms/step - loss: 0.7267 - val_loss: 0.7183\n",
      "Epoch 18/200\n",
      "2497/2497 [==============================] - 19s 7ms/step - loss: 0.7265 - val_loss: 0.7124\n",
      "Epoch 19/200\n",
      "2497/2497 [==============================] - 18s 7ms/step - loss: 0.7247 - val_loss: 0.7259\n",
      "Epoch 20/200\n",
      "2497/2497 [==============================] - 18s 7ms/step - loss: 0.7238 - val_loss: 0.7025\n",
      "Epoch 21/200\n",
      "2497/2497 [==============================] - 18s 7ms/step - loss: 0.7213 - val_loss: 0.7127\n",
      "Epoch 22/200\n",
      "2497/2497 [==============================] - 18s 7ms/step - loss: 0.7224 - val_loss: 0.6938\n",
      "Epoch 23/200\n",
      "2497/2497 [==============================] - 18s 7ms/step - loss: 0.7190 - val_loss: 0.6999\n",
      "Epoch 24/200\n",
      "2497/2497 [==============================] - 18s 7ms/step - loss: 0.7180 - val_loss: 0.7004\n",
      "Epoch 25/200\n",
      "2497/2497 [==============================] - 18s 7ms/step - loss: 0.7172 - val_loss: 0.7085\n",
      "Epoch 26/200\n",
      "2497/2497 [==============================] - 19s 7ms/step - loss: 0.7157 - val_loss: 0.6970\n",
      "Epoch 27/200\n",
      "2497/2497 [==============================] - 18s 7ms/step - loss: 0.7144 - val_loss: 0.7039\n",
      "Epoch 28/200\n",
      "2497/2497 [==============================] - 18s 7ms/step - loss: 0.7145 - val_loss: 0.6918\n",
      "Epoch 29/200\n",
      "2497/2497 [==============================] - 18s 7ms/step - loss: 0.7144 - val_loss: 0.6978\n",
      "Epoch 30/200\n",
      "2497/2497 [==============================] - 18s 7ms/step - loss: 0.7141 - val_loss: 0.7120\n",
      "Epoch 31/200\n",
      "2497/2497 [==============================] - 19s 7ms/step - loss: 0.7116 - val_loss: 0.6864\n",
      "Epoch 32/200\n",
      "2497/2497 [==============================] - 19s 7ms/step - loss: 0.7120 - val_loss: 0.6918\n",
      "Epoch 33/200\n",
      "2497/2497 [==============================] - 19s 7ms/step - loss: 0.7095 - val_loss: 0.6838\n",
      "Epoch 34/200\n",
      "2497/2497 [==============================] - 18s 7ms/step - loss: 0.7110 - val_loss: 0.6936\n",
      "Epoch 35/200\n",
      "2497/2497 [==============================] - 18s 7ms/step - loss: 0.7097 - val_loss: 0.6883\n",
      "Epoch 36/200\n",
      "2497/2497 [==============================] - 19s 7ms/step - loss: 0.7072 - val_loss: 0.6813\n",
      "Epoch 37/200\n",
      "2497/2497 [==============================] - 18s 7ms/step - loss: 0.7083 - val_loss: 0.6904\n",
      "Epoch 38/200\n",
      "2497/2497 [==============================] - 18s 7ms/step - loss: 0.7048 - val_loss: 0.6888\n",
      "Epoch 39/200\n",
      "2497/2497 [==============================] - 19s 7ms/step - loss: 0.7067 - val_loss: 0.6918\n",
      "Epoch 40/200\n",
      "2497/2497 [==============================] - 18s 7ms/step - loss: 0.7054 - val_loss: 0.6916\n",
      "Epoch 41/200\n",
      "2497/2497 [==============================] - 18s 7ms/step - loss: 0.7044 - val_loss: 0.7017\n",
      "Epoch 42/200\n",
      "2497/2497 [==============================] - 19s 7ms/step - loss: 0.7039 - val_loss: 0.6742\n",
      "Epoch 43/200\n",
      "2497/2497 [==============================] - 18s 7ms/step - loss: 0.7031 - val_loss: 0.6945\n",
      "Epoch 44/200\n",
      "2497/2497 [==============================] - 19s 7ms/step - loss: 0.7030 - val_loss: 0.6860\n",
      "Epoch 45/200\n",
      "2497/2497 [==============================] - 19s 7ms/step - loss: 0.7018 - val_loss: 0.6951\n",
      "Epoch 46/200\n",
      "2497/2497 [==============================] - 18s 7ms/step - loss: 0.7012 - val_loss: 0.6823\n",
      "Epoch 47/200\n",
      "2497/2497 [==============================] - 18s 7ms/step - loss: 0.7011 - val_loss: 0.6806\n",
      "Epoch 48/200\n",
      "2497/2497 [==============================] - 18s 7ms/step - loss: 0.6992 - val_loss: 0.6706\n",
      "Epoch 49/200\n",
      "2497/2497 [==============================] - 18s 7ms/step - loss: 0.6991 - val_loss: 0.6873\n",
      "Epoch 50/200\n",
      "2497/2497 [==============================] - 18s 7ms/step - loss: 0.6999 - val_loss: 0.6757\n",
      "Epoch 51/200\n",
      "2497/2497 [==============================] - 18s 7ms/step - loss: 0.6977 - val_loss: 0.6848\n",
      "Epoch 52/200\n",
      "2497/2497 [==============================] - 18s 7ms/step - loss: 0.6977 - val_loss: 0.6827\n",
      "Epoch 53/200\n",
      "2497/2497 [==============================] - 18s 7ms/step - loss: 0.6968 - val_loss: 0.6950\n",
      "Epoch 54/200\n",
      "2497/2497 [==============================] - 18s 7ms/step - loss: 0.6968 - val_loss: 0.6734\n",
      "Epoch 55/200\n",
      "2497/2497 [==============================] - 18s 7ms/step - loss: 0.6960 - val_loss: 0.6673\n",
      "Epoch 56/200\n",
      "2497/2497 [==============================] - 18s 7ms/step - loss: 0.6969 - val_loss: 0.6789\n",
      "Epoch 57/200\n",
      "2497/2497 [==============================] - 18s 7ms/step - loss: 0.6947 - val_loss: 0.6864\n",
      "Epoch 58/200\n",
      "2497/2497 [==============================] - 18s 7ms/step - loss: 0.6955 - val_loss: 0.6764\n",
      "Epoch 59/200\n",
      "2497/2497 [==============================] - 18s 7ms/step - loss: 0.6942 - val_loss: 0.6870\n",
      "Epoch 60/200\n",
      "2497/2497 [==============================] - 18s 7ms/step - loss: 0.6960 - val_loss: 0.6731\n",
      "Epoch 61/200\n",
      "2497/2497 [==============================] - 18s 7ms/step - loss: 0.6926 - val_loss: 0.6733\n",
      "Epoch 62/200\n",
      "2497/2497 [==============================] - 18s 7ms/step - loss: 0.6936 - val_loss: 0.6763\n",
      "Epoch 63/200\n",
      "2497/2497 [==============================] - ETA: 0s - loss: 0.6932Restoring model weights from the end of the best epoch: 55.\n",
      "2497/2497 [==============================] - 18s 7ms/step - loss: 0.6932 - val_loss: 0.6805\n",
      "Epoch 63: early stopping\n"
     ]
    }
   ],
   "source": [
    "dssm_model.compile(\n",
    "    loss=rmse,\n",
    "    optimizer='adam'\n",
    ")\n",
    "\n",
    "dssm_history = dssm_model.fit(train_ds,\n",
    "                validation_data = val_ds, \n",
    "                callbacks=[early_stopping],\n",
    "                epochs=200)"
   ]
  },
  {
   "cell_type": "code",
   "execution_count": 73,
   "id": "53e86992",
   "metadata": {
    "ExecuteTime": {
     "end_time": "2022-12-25T23:40:43.894992Z",
     "start_time": "2022-12-25T23:40:43.770395Z"
    },
    "hidden": true
   },
   "outputs": [
    {
     "data": {
      "image/png": "[encoded data removed]",
      "text/plain": [
       "<Figure size 432x288 with 1 Axes>"
      ]
     },
     "metadata": {
      "needs_background": "light"
     },
     "output_type": "display_data"
    }
   ],
   "source": [
    "plot(dssm_history)"
   ]
  },
  {
   "cell_type": "markdown",
   "id": "a9e7daf0",
   "metadata": {
    "heading_collapsed": true,
    "hidden": true
   },
   "source": [
    "#### Wide and deep\n",
    "Include a wide part and a deep part, final layer is these two layers concatenated and pass through a dense layer output.\n",
    "\n",
    "Wide: Memorization <br>\n",
    "Inputs to wide layer are sparse features, which are categorical columns in TensorFlow. A crossed column combines these categorical features to construct co-occurrence indicator column. The inputs to wide layer are of design choices since we want to let model remember simple rules as the following: a user who liked movie \"Toy Story\" likes \"Monsters Inc.\" as well or a user who has liked movie genre \"Action\" likes movie genre \"Adventure\" as well.\n",
    "\n",
    "Deep: Generalization <br>\n",
    "Inputs to deep layer are dense features, which are numerical columns and embedding columns. "
   ]
  },
  {
   "cell_type": "code",
   "execution_count": 53,
   "id": "a50a8f8c",
   "metadata": {
    "ExecuteTime": {
     "end_time": "2022-12-25T19:38:16.225754Z",
     "start_time": "2022-12-25T19:38:15.779250Z"
    },
    "hidden": true
   },
   "outputs": [],
   "source": [
    "# wide and deep model\n",
    "\n",
    "# deep parts receive all the inputs, both categorical, which are converted to embedding, and numerical\n",
    "wd_deep = tf.keras.layers.DenseFeatures(numerical_columns + categorical_columns)(inputs)\n",
    "\n",
    "# Two dense layers\n",
    "wd_deep = tf.keras.layers.Dense(256, activation='relu')(wd_deep)\n",
    "wd_deep = tf.keras.layers.Dense(128, activation='relu')(wd_deep)\n",
    "\n",
    "# wide part for cross feature\n",
    "# the features that go into the wide part are of design choices or from domain knowledge\n",
    "# it tries to remember when two features always happen together \n",
    "crossed_feature = tf.feature_column.indicator_column(tf.feature_column.crossed_column([ movie_col,\n",
    "                                                                                       user_fav_movieId_col,\n",
    "                                                                                       movie_genre_1_col, \n",
    "                                                                                       user_fav_genre_col], 10000))\n",
    "wd_wide = tf.keras.layers.DenseFeatures(crossed_feature)(inputs)\n",
    "\n",
    "# concatenate wide and deep on top\n",
    "wd_both = tf.keras.layers.concatenate([wd_deep, wd_wide])\n",
    "\n",
    "# output layer\n",
    "wd_output_layer = tf.keras.layers.Dense(1)(wd_both)\n",
    "\n",
    "# build model\n",
    "wide_and_deep_model = tf.keras.Model(inputs, wd_output_layer)"
   ]
  },
  {
   "cell_type": "code",
   "execution_count": 54,
   "id": "cc7d1ce1",
   "metadata": {
    "ExecuteTime": {
     "end_time": "2022-12-25T21:22:58.258637Z",
     "start_time": "2022-12-25T19:38:17.586947Z"
    },
    "hidden": true
   },
   "outputs": [
    {
     "name": "stdout",
     "output_type": "stream",
     "text": [
      "Epoch 1/200\n",
      "2497/2497 [==============================] - 37s 13ms/step - loss: 0.9489 - val_loss: 0.8801\n",
      "Epoch 2/200\n",
      "2497/2497 [==============================] - 35s 14ms/step - loss: 0.8768 - val_loss: 0.8513\n",
      "Epoch 3/200\n",
      "2497/2497 [==============================] - 37s 15ms/step - loss: 0.8529 - val_loss: 0.8175\n",
      "Epoch 4/200\n",
      "2497/2497 [==============================] - 38s 15ms/step - loss: 0.8356 - val_loss: 0.8197\n",
      "Epoch 5/200\n",
      "2497/2497 [==============================] - 40s 16ms/step - loss: 0.8098 - val_loss: 0.7628\n",
      "Epoch 6/200\n",
      "2497/2497 [==============================] - 42s 17ms/step - loss: 0.7870 - val_loss: 0.7509\n",
      "Epoch 7/200\n",
      "2497/2497 [==============================] - 39s 16ms/step - loss: 0.7676 - val_loss: 0.7182\n",
      "Epoch 8/200\n",
      "2497/2497 [==============================] - 41s 16ms/step - loss: 0.7456 - val_loss: 0.7144\n",
      "Epoch 9/200\n",
      "2497/2497 [==============================] - 41s 16ms/step - loss: 0.7256 - val_loss: 0.7091\n",
      "Epoch 10/200\n",
      "2497/2497 [==============================] - 40s 16ms/step - loss: 0.7103 - val_loss: 0.6681\n",
      "Epoch 11/200\n",
      "2497/2497 [==============================] - 40s 16ms/step - loss: 0.6932 - val_loss: 0.6615\n",
      "Epoch 12/200\n",
      "2497/2497 [==============================] - 39s 15ms/step - loss: 0.6789 - val_loss: 0.6340\n",
      "Epoch 13/200\n",
      "2497/2497 [==============================] - 39s 16ms/step - loss: 0.6598 - val_loss: 0.6198\n",
      "Epoch 14/200\n",
      "2497/2497 [==============================] - 40s 16ms/step - loss: 0.6469 - val_loss: 0.5907\n",
      "Epoch 15/200\n",
      "2497/2497 [==============================] - 41s 16ms/step - loss: 0.6330 - val_loss: 0.5823\n",
      "Epoch 16/200\n",
      "2497/2497 [==============================] - 40s 16ms/step - loss: 0.6185 - val_loss: 0.5749\n",
      "Epoch 17/200\n",
      "2497/2497 [==============================] - 39s 15ms/step - loss: 0.6055 - val_loss: 0.5666\n",
      "Epoch 18/200\n",
      "2497/2497 [==============================] - 40s 16ms/step - loss: 0.5950 - val_loss: 0.5454\n",
      "Epoch 19/200\n",
      "2497/2497 [==============================] - 40s 16ms/step - loss: 0.5834 - val_loss: 0.5440\n",
      "Epoch 20/200\n",
      "2497/2497 [==============================] - 40s 16ms/step - loss: 0.5725 - val_loss: 0.5267\n",
      "Epoch 21/200\n",
      "2497/2497 [==============================] - 40s 16ms/step - loss: 0.5628 - val_loss: 0.5204\n",
      "Epoch 22/200\n",
      "2497/2497 [==============================] - 39s 16ms/step - loss: 0.5505 - val_loss: 0.5051\n",
      "Epoch 23/200\n",
      "2497/2497 [==============================] - 40s 16ms/step - loss: 0.5419 - val_loss: 0.4953\n",
      "Epoch 24/200\n",
      "2497/2497 [==============================] - 40s 16ms/step - loss: 0.5331 - val_loss: 0.4884\n",
      "Epoch 25/200\n",
      "2497/2497 [==============================] - 40s 16ms/step - loss: 0.5267 - val_loss: 0.4763\n",
      "Epoch 26/200\n",
      "2497/2497 [==============================] - 41s 16ms/step - loss: 0.5179 - val_loss: 0.4758\n",
      "Epoch 27/200\n",
      "2497/2497 [==============================] - 42s 17ms/step - loss: 0.5100 - val_loss: 0.4656\n",
      "Epoch 28/200\n",
      "2497/2497 [==============================] - 42s 17ms/step - loss: 0.5018 - val_loss: 0.4606\n",
      "Epoch 29/200\n",
      "2497/2497 [==============================] - 42s 17ms/step - loss: 0.4951 - val_loss: 0.4695\n",
      "Epoch 30/200\n",
      "2497/2497 [==============================] - 40s 16ms/step - loss: 0.4872 - val_loss: 0.4431\n",
      "Epoch 31/200\n",
      "2497/2497 [==============================] - 41s 16ms/step - loss: 0.4800 - val_loss: 0.4341\n",
      "Epoch 32/200\n",
      "2497/2497 [==============================] - 41s 16ms/step - loss: 0.4748 - val_loss: 0.4324\n",
      "Epoch 33/200\n",
      "2497/2497 [==============================] - 40s 16ms/step - loss: 0.4672 - val_loss: 0.4387\n",
      "Epoch 34/200\n",
      "2497/2497 [==============================] - 40s 16ms/step - loss: 0.4622 - val_loss: 0.4237\n",
      "Epoch 35/200\n",
      "2497/2497 [==============================] - 41s 16ms/step - loss: 0.4567 - val_loss: 0.4120\n",
      "Epoch 36/200\n",
      "2497/2497 [==============================] - 41s 16ms/step - loss: 0.4517 - val_loss: 0.4122\n",
      "Epoch 37/200\n",
      "2497/2497 [==============================] - 40s 16ms/step - loss: 0.4474 - val_loss: 0.4023\n",
      "Epoch 38/200\n",
      "2497/2497 [==============================] - 39s 16ms/step - loss: 0.4407 - val_loss: 0.4232\n",
      "Epoch 39/200\n",
      "2497/2497 [==============================] - 40s 16ms/step - loss: 0.4367 - val_loss: 0.3968\n",
      "Epoch 40/200\n",
      "2497/2497 [==============================] - 40s 16ms/step - loss: 0.4333 - val_loss: 0.3940\n",
      "Epoch 41/200\n",
      "2497/2497 [==============================] - 41s 16ms/step - loss: 0.4277 - val_loss: 0.3925\n",
      "Epoch 42/200\n",
      "2497/2497 [==============================] - 41s 16ms/step - loss: 0.4215 - val_loss: 0.3942\n",
      "Epoch 43/200\n",
      "2497/2497 [==============================] - 40s 16ms/step - loss: 0.4186 - val_loss: 0.3929\n",
      "Epoch 44/200\n",
      "2497/2497 [==============================] - 40s 16ms/step - loss: 0.4151 - val_loss: 0.3782\n",
      "Epoch 45/200\n",
      "2497/2497 [==============================] - 41s 16ms/step - loss: 0.4099 - val_loss: 0.3707\n",
      "Epoch 46/200\n",
      "2497/2497 [==============================] - 42s 16ms/step - loss: 0.4071 - val_loss: 0.3703\n",
      "Epoch 47/200\n",
      "2497/2497 [==============================] - 41s 16ms/step - loss: 0.4041 - val_loss: 0.3699\n",
      "Epoch 48/200\n",
      "2497/2497 [==============================] - 40s 16ms/step - loss: 0.3993 - val_loss: 0.3651\n",
      "Epoch 49/200\n",
      "2497/2497 [==============================] - 40s 16ms/step - loss: 0.3948 - val_loss: 0.3821\n",
      "Epoch 50/200\n",
      "2497/2497 [==============================] - 43s 17ms/step - loss: 0.3918 - val_loss: 0.3606\n",
      "Epoch 51/200\n",
      "2497/2497 [==============================] - 41s 16ms/step - loss: 0.3894 - val_loss: 0.3559\n",
      "Epoch 52/200\n",
      "2497/2497 [==============================] - 41s 16ms/step - loss: 0.3858 - val_loss: 0.3529\n",
      "Epoch 53/200\n",
      "2497/2497 [==============================] - 41s 16ms/step - loss: 0.3831 - val_loss: 0.3456\n",
      "Epoch 54/200\n",
      "2497/2497 [==============================] - 40s 16ms/step - loss: 0.3786 - val_loss: 0.3468\n",
      "Epoch 55/200\n",
      "2497/2497 [==============================] - 40s 16ms/step - loss: 0.3759 - val_loss: 0.3610\n",
      "Epoch 56/200\n",
      "2497/2497 [==============================] - 41s 16ms/step - loss: 0.3737 - val_loss: 0.3483\n",
      "Epoch 57/200\n",
      "2497/2497 [==============================] - 41s 16ms/step - loss: 0.3701 - val_loss: 0.3369\n",
      "Epoch 58/200\n",
      "2497/2497 [==============================] - 40s 16ms/step - loss: 0.3687 - val_loss: 0.3407\n",
      "Epoch 59/200\n",
      "2497/2497 [==============================] - 41s 16ms/step - loss: 0.3647 - val_loss: 0.3372\n",
      "Epoch 60/200\n",
      "2497/2497 [==============================] - 40s 16ms/step - loss: 0.3626 - val_loss: 0.3383\n",
      "Epoch 61/200\n",
      "2497/2497 [==============================] - 40s 16ms/step - loss: 0.3609 - val_loss: 0.3315\n",
      "Epoch 62/200\n",
      "2497/2497 [==============================] - 40s 16ms/step - loss: 0.3595 - val_loss: 0.3291\n",
      "Epoch 63/200\n",
      "2497/2497 [==============================] - 40s 16ms/step - loss: 0.3558 - val_loss: 0.3234\n",
      "Epoch 64/200\n",
      "2497/2497 [==============================] - 40s 16ms/step - loss: 0.3534 - val_loss: 0.3562\n",
      "Epoch 65/200\n",
      "2497/2497 [==============================] - 40s 16ms/step - loss: 0.3505 - val_loss: 0.3179\n",
      "Epoch 66/200\n",
      "2497/2497 [==============================] - 41s 16ms/step - loss: 0.3481 - val_loss: 0.3217\n",
      "Epoch 67/200\n",
      "2497/2497 [==============================] - 43s 17ms/step - loss: 0.3456 - val_loss: 0.3191\n",
      "Epoch 68/200\n",
      "2497/2497 [==============================] - 44s 17ms/step - loss: 0.3442 - val_loss: 0.3134\n",
      "Epoch 69/200\n",
      "2497/2497 [==============================] - 42s 17ms/step - loss: 0.3409 - val_loss: 0.3174\n",
      "Epoch 70/200\n",
      "2497/2497 [==============================] - 41s 16ms/step - loss: 0.3405 - val_loss: 0.3059\n",
      "Epoch 71/200\n",
      "2497/2497 [==============================] - 42s 17ms/step - loss: 0.3382 - val_loss: 0.3110\n",
      "Epoch 72/200\n",
      "2497/2497 [==============================] - 40s 16ms/step - loss: 0.3354 - val_loss: 0.3158\n",
      "Epoch 73/200\n",
      "2497/2497 [==============================] - 41s 16ms/step - loss: 0.3338 - val_loss: 0.3049\n",
      "Epoch 74/200\n",
      "2497/2497 [==============================] - 41s 16ms/step - loss: 0.3319 - val_loss: 0.3081\n",
      "Epoch 75/200\n",
      "2497/2497 [==============================] - 43s 17ms/step - loss: 0.3304 - val_loss: 0.3074\n",
      "Epoch 76/200\n",
      "2497/2497 [==============================] - 43s 17ms/step - loss: 0.3285 - val_loss: 0.3033\n",
      "Epoch 77/200\n",
      "2497/2497 [==============================] - 43s 17ms/step - loss: 0.3268 - val_loss: 0.2988\n",
      "Epoch 78/200\n",
      "2497/2497 [==============================] - 43s 17ms/step - loss: 0.3255 - val_loss: 0.3023\n",
      "Epoch 79/200\n",
      "2497/2497 [==============================] - 43s 17ms/step - loss: 0.3234 - val_loss: 0.2961\n",
      "Epoch 80/200\n",
      "2497/2497 [==============================] - 43s 17ms/step - loss: 0.3221 - val_loss: 0.3031\n",
      "Epoch 81/200\n",
      "2497/2497 [==============================] - 42s 17ms/step - loss: 0.3201 - val_loss: 0.2939\n",
      "Epoch 82/200\n",
      "2497/2497 [==============================] - 40s 16ms/step - loss: 0.3177 - val_loss: 0.3026\n",
      "Epoch 83/200\n",
      "2497/2497 [==============================] - 41s 16ms/step - loss: 0.3169 - val_loss: 0.2957\n",
      "Epoch 84/200\n",
      "2497/2497 [==============================] - 43s 17ms/step - loss: 0.3144 - val_loss: 0.2910\n",
      "Epoch 85/200\n",
      "2497/2497 [==============================] - 41s 16ms/step - loss: 0.3135 - val_loss: 0.2938\n",
      "Epoch 86/200\n",
      "2497/2497 [==============================] - 41s 16ms/step - loss: 0.3128 - val_loss: 0.2934\n",
      "Epoch 87/200\n",
      "2497/2497 [==============================] - 42s 17ms/step - loss: 0.3118 - val_loss: 0.2900\n",
      "Epoch 88/200\n",
      "2497/2497 [==============================] - 41s 16ms/step - loss: 0.3083 - val_loss: 0.2835\n",
      "Epoch 89/200\n",
      "2497/2497 [==============================] - 42s 17ms/step - loss: 0.3081 - val_loss: 0.2830\n",
      "Epoch 90/200\n",
      "2497/2497 [==============================] - 41s 16ms/step - loss: 0.3078 - val_loss: 0.2771\n",
      "Epoch 91/200\n",
      "2497/2497 [==============================] - 41s 16ms/step - loss: 0.3052 - val_loss: 0.2800\n",
      "Epoch 92/200\n",
      "2497/2497 [==============================] - 42s 16ms/step - loss: 0.3035 - val_loss: 0.2829\n",
      "Epoch 93/200\n",
      "2497/2497 [==============================] - 41s 16ms/step - loss: 0.3029 - val_loss: 0.2909\n",
      "Epoch 94/200\n",
      "2497/2497 [==============================] - 41s 16ms/step - loss: 0.3012 - val_loss: 0.2814\n",
      "Epoch 95/200\n",
      "2497/2497 [==============================] - 41s 16ms/step - loss: 0.2998 - val_loss: 0.2755\n",
      "Epoch 96/200\n",
      "2497/2497 [==============================] - 42s 17ms/step - loss: 0.2984 - val_loss: 0.2787\n",
      "Epoch 97/200\n",
      "2497/2497 [==============================] - 42s 17ms/step - loss: 0.2980 - val_loss: 0.2770\n",
      "Epoch 98/200\n",
      "2497/2497 [==============================] - 41s 16ms/step - loss: 0.2958 - val_loss: 0.2686\n",
      "Epoch 99/200\n",
      "2497/2497 [==============================] - 43s 17ms/step - loss: 0.2952 - val_loss: 0.2676\n",
      "Epoch 100/200\n",
      "2497/2497 [==============================] - 43s 17ms/step - loss: 0.2924 - val_loss: 0.2741\n",
      "Epoch 101/200\n",
      "2497/2497 [==============================] - 43s 17ms/step - loss: 0.2933 - val_loss: 0.2696\n",
      "Epoch 102/200\n",
      "2497/2497 [==============================] - 43s 17ms/step - loss: 0.2913 - val_loss: 0.2678\n",
      "Epoch 103/200\n",
      "2497/2497 [==============================] - 41s 16ms/step - loss: 0.2888 - val_loss: 0.2651\n",
      "Epoch 104/200\n",
      "2497/2497 [==============================] - 42s 16ms/step - loss: 0.2894 - val_loss: 0.2765\n",
      "Epoch 105/200\n",
      "2497/2497 [==============================] - 43s 17ms/step - loss: 0.2881 - val_loss: 0.2641\n",
      "Epoch 106/200\n",
      "2497/2497 [==============================] - 43s 17ms/step - loss: 0.2866 - val_loss: 0.2737\n",
      "Epoch 107/200\n",
      "2497/2497 [==============================] - 43s 17ms/step - loss: 0.2855 - val_loss: 0.2675\n",
      "Epoch 108/200\n",
      "2497/2497 [==============================] - 44s 17ms/step - loss: 0.2827 - val_loss: 0.2633\n",
      "Epoch 109/200\n",
      "2497/2497 [==============================] - 44s 18ms/step - loss: 0.2828 - val_loss: 0.2652\n",
      "Epoch 110/200\n",
      "2497/2497 [==============================] - 44s 17ms/step - loss: 0.2836 - val_loss: 0.2595\n",
      "Epoch 111/200\n",
      "2497/2497 [==============================] - 45s 18ms/step - loss: 0.2817 - val_loss: 0.2617\n",
      "Epoch 112/200\n",
      "2497/2497 [==============================] - 44s 17ms/step - loss: 0.2805 - val_loss: 0.2728\n",
      "Epoch 113/200\n",
      "2497/2497 [==============================] - 44s 17ms/step - loss: 0.2798 - val_loss: 0.2636\n",
      "Epoch 114/200\n",
      "2497/2497 [==============================] - 44s 17ms/step - loss: 0.2789 - val_loss: 0.2552\n",
      "Epoch 115/200\n",
      "2497/2497 [==============================] - 44s 17ms/step - loss: 0.2789 - val_loss: 0.2517\n",
      "Epoch 116/200\n",
      "2497/2497 [==============================] - 44s 17ms/step - loss: 0.2770 - val_loss: 0.2558\n",
      "Epoch 117/200\n",
      "2497/2497 [==============================] - 44s 17ms/step - loss: 0.2753 - val_loss: 0.2538\n",
      "Epoch 118/200\n",
      "2497/2497 [==============================] - 44s 17ms/step - loss: 0.2748 - val_loss: 0.2591\n",
      "Epoch 119/200\n",
      "2497/2497 [==============================] - 43s 17ms/step - loss: 0.2746 - val_loss: 0.2515\n",
      "Epoch 120/200\n",
      "2497/2497 [==============================] - 43s 17ms/step - loss: 0.2727 - val_loss: 0.2510\n",
      "Epoch 121/200\n",
      "2497/2497 [==============================] - 44s 17ms/step - loss: 0.2727 - val_loss: 0.2546\n",
      "Epoch 122/200\n",
      "2497/2497 [==============================] - 44s 17ms/step - loss: 0.2711 - val_loss: 0.2507\n",
      "Epoch 123/200\n",
      "2497/2497 [==============================] - 44s 17ms/step - loss: 0.2705 - val_loss: 0.2525\n",
      "Epoch 124/200\n",
      "2497/2497 [==============================] - 44s 18ms/step - loss: 0.2706 - val_loss: 0.2552\n",
      "Epoch 125/200\n",
      "2497/2497 [==============================] - 45s 18ms/step - loss: 0.2705 - val_loss: 0.2486\n",
      "Epoch 126/200\n",
      "2497/2497 [==============================] - 43s 17ms/step - loss: 0.2692 - val_loss: 0.2487\n",
      "Epoch 127/200\n",
      "2497/2497 [==============================] - 44s 17ms/step - loss: 0.2673 - val_loss: 0.2441\n",
      "Epoch 128/200\n",
      "2497/2497 [==============================] - 44s 17ms/step - loss: 0.2667 - val_loss: 0.2475\n",
      "Epoch 129/200\n",
      "2497/2497 [==============================] - 44s 17ms/step - loss: 0.2660 - val_loss: 0.2481\n",
      "Epoch 130/200\n",
      "2497/2497 [==============================] - 44s 17ms/step - loss: 0.2651 - val_loss: 0.2433\n",
      "Epoch 131/200\n",
      "2497/2497 [==============================] - 44s 17ms/step - loss: 0.2640 - val_loss: 0.2491\n",
      "Epoch 132/200\n",
      "2497/2497 [==============================] - 44s 18ms/step - loss: 0.2639 - val_loss: 0.2406\n",
      "Epoch 133/200\n",
      "2497/2497 [==============================] - 44s 17ms/step - loss: 0.2628 - val_loss: 0.2467\n",
      "Epoch 134/200\n",
      "2497/2497 [==============================] - 44s 18ms/step - loss: 0.2616 - val_loss: 0.2449\n",
      "Epoch 135/200\n",
      "2497/2497 [==============================] - 45s 18ms/step - loss: 0.2619 - val_loss: 0.2386\n",
      "Epoch 136/200\n",
      "2497/2497 [==============================] - 45s 18ms/step - loss: 0.2600 - val_loss: 0.2383\n",
      "Epoch 137/200\n",
      "2497/2497 [==============================] - 44s 17ms/step - loss: 0.2607 - val_loss: 0.2369\n",
      "Epoch 138/200\n",
      "2497/2497 [==============================] - 44s 17ms/step - loss: 0.2597 - val_loss: 0.2358\n",
      "Epoch 139/200\n",
      "2497/2497 [==============================] - 45s 18ms/step - loss: 0.2582 - val_loss: 0.2365\n",
      "Epoch 140/200\n",
      "2497/2497 [==============================] - 45s 18ms/step - loss: 0.2584 - val_loss: 0.2370\n",
      "Epoch 141/200\n",
      "2497/2497 [==============================] - 45s 18ms/step - loss: 0.2564 - val_loss: 0.2461\n",
      "Epoch 142/200\n",
      "2497/2497 [==============================] - 46s 18ms/step - loss: 0.2559 - val_loss: 0.2346\n",
      "Epoch 143/200\n",
      "2497/2497 [==============================] - 46s 18ms/step - loss: 0.2573 - val_loss: 0.2380\n",
      "Epoch 144/200\n",
      "2497/2497 [==============================] - 45s 18ms/step - loss: 0.2550 - val_loss: 0.2353\n",
      "Epoch 145/200\n",
      "2497/2497 [==============================] - 45s 18ms/step - loss: 0.2547 - val_loss: 0.2365\n",
      "Epoch 146/200\n",
      "2497/2497 [==============================] - 45s 18ms/step - loss: 0.2539 - val_loss: 0.2375\n",
      "Epoch 147/200\n",
      "2497/2497 [==============================] - 44s 17ms/step - loss: 0.2536 - val_loss: 0.2593\n",
      "Epoch 148/200\n",
      "2497/2497 [==============================] - 46s 18ms/step - loss: 0.2527 - val_loss: 0.2362\n",
      "Epoch 149/200\n",
      "2497/2497 [==============================] - 46s 18ms/step - loss: 0.2514 - val_loss: 0.2373\n",
      "Epoch 150/200\n",
      "2497/2497 [==============================] - ETA: 0s - loss: 0.2512Restoring model weights from the end of the best epoch: 142.\n",
      "2497/2497 [==============================] - 46s 18ms/step - loss: 0.2512 - val_loss: 0.2442\n",
      "Epoch 150: early stopping\n"
     ]
    }
   ],
   "source": [
    "wide_and_deep_model.compile(\n",
    "    loss=rmse,\n",
    "    optimizer='adam'\n",
    ")\n",
    "wide_and_deep_history = wide_and_deep_model.fit(train_ds,\n",
    "                validation_data = val_ds, \n",
    "                callbacks=[early_stopping],\n",
    "                epochs=200)"
   ]
  },
  {
   "cell_type": "code",
   "execution_count": 74,
   "id": "0fd21066",
   "metadata": {
    "ExecuteTime": {
     "end_time": "2022-12-25T23:41:06.554336Z",
     "start_time": "2022-12-25T23:41:06.454673Z"
    },
    "hidden": true
   },
   "outputs": [
    {
     "data": {
      "image/png": "[encoded data removed]",
      "text/plain": [
       "<Figure size 432x288 with 1 Axes>"
      ]
     },
     "metadata": {
      "needs_background": "light"
     },
     "output_type": "display_data"
    }
   ],
   "source": [
    "plot(wide_and_deep_history)"
   ]
  },
  {
   "cell_type": "markdown",
   "id": "0b8f6b3e",
   "metadata": {
    "heading_collapsed": true,
    "hidden": true
   },
   "source": [
    "#### DeepFM\n",
    "Uses factorization machine to replace the wide layer in wide and deep model, and the deep part is exactly the same as wide and deep model. <br>\n",
    "Here we uses an order 2 factorization machine (FM), and the same as the wide part before, inputs to the FM are of design choices. "
   ]
  },
  {
   "cell_type": "code",
   "execution_count": 69,
   "id": "ea377c51",
   "metadata": {
    "ExecuteTime": {
     "end_time": "2022-12-25T22:08:57.289214Z",
     "start_time": "2022-12-25T22:08:56.648351Z"
    },
    "hidden": true
   },
   "outputs": [],
   "source": [
    "# DeepFM model\n",
    "\n",
    "# factorized machine order 1 interection / linear regression \n",
    "fm_first_order_cols = [movie_ind_col, user_ind_col, movie_genre_1_ind_col,user_fav_genre_ind_col]\n",
    "fm_first_order_layer = tf.keras.layers.DenseFeatures(fm_first_order_cols)(inputs)\n",
    "\n",
    "# factorized machine order 2 interection, embedding dot product between features\n",
    "movie_emb_layer = tf.keras.layers.DenseFeatures([movie_emb_col])(inputs)\n",
    "user_emb_layer = tf.keras.layers.DenseFeatures([user_emb_col])(inputs)\n",
    "movie_genre_emb_layer = tf.keras.layers.DenseFeatures([movie_genre_1_emd_col])(inputs)\n",
    "user_genre_emb_layer = tf.keras.layers.DenseFeatures([user_fav_genre_emb_col])(inputs)\n",
    "\n",
    "# embedding dot product between features\n",
    "product_layer_movie_user = tf.keras.layers.Dot(axes=1)([movie_emb_layer, user_emb_layer])\n",
    "product_layer_movie_genre_user_genre = tf.keras.layers.Dot(axes=1)([movie_genre_emb_layer, user_genre_emb_layer])\n",
    "product_layer_movie_genre_user = tf.keras.layers.Dot(axes=1)([movie_genre_emb_layer, user_emb_layer])\n",
    "product_layer_user_genre_movie = tf.keras.layers.Dot(axes=1)([user_genre_emb_layer, movie_emb_layer])\n",
    "\n",
    "# deep part of this model is exactly the same as that in wide and deep model\n",
    "deepfm_deep = tf.keras.layers.DenseFeatures(numerical_columns + categorical_columns)(inputs)\n",
    "deepfm_deep = tf.keras.layers.Dense(256, activation='relu')(deepfm_deep)\n",
    "deepfm_deep = tf.keras.layers.Dense(128, activation='relu')(deepfm_deep)\n",
    "\n",
    "# concatenate everything together at the end\n",
    "deepfm_concat_layer = tf.keras.layers.concatenate([fm_first_order_layer, \n",
    "                                            product_layer_movie_user, \n",
    "                                            product_layer_movie_genre_user_genre,\n",
    "                                            product_layer_movie_genre_user,\n",
    "                                            product_layer_user_genre_movie,\n",
    "                                            deepfm_deep\n",
    "                                           ], axis=1)\n",
    "# output layer\n",
    "deepfm_output_layer = tf.keras.layers.Dense(1)(deepfm_concat_layer)\n",
    "\n",
    "# build model\n",
    "deepfm_model = tf.keras.Model(inputs, deepfm_output_layer)"
   ]
  },
  {
   "cell_type": "code",
   "execution_count": 71,
   "id": "6c904719",
   "metadata": {
    "ExecuteTime": {
     "end_time": "2022-12-25T23:37:21.080994Z",
     "start_time": "2022-12-25T22:09:38.458127Z"
    },
    "hidden": true
   },
   "outputs": [
    {
     "name": "stdout",
     "output_type": "stream",
     "text": [
      "Epoch 1/200\n",
      "2497/2497 [==============================] - 50s 18ms/step - loss: 0.9459 - val_loss: 0.8814\n",
      "Epoch 2/200\n",
      "2497/2497 [==============================] - 44s 18ms/step - loss: 0.8810 - val_loss: 0.8612\n",
      "Epoch 3/200\n",
      "2497/2497 [==============================] - 45s 18ms/step - loss: 0.8575 - val_loss: 0.8235\n",
      "Epoch 4/200\n",
      "2497/2497 [==============================] - 45s 18ms/step - loss: 0.8321 - val_loss: 0.8112\n",
      "Epoch 5/200\n",
      "2497/2497 [==============================] - 45s 18ms/step - loss: 0.8012 - val_loss: 0.7497\n",
      "Epoch 6/200\n",
      "2497/2497 [==============================] - 45s 18ms/step - loss: 0.7715 - val_loss: 0.7578\n",
      "Epoch 7/200\n",
      "2497/2497 [==============================] - 45s 18ms/step - loss: 0.7462 - val_loss: 0.7045\n",
      "Epoch 8/200\n",
      "2497/2497 [==============================] - 45s 18ms/step - loss: 0.7192 - val_loss: 0.6702\n",
      "Epoch 9/200\n",
      "2497/2497 [==============================] - 45s 18ms/step - loss: 0.6953 - val_loss: 0.6790\n",
      "Epoch 10/200\n",
      "2497/2497 [==============================] - 45s 18ms/step - loss: 0.6751 - val_loss: 0.6347\n",
      "Epoch 11/200\n",
      "2497/2497 [==============================] - 45s 18ms/step - loss: 0.6549 - val_loss: 0.6019\n",
      "Epoch 12/200\n",
      "2497/2497 [==============================] - 45s 18ms/step - loss: 0.6364 - val_loss: 0.5847\n",
      "Epoch 13/200\n",
      "2497/2497 [==============================] - 45s 18ms/step - loss: 0.6206 - val_loss: 0.5815\n",
      "Epoch 14/200\n",
      "2497/2497 [==============================] - 45s 18ms/step - loss: 0.6041 - val_loss: 0.5572\n",
      "Epoch 15/200\n",
      "2497/2497 [==============================] - 45s 18ms/step - loss: 0.5886 - val_loss: 0.5535\n",
      "Epoch 16/200\n",
      "2497/2497 [==============================] - 45s 18ms/step - loss: 0.5754 - val_loss: 0.5191\n",
      "Epoch 17/200\n",
      "2497/2497 [==============================] - 45s 18ms/step - loss: 0.5625 - val_loss: 0.5396\n",
      "Epoch 18/200\n",
      "2497/2497 [==============================] - 45s 18ms/step - loss: 0.5501 - val_loss: 0.5030\n",
      "Epoch 19/200\n",
      "2497/2497 [==============================] - 44s 18ms/step - loss: 0.5371 - val_loss: 0.4862\n",
      "Epoch 20/200\n",
      "2497/2497 [==============================] - 44s 18ms/step - loss: 0.5263 - val_loss: 0.4887\n",
      "Epoch 21/200\n",
      "2497/2497 [==============================] - 44s 18ms/step - loss: 0.5161 - val_loss: 0.4736\n",
      "Epoch 22/200\n",
      "2497/2497 [==============================] - 45s 18ms/step - loss: 0.5068 - val_loss: 0.4672\n",
      "Epoch 23/200\n",
      "2497/2497 [==============================] - 45s 18ms/step - loss: 0.4978 - val_loss: 0.4574\n",
      "Epoch 24/200\n",
      "2497/2497 [==============================] - 45s 18ms/step - loss: 0.4882 - val_loss: 0.4455\n",
      "Epoch 25/200\n",
      "2497/2497 [==============================] - 44s 18ms/step - loss: 0.4805 - val_loss: 0.4452\n",
      "Epoch 26/200\n",
      "2497/2497 [==============================] - 45s 18ms/step - loss: 0.4724 - val_loss: 0.4179\n",
      "Epoch 27/200\n",
      "2497/2497 [==============================] - 45s 18ms/step - loss: 0.4634 - val_loss: 0.4251\n",
      "Epoch 28/200\n",
      "2497/2497 [==============================] - 45s 18ms/step - loss: 0.4571 - val_loss: 0.4117\n",
      "Epoch 29/200\n",
      "2497/2497 [==============================] - 45s 18ms/step - loss: 0.4495 - val_loss: 0.4062\n",
      "Epoch 30/200\n",
      "2497/2497 [==============================] - 45s 18ms/step - loss: 0.4419 - val_loss: 0.3962\n",
      "Epoch 31/200\n",
      "2497/2497 [==============================] - 45s 18ms/step - loss: 0.4359 - val_loss: 0.3893\n",
      "Epoch 32/200\n",
      "2497/2497 [==============================] - 45s 18ms/step - loss: 0.4274 - val_loss: 0.3864\n",
      "Epoch 33/200\n",
      "2497/2497 [==============================] - 45s 18ms/step - loss: 0.4237 - val_loss: 0.3804\n",
      "Epoch 34/200\n",
      "2497/2497 [==============================] - 44s 18ms/step - loss: 0.4186 - val_loss: 0.3747\n",
      "Epoch 35/200\n",
      "2497/2497 [==============================] - 45s 18ms/step - loss: 0.4108 - val_loss: 0.3733\n",
      "Epoch 36/200\n",
      "2497/2497 [==============================] - 45s 18ms/step - loss: 0.4057 - val_loss: 0.3670\n",
      "Epoch 37/200\n",
      "2497/2497 [==============================] - 45s 18ms/step - loss: 0.4005 - val_loss: 0.3726\n",
      "Epoch 38/200\n",
      "2497/2497 [==============================] - 45s 18ms/step - loss: 0.3958 - val_loss: 0.3602\n",
      "Epoch 39/200\n",
      "2497/2497 [==============================] - 45s 18ms/step - loss: 0.3903 - val_loss: 0.3560\n",
      "Epoch 40/200\n",
      "2497/2497 [==============================] - 45s 18ms/step - loss: 0.3869 - val_loss: 0.3506\n",
      "Epoch 41/200\n",
      "2497/2497 [==============================] - 44s 18ms/step - loss: 0.3811 - val_loss: 0.3680\n",
      "Epoch 42/200\n",
      "2497/2497 [==============================] - 45s 18ms/step - loss: 0.3773 - val_loss: 0.3457\n",
      "Epoch 43/200\n",
      "2497/2497 [==============================] - 44s 18ms/step - loss: 0.3740 - val_loss: 0.3524\n",
      "Epoch 44/200\n",
      "2497/2497 [==============================] - 45s 18ms/step - loss: 0.3700 - val_loss: 0.3380\n",
      "Epoch 45/200\n",
      "2497/2497 [==============================] - 45s 18ms/step - loss: 0.3665 - val_loss: 0.3286\n",
      "Epoch 46/200\n",
      "2497/2497 [==============================] - 45s 18ms/step - loss: 0.3623 - val_loss: 0.3302\n",
      "Epoch 47/200\n",
      "2497/2497 [==============================] - 44s 18ms/step - loss: 0.3574 - val_loss: 0.3336\n",
      "Epoch 48/200\n",
      "2497/2497 [==============================] - 45s 18ms/step - loss: 0.3543 - val_loss: 0.3180\n",
      "Epoch 49/200\n",
      "2497/2497 [==============================] - 45s 18ms/step - loss: 0.3494 - val_loss: 0.3192\n",
      "Epoch 50/200\n",
      "2497/2497 [==============================] - 44s 18ms/step - loss: 0.3481 - val_loss: 0.3254\n",
      "Epoch 51/200\n",
      "2497/2497 [==============================] - 45s 18ms/step - loss: 0.3451 - val_loss: 0.3138\n",
      "Epoch 52/200\n",
      "2497/2497 [==============================] - 44s 18ms/step - loss: 0.3416 - val_loss: 0.3158\n",
      "Epoch 53/200\n",
      "2497/2497 [==============================] - 45s 18ms/step - loss: 0.3384 - val_loss: 0.3129\n",
      "Epoch 54/200\n",
      "2497/2497 [==============================] - 45s 18ms/step - loss: 0.3362 - val_loss: 0.3038\n",
      "Epoch 55/200\n",
      "2497/2497 [==============================] - 44s 18ms/step - loss: 0.3335 - val_loss: 0.3097\n",
      "Epoch 56/200\n",
      "2497/2497 [==============================] - 44s 18ms/step - loss: 0.3304 - val_loss: 0.3020\n",
      "Epoch 57/200\n",
      "2497/2497 [==============================] - 44s 18ms/step - loss: 0.3275 - val_loss: 0.3105\n",
      "Epoch 58/200\n",
      "2497/2497 [==============================] - 45s 18ms/step - loss: 0.3251 - val_loss: 0.2963\n",
      "Epoch 59/200\n",
      "2497/2497 [==============================] - 45s 18ms/step - loss: 0.3213 - val_loss: 0.2984\n",
      "Epoch 60/200\n",
      "2497/2497 [==============================] - 45s 18ms/step - loss: 0.3195 - val_loss: 0.2936\n",
      "Epoch 61/200\n",
      "2497/2497 [==============================] - 45s 18ms/step - loss: 0.3164 - val_loss: 0.2915\n",
      "Epoch 62/200\n",
      "2497/2497 [==============================] - 45s 18ms/step - loss: 0.3161 - val_loss: 0.2862\n",
      "Epoch 63/200\n",
      "2497/2497 [==============================] - 44s 18ms/step - loss: 0.3126 - val_loss: 0.2817\n",
      "Epoch 64/200\n",
      "2497/2497 [==============================] - 47s 19ms/step - loss: 0.3110 - val_loss: 0.2833\n",
      "Epoch 65/200\n",
      "2497/2497 [==============================] - 45s 18ms/step - loss: 0.3082 - val_loss: 0.2865\n",
      "Epoch 66/200\n",
      "2497/2497 [==============================] - 46s 18ms/step - loss: 0.3067 - val_loss: 0.2909\n",
      "Epoch 67/200\n",
      "2497/2497 [==============================] - 45s 18ms/step - loss: 0.3056 - val_loss: 0.2774\n",
      "Epoch 68/200\n",
      "2497/2497 [==============================] - 45s 18ms/step - loss: 0.3018 - val_loss: 0.2762\n",
      "Epoch 69/200\n",
      "2497/2497 [==============================] - 46s 18ms/step - loss: 0.2999 - val_loss: 0.2731\n",
      "Epoch 70/200\n",
      "2497/2497 [==============================] - 44s 18ms/step - loss: 0.2985 - val_loss: 0.2752\n",
      "Epoch 71/200\n",
      "2497/2497 [==============================] - 45s 18ms/step - loss: 0.2964 - val_loss: 0.2713\n",
      "Epoch 72/200\n",
      "2497/2497 [==============================] - 46s 18ms/step - loss: 0.2950 - val_loss: 0.2687\n",
      "Epoch 73/200\n",
      "2497/2497 [==============================] - 46s 18ms/step - loss: 0.2929 - val_loss: 0.2710\n",
      "Epoch 74/200\n",
      "2497/2497 [==============================] - 46s 18ms/step - loss: 0.2915 - val_loss: 0.2943\n",
      "Epoch 75/200\n",
      "2497/2497 [==============================] - 47s 19ms/step - loss: 0.2887 - val_loss: 0.2675\n",
      "Epoch 76/200\n",
      "2497/2497 [==============================] - 46s 18ms/step - loss: 0.2879 - val_loss: 0.2677\n",
      "Epoch 77/200\n",
      "2497/2497 [==============================] - 47s 19ms/step - loss: 0.2858 - val_loss: 0.2607\n",
      "Epoch 78/200\n",
      "2497/2497 [==============================] - 46s 18ms/step - loss: 0.2830 - val_loss: 0.2574\n",
      "Epoch 79/200\n",
      "2497/2497 [==============================] - 45s 18ms/step - loss: 0.2823 - val_loss: 0.2607\n",
      "Epoch 80/200\n",
      "2497/2497 [==============================] - 45s 18ms/step - loss: 0.2813 - val_loss: 0.2704\n",
      "Epoch 81/200\n",
      "2497/2497 [==============================] - 45s 18ms/step - loss: 0.2794 - val_loss: 0.2550\n",
      "Epoch 82/200\n",
      "2497/2497 [==============================] - 46s 18ms/step - loss: 0.2789 - val_loss: 0.2554\n",
      "Epoch 83/200\n",
      "2497/2497 [==============================] - 47s 18ms/step - loss: 0.2767 - val_loss: 0.2721\n",
      "Epoch 84/200\n",
      "2497/2497 [==============================] - 47s 19ms/step - loss: 0.2748 - val_loss: 0.2531\n",
      "Epoch 85/200\n",
      "2497/2497 [==============================] - 48s 19ms/step - loss: 0.2744 - val_loss: 0.2498\n",
      "Epoch 86/200\n",
      "2497/2497 [==============================] - 46s 18ms/step - loss: 0.2726 - val_loss: 0.2448\n",
      "Epoch 87/200\n",
      "2497/2497 [==============================] - 45s 18ms/step - loss: 0.2715 - val_loss: 0.2479\n",
      "Epoch 88/200\n",
      "2497/2497 [==============================] - 45s 18ms/step - loss: 0.2696 - val_loss: 0.2465\n",
      "Epoch 89/200\n",
      "2497/2497 [==============================] - 45s 18ms/step - loss: 0.2679 - val_loss: 0.2476\n",
      "Epoch 90/200\n",
      "2497/2497 [==============================] - 45s 18ms/step - loss: 0.2664 - val_loss: 0.2447\n",
      "Epoch 91/200\n",
      "2497/2497 [==============================] - 45s 18ms/step - loss: 0.2648 - val_loss: 0.2439\n",
      "Epoch 92/200\n",
      "2497/2497 [==============================] - 45s 18ms/step - loss: 0.2635 - val_loss: 0.2423\n",
      "Epoch 93/200\n",
      "2497/2497 [==============================] - 45s 18ms/step - loss: 0.2636 - val_loss: 0.2375\n",
      "Epoch 94/200\n",
      "2497/2497 [==============================] - 45s 18ms/step - loss: 0.2622 - val_loss: 0.2416\n",
      "Epoch 95/200\n",
      "2497/2497 [==============================] - 45s 18ms/step - loss: 0.2608 - val_loss: 0.2428\n",
      "Epoch 96/200\n",
      "2497/2497 [==============================] - 44s 17ms/step - loss: 0.2595 - val_loss: 0.2408\n",
      "Epoch 97/200\n",
      "2497/2497 [==============================] - 45s 18ms/step - loss: 0.2588 - val_loss: 0.2527\n",
      "Epoch 98/200\n",
      "2497/2497 [==============================] - 45s 18ms/step - loss: 0.2576 - val_loss: 0.2435\n",
      "Epoch 99/200\n",
      "2497/2497 [==============================] - 45s 18ms/step - loss: 0.2560 - val_loss: 0.2304\n",
      "Epoch 100/200\n",
      "2497/2497 [==============================] - 46s 18ms/step - loss: 0.2550 - val_loss: 0.2328\n",
      "Epoch 101/200\n",
      "2497/2497 [==============================] - 45s 18ms/step - loss: 0.2542 - val_loss: 0.2328\n",
      "Epoch 102/200\n",
      "2497/2497 [==============================] - 44s 18ms/step - loss: 0.2531 - val_loss: 0.2339\n",
      "Epoch 103/200\n",
      "2497/2497 [==============================] - 44s 17ms/step - loss: 0.2525 - val_loss: 0.2351\n",
      "Epoch 104/200\n",
      "2497/2497 [==============================] - 44s 17ms/step - loss: 0.2511 - val_loss: 0.2410\n",
      "Epoch 105/200\n",
      "2497/2497 [==============================] - 45s 18ms/step - loss: 0.2503 - val_loss: 0.2270\n",
      "Epoch 106/200\n",
      "2497/2497 [==============================] - 45s 18ms/step - loss: 0.2496 - val_loss: 0.2338\n",
      "Epoch 107/200\n",
      "2497/2497 [==============================] - 46s 18ms/step - loss: 0.2486 - val_loss: 0.2279\n",
      "Epoch 108/200\n",
      "2497/2497 [==============================] - 44s 17ms/step - loss: 0.2477 - val_loss: 0.2317\n",
      "Epoch 109/200\n",
      "2497/2497 [==============================] - 44s 17ms/step - loss: 0.2460 - val_loss: 0.2219\n",
      "Epoch 110/200\n",
      "2497/2497 [==============================] - 44s 17ms/step - loss: 0.2462 - val_loss: 0.2238\n",
      "Epoch 111/200\n",
      "2497/2497 [==============================] - 44s 17ms/step - loss: 0.2448 - val_loss: 0.2326\n",
      "Epoch 112/200\n",
      "2497/2497 [==============================] - 44s 17ms/step - loss: 0.2434 - val_loss: 0.2319\n",
      "Epoch 113/200\n",
      "2497/2497 [==============================] - 52s 21ms/step - loss: 0.2427 - val_loss: 0.2310\n",
      "Epoch 114/200\n",
      "2497/2497 [==============================] - 46s 18ms/step - loss: 0.2430 - val_loss: 0.2336\n",
      "Epoch 115/200\n",
      "2497/2497 [==============================] - 44s 17ms/step - loss: 0.2410 - val_loss: 0.2266\n",
      "Epoch 116/200\n",
      "2497/2497 [==============================] - 44s 17ms/step - loss: 0.2397 - val_loss: 0.2251\n",
      "Epoch 117/200\n",
      "2497/2497 [==============================] - ETA: 0s - loss: 0.2401Restoring model weights from the end of the best epoch: 109.\n",
      "2497/2497 [==============================] - 43s 17ms/step - loss: 0.2401 - val_loss: 0.2268\n",
      "Epoch 117: early stopping\n"
     ]
    }
   ],
   "source": [
    "deepfm_model.compile(\n",
    "    loss=rmse,\n",
    "    optimizer='adam'\n",
    ")\n",
    "deepfm_history = deepfm_model.fit(train_ds,\n",
    "                validation_data = val_ds, \n",
    "                callbacks=[early_stopping],\n",
    "                epochs=200)"
   ]
  },
  {
   "cell_type": "code",
   "execution_count": 75,
   "id": "a0611aa9",
   "metadata": {
    "ExecuteTime": {
     "end_time": "2022-12-25T23:41:29.815363Z",
     "start_time": "2022-12-25T23:41:29.733636Z"
    },
    "hidden": true
   },
   "outputs": [
    {
     "data": {
      "image/png": "[encoded data removed]",
      "text/plain": [
       "<Figure size 432x288 with 1 Axes>"
      ]
     },
     "metadata": {
      "needs_background": "light"
     },
     "output_type": "display_data"
    }
   ],
   "source": [
    "plot(deepfm_history)"
   ]
  },
  {
   "cell_type": "markdown",
   "id": "475953a1",
   "metadata": {
    "heading_collapsed": true
   },
   "source": [
    "### Analyze result and save model"
   ]
  },
  {
   "cell_type": "code",
   "execution_count": 72,
   "id": "43ffb981",
   "metadata": {
    "ExecuteTime": {
     "end_time": "2022-12-25T23:39:50.150022Z",
     "start_time": "2022-12-25T23:39:40.849213Z"
    },
    "hidden": true
   },
   "outputs": [
    {
     "name": "stdout",
     "output_type": "stream",
     "text": [
      "313/313 [==============================] - 1s 2ms/step - loss: 0.6764\n",
      "313/313 [==============================] - 2s 2ms/step - loss: 0.6894\n",
      "313/313 [==============================] - 3s 7ms/step - loss: 0.2447\n",
      "313/313 [==============================] - 3s 6ms/step - loss: 0.2247\n"
     ]
    },
    {
     "data": {
      "text/html": [
       "<div>\n",
       "<style scoped>\n",
       "    .dataframe tbody tr th:only-of-type {\n",
       "        vertical-align: middle;\n",
       "    }\n",
       "\n",
       "    .dataframe tbody tr th {\n",
       "        vertical-align: top;\n",
       "    }\n",
       "\n",
       "    .dataframe thead th {\n",
       "        text-align: right;\n",
       "    }\n",
       "</style>\n",
       "<table border=\"1\" class=\"dataframe\">\n",
       "  <thead>\n",
       "    <tr style=\"text-align: right;\">\n",
       "      <th></th>\n",
       "      <th>test loss (rmse)</th>\n",
       "    </tr>\n",
       "  </thead>\n",
       "  <tbody>\n",
       "    <tr>\n",
       "      <th>neuralCF</th>\n",
       "      <td>0.676449</td>\n",
       "    </tr>\n",
       "    <tr>\n",
       "      <th>dssm</th>\n",
       "      <td>0.689409</td>\n",
       "    </tr>\n",
       "    <tr>\n",
       "      <th>wide_and_deep</th>\n",
       "      <td>0.244740</td>\n",
       "    </tr>\n",
       "    <tr>\n",
       "      <th>deepfm</th>\n",
       "      <td>0.224691</td>\n",
       "    </tr>\n",
       "  </tbody>\n",
       "</table>\n",
       "</div>"
      ],
      "text/plain": [
       "               test loss (rmse)\n",
       "neuralCF               0.676449\n",
       "dssm                   0.689409\n",
       "wide_and_deep          0.244740\n",
       "deepfm                 0.224691"
      ]
     },
     "execution_count": 72,
     "metadata": {},
     "output_type": "execute_result"
    }
   ],
   "source": [
    "result_df_neuralCF = pd.DataFrame.from_dict(neuralCF_model.evaluate(test_ds, return_dict = True), orient='index',columns = [\"neuralCF\"]).transpose()\n",
    "result_df_dssm = pd.DataFrame.from_dict(dssm_model.evaluate(test_ds, return_dict = True), orient='index',columns = [\"dssm\"]).transpose()\n",
    "result_df_wide_and_deep = pd.DataFrame.from_dict(wide_and_deep_model.evaluate(test_ds, return_dict = True), orient='index',columns = [\"wide_and_deep\"]).transpose()\n",
    "result_df_deepfm = pd.DataFrame.from_dict(deepfm_model.evaluate(test_ds, return_dict = True), orient='index',columns = [\"deepfm\"]).transpose()\n",
    "\n",
    "result_df = pd.concat([result_df_neuralCF,result_df_dssm,result_df_wide_and_deep,result_df_deepfm])\n",
    "result_df.columns = ['test loss (rmse)']\n",
    "result_df"
   ]
  },
  {
   "cell_type": "markdown",
   "id": "723fb89b",
   "metadata": {
    "hidden": true
   },
   "source": [
    "The result is quite interesting but fall under expectations. \n",
    "\n",
    "The neuralCF approach performs slightly better dssm, yet neuralCF uses only movieId embedding and userId embedding whereas dssm uses much more richer information on users and movies. The reasons behind is that feature interactions happen differently in neuralCF and dssm. neuralCF use multiple dense layers to capture interaction between user and movie, but in dssm, feature interactions happen separately in user tower and movie tower, and there is no final interaction at the top. However, despite the performance issue, dssm is very easy and fast to deploy in production, which is extremely engineering friendly. The outputs from user tower and movie tower can be stored in memory (probably distributed memory like Redis) beforehand and real time inference speed is very fast. The dssm model is widely used in candidate retrieval process.\n",
    "\n",
    "Wide and deep model and deepfm model beat the above two with overwhelmingly better performance. Wide and deep not only include a deep neural network to capture interaction between user and movie features, it also have a wide layer to remember things when they often co-occur with each other. In the original Google usage of wide and deep model, Google is recommending new apps in their Google Play Store, and the input features to the wide layer are impression_app_id and user_installed_app_id. To mimic such effort, I choose user_fav_movieId, current movieId, user_fav_genre, and current genre. The results turn out to be fantastic with 0.245 rmse on testing set.\n",
    "\n",
    "The deepfm does outperform wide and deep model by 0.02 in rmse, which proves the effectiveness of replacing a wide part, which is basically a co-occurrence indicator columns on a linear regression, with an order 2 Factorization Machine."
   ]
  },
  {
   "cell_type": "code",
   "execution_count": 89,
   "id": "9d5dd11c",
   "metadata": {
    "ExecuteTime": {
     "end_time": "2022-12-26T00:09:44.083375Z",
     "start_time": "2022-12-26T00:09:04.272412Z"
    },
    "hidden": true,
    "scrolled": true
   },
   "outputs": [
    {
     "name": "stderr",
     "output_type": "stream",
     "text": [
      "WARNING:absl:Function `_wrapped_model` contains input name(s) IMDb_rating, movieId, userId, user_fav_movieId with unsupported characters which will be renamed to imdb_rating, movieid, userid, user_fav_movieid in the SavedModel.\n"
     ]
    },
    {
     "name": "stdout",
     "output_type": "stream",
     "text": [
      "INFO:tensorflow:Assets written to: neuralCF\\assets\n"
     ]
    },
    {
     "name": "stderr",
     "output_type": "stream",
     "text": [
      "INFO:tensorflow:Assets written to: neuralCF\\assets\n",
      "WARNING:absl:Function `_wrapped_model` contains input name(s) IMDb_rating, movieId, userId, user_fav_movieId with unsupported characters which will be renamed to imdb_rating, movieid, userid, user_fav_movieid in the SavedModel.\n"
     ]
    },
    {
     "name": "stdout",
     "output_type": "stream",
     "text": [
      "INFO:tensorflow:Assets written to: dssm\\assets\n"
     ]
    },
    {
     "name": "stderr",
     "output_type": "stream",
     "text": [
      "INFO:tensorflow:Assets written to: dssm\\assets\n",
      "WARNING:absl:Function `_wrapped_model` contains input name(s) IMDb_rating, movieId, userId, user_fav_movieId with unsupported characters which will be renamed to imdb_rating, movieid, userid, user_fav_movieid in the SavedModel.\n"
     ]
    },
    {
     "name": "stdout",
     "output_type": "stream",
     "text": [
      "INFO:tensorflow:Assets written to: wide_and_deep\\assets\n"
     ]
    },
    {
     "name": "stderr",
     "output_type": "stream",
     "text": [
      "INFO:tensorflow:Assets written to: wide_and_deep\\assets\n",
      "WARNING:absl:Function `_wrapped_model` contains input name(s) IMDb_rating, movieId, userId, user_fav_movieId with unsupported characters which will be renamed to imdb_rating, movieid, userid, user_fav_movieid in the SavedModel.\n"
     ]
    },
    {
     "name": "stdout",
     "output_type": "stream",
     "text": [
      "INFO:tensorflow:Assets written to: deepfm\\assets\n"
     ]
    },
    {
     "name": "stderr",
     "output_type": "stream",
     "text": [
      "INFO:tensorflow:Assets written to: deepfm\\assets\n"
     ]
    }
   ],
   "source": [
    "# Save models to disk\n",
    "neuralCF_model.save('neuralCF', include_optimizer=False)\n",
    "dssm_model.save('dssm', include_optimizer=False)\n",
    "wide_and_deep_model.save('wide_and_deep', include_optimizer=False)\n",
    "deepfm_model.save('deepfm',include_optimizer=False)"
   ]
  }
 ],
 "metadata": {
  "kernelspec": {
   "display_name": "Python 3 (ipykernel)",
   "language": "python",
   "name": "python3"
  },
  "language_info": {
   "codemirror_mode": {
    "name": "ipython",
    "version": 3
   },
   "file_extension": ".py",
   "mimetype": "text/x-python",
   "name": "python",
   "nbconvert_exporter": "python",
   "pygments_lexer": "ipython3",
   "version": "3.9.12"
  },
  "toc": {
   "base_numbering": 1,
   "nav_menu": {},
   "number_sections": true,
   "sideBar": true,
   "skip_h1_title": false,
   "title_cell": "Table of Contents",
   "title_sidebar": "Contents",
   "toc_cell": false,
   "toc_position": {},
   "toc_section_display": true,
   "toc_window_display": false
  }
 },
 "nbformat": 4,
 "nbformat_minor": 5
}
