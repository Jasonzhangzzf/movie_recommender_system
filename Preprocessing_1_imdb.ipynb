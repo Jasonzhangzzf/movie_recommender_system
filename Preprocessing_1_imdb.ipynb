{
 "cells": [
  {
   "cell_type": "code",
   "execution_count": 22,
   "id": "4d09e7aa",
   "metadata": {
    "ExecuteTime": {
     "end_time": "2022-12-18T23:23:42.717655Z",
     "start_time": "2022-12-18T23:23:42.556297Z"
    }
   },
   "outputs": [],
   "source": [
    "import warnings\n",
    "warnings.filterwarnings(\"ignore\")\n",
    "\n",
    "import pandas as pd\n",
    "import imdb\n",
    "from tqdm import tqdm\n",
    "tqdm.pandas()\n",
    "from sentence_transformers import SentenceTransformer, util\n",
    "import numpy as np\n",
    "import re\n",
    "\n",
    "import pickle\n",
    "# Helper function to play with pickle\n",
    "def save_pickle(model, filename):\n",
    "    with open(filename, 'wb') as f:\n",
    "        pickle.dump(model, f)\n",
    "def load_pickle(filename):\n",
    "    with open(filename, 'rb') as f:\n",
    "        return pickle.load(f)"
   ]
  },
  {
   "cell_type": "markdown",
   "id": "a65d97e7",
   "metadata": {},
   "source": [
    "In this notebook, we will primarily focus on extracting new movie features from IMDb instance."
   ]
  },
  {
   "cell_type": "markdown",
   "id": "e3bf31f3",
   "metadata": {},
   "source": [
    "### Instantiate sentence transformer model, IMDb instance, and read movie data"
   ]
  },
  {
   "cell_type": "code",
   "execution_count": 3,
   "id": "f8c42ffa",
   "metadata": {
    "ExecuteTime": {
     "end_time": "2022-12-18T21:12:51.394746Z",
     "start_time": "2022-12-18T21:12:50.961817Z"
    }
   },
   "outputs": [],
   "source": [
    "# Instantiate sentence transformer model\n",
    "model = SentenceTransformer('all-MiniLM-L6-v2')\n",
    "# Instantiate IMDb class\n",
    "ia = imdb.IMDb()"
   ]
  },
  {
   "cell_type": "code",
   "execution_count": 9,
   "id": "9183b9ab",
   "metadata": {
    "ExecuteTime": {
     "end_time": "2022-12-18T21:14:04.457311Z",
     "start_time": "2022-12-18T21:14:04.436509Z"
    }
   },
   "outputs": [],
   "source": [
    "# Read movie data\n",
    "movie = pd.read_csv(\"u.item\", sep='|', header = None, encoding='latin-1', \n",
    "                    names = [ \"movieId\" , \"title\" , \"release_date\" , 'video_release_date' ,\n",
    "              'IMDbURL' , 'unknown' , 'Action' , 'Adventure' , 'Animation' ,\n",
    "              \"Children's\" , 'Comedy' , 'Crime' , 'Documentary' , 'Drama' , 'Fantasy',\n",
    "              'Film-Noir' , 'Horror' , 'Musical' , 'Mystery' , 'Romance' , 'Sci-Fi' ,\n",
    "              'Thriller' , 'War' , 'Western' ])"
   ]
  },
  {
   "cell_type": "code",
   "execution_count": 10,
   "id": "cca3bdb5",
   "metadata": {
    "ExecuteTime": {
     "end_time": "2022-12-18T21:14:12.266293Z",
     "start_time": "2022-12-18T21:14:12.245674Z"
    }
   },
   "outputs": [
    {
     "name": "stdout",
     "output_type": "stream",
     "text": [
      "<class 'pandas.core.frame.DataFrame'>\n",
      "RangeIndex: 1682 entries, 0 to 1681\n",
      "Data columns (total 24 columns):\n",
      " #   Column              Non-Null Count  Dtype  \n",
      "---  ------              --------------  -----  \n",
      " 0   movieId             1682 non-null   int64  \n",
      " 1   title               1682 non-null   object \n",
      " 2   release_date        1681 non-null   object \n",
      " 3   video_release_date  0 non-null      float64\n",
      " 4   IMDbURL             1679 non-null   object \n",
      " 5   unknown             1682 non-null   int64  \n",
      " 6   Action              1682 non-null   int64  \n",
      " 7   Adventure           1682 non-null   int64  \n",
      " 8   Animation           1682 non-null   int64  \n",
      " 9   Children's          1682 non-null   int64  \n",
      " 10  Comedy              1682 non-null   int64  \n",
      " 11  Crime               1682 non-null   int64  \n",
      " 12  Documentary         1682 non-null   int64  \n",
      " 13  Drama               1682 non-null   int64  \n",
      " 14  Fantasy             1682 non-null   int64  \n",
      " 15  Film-Noir           1682 non-null   int64  \n",
      " 16  Horror              1682 non-null   int64  \n",
      " 17  Musical             1682 non-null   int64  \n",
      " 18  Mystery             1682 non-null   int64  \n",
      " 19  Romance             1682 non-null   int64  \n",
      " 20  Sci-Fi              1682 non-null   int64  \n",
      " 21  Thriller            1682 non-null   int64  \n",
      " 22  War                 1682 non-null   int64  \n",
      " 23  Western             1682 non-null   int64  \n",
      "dtypes: float64(1), int64(20), object(3)\n",
      "memory usage: 315.5+ KB\n"
     ]
    }
   ],
   "source": [
    "# Get a brief overview on movie data\n",
    "movie.info()"
   ]
  },
  {
   "cell_type": "markdown",
   "id": "59abd97b",
   "metadata": {},
   "source": [
    "We can use the IMDB instance to search movie title and grab valuable information regarding the movie that are not in the dataset."
   ]
  },
  {
   "cell_type": "code",
   "execution_count": 11,
   "id": "a1930929",
   "metadata": {
    "ExecuteTime": {
     "end_time": "2022-12-18T21:17:35.271743Z",
     "start_time": "2022-12-18T21:17:35.264700Z"
    }
   },
   "outputs": [],
   "source": [
    "def parseMovieTitle(movieTitle):\n",
    "    # Using try-except block here since error will occur for some movies\n",
    "    # because search_movie does not return a good result\n",
    "    try:\n",
    "        # Search movie title to retrieve its IMDb id\n",
    "        imdb_id = ia.search_movie(movieTitle)[0].getID()\n",
    "        # Use IMDb id to retrieve all its data\n",
    "        movie_data = ia.get_movie(imdb_id)\n",
    "        \n",
    "        return pd.Series( [[person['name'] for person in movie_data['cast'][:2]],       # Top2 cast\n",
    "                       movie_data['director'][0]['name'],                               # Director\n",
    "                       movie_data['rating'],                                            # IMDb rating\n",
    "                       movie_data['plot'][0],                                           # Plot summary\n",
    "                       model.encode(movie_data['plot'][0])])                            # Plot summary embedding encoded by sentence transformer\n",
    "    except:\n",
    "        return pd.Series([None,None,None,None,None])"
   ]
  },
  {
   "cell_type": "code",
   "execution_count": 12,
   "id": "5a91d503",
   "metadata": {
    "ExecuteTime": {
     "end_time": "2022-12-18T22:38:57.989318Z",
     "start_time": "2022-12-18T21:17:43.007601Z"
    }
   },
   "outputs": [
    {
     "name": "stderr",
     "output_type": "stream",
     "text": [
      " 25%|██▌       | 428/1682 [22:23<1:08:20,  3.27s/it]2022-12-18 16:40:07,970 CRITICAL [imdbpy] D:\\apps\\anaconda\\lib\\site-packages\\imdb\\_exceptions.py:32: IMDbParserError exception raised; args: ('invalid title: \"\"',); kwds: {}\n",
      "NoneType: None\n",
      " 48%|████▊     | 806/1682 [41:07<44:02,  3.02s/it]  2022-12-18 16:58:51,881 CRITICAL [imdbpy] D:\\apps\\anaconda\\lib\\site-packages\\imdb\\_exceptions.py:32: IMDbParserError exception raised; args: ('invalid title: \"\"',); kwds: {}\n",
      "NoneType: None\n",
      "100%|██████████| 1682/1682 [1:21:14<00:00,  2.90s/it]\n"
     ]
    }
   ],
   "source": [
    "# Get all these features on movie dataframe\n",
    "movie[['top2_cast','director','rating','plot summary','plot embedding']] = movie.title.progress_apply(parseMovieTitle)"
   ]
  },
  {
   "cell_type": "code",
   "execution_count": 14,
   "id": "a134bde9",
   "metadata": {
    "ExecuteTime": {
     "end_time": "2022-12-18T22:58:44.453278Z",
     "start_time": "2022-12-18T22:58:44.441300Z"
    }
   },
   "outputs": [],
   "source": [
    "# Extract movie entries that encounter an error\n",
    "movie_na = movie[movie.rating.isna()]"
   ]
  },
  {
   "cell_type": "code",
   "execution_count": 16,
   "id": "92127f08",
   "metadata": {
    "ExecuteTime": {
     "end_time": "2022-12-18T22:59:00.816858Z",
     "start_time": "2022-12-18T22:59:00.798467Z"
    }
   },
   "outputs": [],
   "source": [
    "# Same approach as before, but uses regex to discard info enclosed by the first parentheses\n",
    "def parseMovieTitleRegex(movieTitle):\n",
    "    try:\n",
    "        imdb_id = ia.search_movie(re.search(\"\\((.*)\",movieTitle)[0])[0].getID()   \n",
    "        movie_data = ia.get_movie(imdb_id)\n",
    "        return pd.Series( [[person['name'] for person in movie_data['cast'][:2]], \n",
    "                       movie_data['director'][0]['name'], \n",
    "                       movie_data['rating'], \n",
    "                       movie_data['plot'][0], \n",
    "                       model.encode(movie_data['plot'][0])])\n",
    "    except:\n",
    "        return pd.Series([None,None,None,None,None])"
   ]
  },
  {
   "cell_type": "code",
   "execution_count": 17,
   "id": "38e602f1",
   "metadata": {
    "ExecuteTime": {
     "end_time": "2022-12-18T23:10:26.477040Z",
     "start_time": "2022-12-18T23:07:51.457865Z"
    }
   },
   "outputs": [
    {
     "name": "stderr",
     "output_type": "stream",
     "text": [
      "100%|██████████| 61/61 [02:33<00:00,  2.52s/it]\n"
     ]
    }
   ],
   "source": [
    "# Try this approach on the remaining 61 movie entries\n",
    "movie_na[['top2_cast','director','rating','plot summary','plot embedding']] = movie_na.title.progress_apply(parseMovieTitleRegex)"
   ]
  },
  {
   "cell_type": "code",
   "execution_count": 19,
   "id": "b2a4f17f",
   "metadata": {
    "ExecuteTime": {
     "end_time": "2022-12-18T23:16:49.391008Z",
     "start_time": "2022-12-18T23:16:49.371866Z"
    }
   },
   "outputs": [],
   "source": [
    "# Load 2nd processed features back to movie\n",
    "movie.iloc[movie_na.index] = movie_na"
   ]
  },
  {
   "cell_type": "code",
   "execution_count": 35,
   "id": "e8d2a1bd",
   "metadata": {
    "ExecuteTime": {
     "end_time": "2022-12-18T23:42:44.549681Z",
     "start_time": "2022-12-18T23:42:44.531290Z"
    }
   },
   "outputs": [],
   "source": [
    "# There are still 5 movie entries that encounter error when using IMDb instance, we will discard them\n",
    "movie_na_still = movie_na[movie_na.rating.isna()]"
   ]
  },
  {
   "cell_type": "code",
   "execution_count": 37,
   "id": "006923ef",
   "metadata": {
    "ExecuteTime": {
     "end_time": "2022-12-18T23:43:49.835314Z",
     "start_time": "2022-12-18T23:43:49.823714Z"
    }
   },
   "outputs": [],
   "source": [
    "# Discard these movie entries\n",
    "movie.drop(movie_na_still.index, inplace = True,errors='ignore')"
   ]
  },
  {
   "cell_type": "code",
   "execution_count": 34,
   "id": "67ef9bd6",
   "metadata": {
    "ExecuteTime": {
     "end_time": "2022-12-18T23:42:22.082757Z",
     "start_time": "2022-12-18T23:42:22.038795Z"
    }
   },
   "outputs": [],
   "source": [
    "# Read ratings and user data\n",
    "ratings = pd.read_csv(\"u.data\",sep='\\t', header = None, names=[\"userId\" , \"movieId\" , \"rating\" , \"timestamp\"])\n",
    "ratings.drop(ratings[ratings.movieId.isin(movie_na_still.movieId)].index, inplace = True)\n",
    "\n",
    "user = pd.read_csv(\"u.user\", sep='|', header = None, names = ['userId','age','gender','occupation', 'zip code'])"
   ]
  },
  {
   "cell_type": "code",
   "execution_count": 44,
   "id": "101ac6ed",
   "metadata": {
    "ExecuteTime": {
     "end_time": "2022-12-18T23:45:49.414944Z",
     "start_time": "2022-12-18T23:45:49.285324Z"
    }
   },
   "outputs": [],
   "source": [
    "# Save all data into one pickle file for further preprocessing\n",
    "save_pickle(ratings.merge(movie, on = ['movieId']).merge(user, on=['userId']), \"rating_movie_user.pickle\")"
   ]
  }
 ],
 "metadata": {
  "kernelspec": {
   "display_name": "Python 3 (ipykernel)",
   "language": "python",
   "name": "python3"
  },
  "language_info": {
   "codemirror_mode": {
    "name": "ipython",
    "version": 3
   },
   "file_extension": ".py",
   "mimetype": "text/x-python",
   "name": "python",
   "nbconvert_exporter": "python",
   "pygments_lexer": "ipython3",
   "version": "3.9.12"
  },
  "toc": {
   "base_numbering": 1,
   "nav_menu": {},
   "number_sections": true,
   "sideBar": true,
   "skip_h1_title": false,
   "title_cell": "Table of Contents",
   "title_sidebar": "Contents",
   "toc_cell": false,
   "toc_position": {},
   "toc_section_display": true,
   "toc_window_display": false
  }
 },
 "nbformat": 4,
 "nbformat_minor": 5
}
